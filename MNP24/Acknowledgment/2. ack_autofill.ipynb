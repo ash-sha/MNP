{
 "cells": [
  {
   "cell_type": "markdown",
   "source": [
    "## Om Sakthi...Guruvadi Saranam!...Thiruvadi Saranam!\n",
    "\n",
    "## மக்கள் நல பணி 2024\n",
    "\n",
    "### Introduction\n",
    "This notebook serves the purpose of automating the generation of acknowledgment forms for beneficiaries by utilizing the information provided by them.\n",
    "\n",
    "### Prerequisites\n",
    "Before running the notebook, ensure you have the following:\n",
    "- **Python Environment**: Make sure you have Python installed on your system( or do so from here \"https://www.python.org/downloads/\") or use JupyterLab on Web which doesnt need system installation. .\n",
    "- **Editable PDF Form**: Prepare an editable PDF form using an online tool or Adobe Acrobat. The field names in the form should be readable programmatically.(www.docfly.com has a free version for 5 tries).  `acknowledgment stage_0.docx` is the base file which has the template of acknowledgment form. converted them to pdf and named it as `acknowledgment stage_1.pdf`. upload to the as mentioned pdf editors and manually drag and drop text boxes in the fillable areas and take note of text field names. then export them and named as  `acknowledgment stage_2.pdf`. this is the final file that can be used to autofill beneficiary detailes.\n",
    "\n",
    "\n",
    "### Code Explanation\n",
    "- **Data Processing**: The notebook reads beneficiary data from Excel files, processes it, and merges it to create a consolidated dataset. the `main_file_path` will have the path of the `Generated_token.xlsx` file.\n",
    "- **PDF Form Filling**: It extracts field names from the editable PDF form and then iterates through each beneficiary's data to fill the form fields accordingly.\n",
    "- **Output Generation**: The filled PDF forms are saved individually and then merged into a single PDF file for easier management in the `label_path` under name `all_acknowledgment.pdf`\n",
    "\n",
    "### Important Note\n",
    "- Ensure that the input data files are placed in the correct directory as specified in the notebook.\n",
    "- Make sure the editable PDF form used has fields with identifiable names for automated filling.Use appropriate names and note them while creating fillable PDF online\n",
    "- Review the output PDF files to ensure accuracy before distributing them to beneficiaries.\n"
   ],
   "metadata": {
    "collapsed": false
   }
  },
  {
   "cell_type": "code",
   "execution_count": 16,
   "outputs": [],
   "source": [
    "main_file_path = \"/Users/aswathshakthi/PycharmProjects/MNP24/Label/Final reports/Generated_token.xlsx\"\n",
    "label_path = \"/Users/aswathshakthi/PycharmProjects/MNP24/Acknowledgment/result/\""
   ],
   "metadata": {
    "collapsed": false
   }
  },
  {
   "cell_type": "markdown",
   "source": [
    "#### read the file from the defined path above. Select `Public` records."
   ],
   "metadata": {
    "collapsed": false
   }
  },
  {
   "cell_type": "code",
   "execution_count": 17,
   "outputs": [
    {
     "data": {
      "text/plain": "     Sl. No D /P / I Project / Article / Aid DISTRICT / NAME  \\\n20       22   Public                 Article      K.Eswaraan   \n21       23   Public                 Article  R.Dhanasekaran   \n26       26   Public                 Article    Senthilkumar   \n27       27   Public                 Article         Lalitha   \n33       35   Public                 Article     R.Saravanan   \n..      ...      ...                     ...             ...   \n420     440   Public                 Article     A.Muniammal   \n421     441   Public                 Article     A.keerthana   \n422     442   Public                 Article           P.Uma   \n423     443   Public                 Article      Abimeena U   \n424     444   Public                 Article      S Nagammal   \n\n       REQUESTED ARTICLE  Change QTY   Sequence list  Real QTY  \\\n20   Handicapped Scooter            1             19         1   \n21   Handicapped Scooter            1             19         1   \n26           Two wheeler            1             20         1   \n27           Two wheeler            1             20         1   \n33            Lenova Tab            1             23         1   \n..                   ...          ...            ...       ...   \n420          Girls Cycle            1            118         1   \n421          Girls Cycle            1            118         1   \n422          Girls Cycle            1            118         1   \n423          Girls Cycle            1            118         1   \n424          Girls Cycle            1            118         1   \n\n     Start Token No.  End Token No.  Token Print for ARTL App. No.  \n20                56             56                     1    P 079  \n21                57             57                     1    P 097  \n26                65             65                     1    P 048  \n27                66             66                     1    P 057  \n33                82             82                     1    P 060  \n..               ...            ...                   ...      ...  \n420             1073           1073                     1    P 120  \n421             1074           1074                     1    P 122  \n422             1075           1075                     1    P 123  \n423             1076           1076                     1    P 165  \n424             1077           1077                     1    P 171  \n\n[135 rows x 12 columns]",
      "text/html": "<div>\n<style scoped>\n    .dataframe tbody tr th:only-of-type {\n        vertical-align: middle;\n    }\n\n    .dataframe tbody tr th {\n        vertical-align: top;\n    }\n\n    .dataframe thead th {\n        text-align: right;\n    }\n</style>\n<table border=\"1\" class=\"dataframe\">\n  <thead>\n    <tr style=\"text-align: right;\">\n      <th></th>\n      <th>Sl. No</th>\n      <th>D /P / I</th>\n      <th>Project / Article / Aid</th>\n      <th>DISTRICT / NAME</th>\n      <th>REQUESTED ARTICLE</th>\n      <th>Change QTY</th>\n      <th>Sequence list</th>\n      <th>Real QTY</th>\n      <th>Start Token No.</th>\n      <th>End Token No.</th>\n      <th>Token Print for ARTL</th>\n      <th>App. No.</th>\n    </tr>\n  </thead>\n  <tbody>\n    <tr>\n      <th>20</th>\n      <td>22</td>\n      <td>Public</td>\n      <td>Article</td>\n      <td>K.Eswaraan</td>\n      <td>Handicapped Scooter</td>\n      <td>1</td>\n      <td>19</td>\n      <td>1</td>\n      <td>56</td>\n      <td>56</td>\n      <td>1</td>\n      <td>P 079</td>\n    </tr>\n    <tr>\n      <th>21</th>\n      <td>23</td>\n      <td>Public</td>\n      <td>Article</td>\n      <td>R.Dhanasekaran</td>\n      <td>Handicapped Scooter</td>\n      <td>1</td>\n      <td>19</td>\n      <td>1</td>\n      <td>57</td>\n      <td>57</td>\n      <td>1</td>\n      <td>P 097</td>\n    </tr>\n    <tr>\n      <th>26</th>\n      <td>26</td>\n      <td>Public</td>\n      <td>Article</td>\n      <td>Senthilkumar</td>\n      <td>Two wheeler</td>\n      <td>1</td>\n      <td>20</td>\n      <td>1</td>\n      <td>65</td>\n      <td>65</td>\n      <td>1</td>\n      <td>P 048</td>\n    </tr>\n    <tr>\n      <th>27</th>\n      <td>27</td>\n      <td>Public</td>\n      <td>Article</td>\n      <td>Lalitha</td>\n      <td>Two wheeler</td>\n      <td>1</td>\n      <td>20</td>\n      <td>1</td>\n      <td>66</td>\n      <td>66</td>\n      <td>1</td>\n      <td>P 057</td>\n    </tr>\n    <tr>\n      <th>33</th>\n      <td>35</td>\n      <td>Public</td>\n      <td>Article</td>\n      <td>R.Saravanan</td>\n      <td>Lenova Tab</td>\n      <td>1</td>\n      <td>23</td>\n      <td>1</td>\n      <td>82</td>\n      <td>82</td>\n      <td>1</td>\n      <td>P 060</td>\n    </tr>\n    <tr>\n      <th>...</th>\n      <td>...</td>\n      <td>...</td>\n      <td>...</td>\n      <td>...</td>\n      <td>...</td>\n      <td>...</td>\n      <td>...</td>\n      <td>...</td>\n      <td>...</td>\n      <td>...</td>\n      <td>...</td>\n      <td>...</td>\n    </tr>\n    <tr>\n      <th>420</th>\n      <td>440</td>\n      <td>Public</td>\n      <td>Article</td>\n      <td>A.Muniammal</td>\n      <td>Girls Cycle</td>\n      <td>1</td>\n      <td>118</td>\n      <td>1</td>\n      <td>1073</td>\n      <td>1073</td>\n      <td>1</td>\n      <td>P 120</td>\n    </tr>\n    <tr>\n      <th>421</th>\n      <td>441</td>\n      <td>Public</td>\n      <td>Article</td>\n      <td>A.keerthana</td>\n      <td>Girls Cycle</td>\n      <td>1</td>\n      <td>118</td>\n      <td>1</td>\n      <td>1074</td>\n      <td>1074</td>\n      <td>1</td>\n      <td>P 122</td>\n    </tr>\n    <tr>\n      <th>422</th>\n      <td>442</td>\n      <td>Public</td>\n      <td>Article</td>\n      <td>P.Uma</td>\n      <td>Girls Cycle</td>\n      <td>1</td>\n      <td>118</td>\n      <td>1</td>\n      <td>1075</td>\n      <td>1075</td>\n      <td>1</td>\n      <td>P 123</td>\n    </tr>\n    <tr>\n      <th>423</th>\n      <td>443</td>\n      <td>Public</td>\n      <td>Article</td>\n      <td>Abimeena U</td>\n      <td>Girls Cycle</td>\n      <td>1</td>\n      <td>118</td>\n      <td>1</td>\n      <td>1076</td>\n      <td>1076</td>\n      <td>1</td>\n      <td>P 165</td>\n    </tr>\n    <tr>\n      <th>424</th>\n      <td>444</td>\n      <td>Public</td>\n      <td>Article</td>\n      <td>S Nagammal</td>\n      <td>Girls Cycle</td>\n      <td>1</td>\n      <td>118</td>\n      <td>1</td>\n      <td>1077</td>\n      <td>1077</td>\n      <td>1</td>\n      <td>P 171</td>\n    </tr>\n  </tbody>\n</table>\n<p>135 rows × 12 columns</p>\n</div>"
     },
     "execution_count": 17,
     "metadata": {},
     "output_type": "execute_result"
    }
   ],
   "source": [
    "import pandas as pd\n",
    "data = pd.read_excel(main_file_path)\n",
    "data[\"DISTRICT / NAME\"] = data[\"DISTRICT / NAME\"].str.replace(\"P 021 Sri Ramakrishna Athmalayam\",\"P 021 - Sri Ramakrishna Athmalayam\")\n",
    "data[['App. No.', 'DISTRICT / NAME']] = data['DISTRICT / NAME'].str.split(' - ', expand=True)\n",
    "\n",
    "data = data[data[\"D /P / I\"]==\"Public\"]\n",
    "data"
   ],
   "metadata": {
    "collapsed": false
   }
  },
  {
   "cell_type": "markdown",
   "source": [
    "##### Add the path of beneficiary details in excel, also sheet name should be mentioned"
   ],
   "metadata": {
    "collapsed": false
   }
  },
  {
   "cell_type": "code",
   "execution_count": 18,
   "outputs": [
    {
     "data": {
      "text/plain": "    App. No.        Aadhar                        Name  \\\n0      P 021             0  Sri Ramakrishna Athmalayam   \n1      P 022  983903078456                   Muniammal   \n2      P 024  574234930127                  D.Rajamani   \n3      P 025  968582816938                 N.Soundarya   \n4      P 026  440497379138                   E.Thangam   \n..       ...           ...                         ...   \n128    P 159  782979049402           Rajeswari Murugan   \n129    P 160  999495896053                    D.Ramesh   \n130    P 161  570743390326                  S.Gkomathi   \n131    P 162  259184932037                      G.Kala   \n132    P 163  741922311245               P.Singaravelu   \n\n                                               Address      Mobile  \n0        Kammavar Palayam Road, Sholavaram, Chennai 67  9884894335  \n1        79,VeeramaNallur, Semmedu, Villupuram 604 153  9342725341  \n2    28/14 Kanniappa Gramani Nagar 2nd St, Kaladipe...  7305301104  \n3                                Kandakariyam, Tanjore  8270654255  \n4    4/34Venbuliamman Koil St, Vandalur, Chennai 60...  7845699984  \n..                                                 ...         ...  \n128           5/56 Kabilar St, Otteri Pirivu, Vandalur  9952922466  \n129                52 Mettu St, Bolur, Thiruvannamalai  7395843049  \n130          Chinnamman Koil St, Avadi, Chennai 600054  9003052745  \n131       69, 4th St, Sarma Nagar, Vyasarpadi, Chennai  6380948390  \n132                               Pattukottai, Tanjore  8012647090  \n\n[133 rows x 5 columns]",
      "text/html": "<div>\n<style scoped>\n    .dataframe tbody tr th:only-of-type {\n        vertical-align: middle;\n    }\n\n    .dataframe tbody tr th {\n        vertical-align: top;\n    }\n\n    .dataframe thead th {\n        text-align: right;\n    }\n</style>\n<table border=\"1\" class=\"dataframe\">\n  <thead>\n    <tr style=\"text-align: right;\">\n      <th></th>\n      <th>App. No.</th>\n      <th>Aadhar</th>\n      <th>Name</th>\n      <th>Address</th>\n      <th>Mobile</th>\n    </tr>\n  </thead>\n  <tbody>\n    <tr>\n      <th>0</th>\n      <td>P 021</td>\n      <td>0</td>\n      <td>Sri Ramakrishna Athmalayam</td>\n      <td>Kammavar Palayam Road, Sholavaram, Chennai 67</td>\n      <td>9884894335</td>\n    </tr>\n    <tr>\n      <th>1</th>\n      <td>P 022</td>\n      <td>983903078456</td>\n      <td>Muniammal</td>\n      <td>79,VeeramaNallur, Semmedu, Villupuram 604 153</td>\n      <td>9342725341</td>\n    </tr>\n    <tr>\n      <th>2</th>\n      <td>P 024</td>\n      <td>574234930127</td>\n      <td>D.Rajamani</td>\n      <td>28/14 Kanniappa Gramani Nagar 2nd St, Kaladipe...</td>\n      <td>7305301104</td>\n    </tr>\n    <tr>\n      <th>3</th>\n      <td>P 025</td>\n      <td>968582816938</td>\n      <td>N.Soundarya</td>\n      <td>Kandakariyam, Tanjore</td>\n      <td>8270654255</td>\n    </tr>\n    <tr>\n      <th>4</th>\n      <td>P 026</td>\n      <td>440497379138</td>\n      <td>E.Thangam</td>\n      <td>4/34Venbuliamman Koil St, Vandalur, Chennai 60...</td>\n      <td>7845699984</td>\n    </tr>\n    <tr>\n      <th>...</th>\n      <td>...</td>\n      <td>...</td>\n      <td>...</td>\n      <td>...</td>\n      <td>...</td>\n    </tr>\n    <tr>\n      <th>128</th>\n      <td>P 159</td>\n      <td>782979049402</td>\n      <td>Rajeswari Murugan</td>\n      <td>5/56 Kabilar St, Otteri Pirivu, Vandalur</td>\n      <td>9952922466</td>\n    </tr>\n    <tr>\n      <th>129</th>\n      <td>P 160</td>\n      <td>999495896053</td>\n      <td>D.Ramesh</td>\n      <td>52 Mettu St, Bolur, Thiruvannamalai</td>\n      <td>7395843049</td>\n    </tr>\n    <tr>\n      <th>130</th>\n      <td>P 161</td>\n      <td>570743390326</td>\n      <td>S.Gkomathi</td>\n      <td>Chinnamman Koil St, Avadi, Chennai 600054</td>\n      <td>9003052745</td>\n    </tr>\n    <tr>\n      <th>131</th>\n      <td>P 162</td>\n      <td>259184932037</td>\n      <td>G.Kala</td>\n      <td>69, 4th St, Sarma Nagar, Vyasarpadi, Chennai</td>\n      <td>6380948390</td>\n    </tr>\n    <tr>\n      <th>132</th>\n      <td>P 163</td>\n      <td>741922311245</td>\n      <td>P.Singaravelu</td>\n      <td>Pattukottai, Tanjore</td>\n      <td>8012647090</td>\n    </tr>\n  </tbody>\n</table>\n<p>133 rows × 5 columns</p>\n</div>"
     },
     "execution_count": 18,
     "metadata": {},
     "output_type": "execute_result"
    }
   ],
   "source": [
    "p_data = pd.read_excel(\"/Users/aswathshakthi/PycharmProjects/MNP24/Acknowledgment/data/DISTRICT AND PUBLIC DATA BASE 31012024.xlsx\",sheet_name=\"PUBLIC\")\n",
    "p_data = p_data[[\"App. No.\",\"Aadhar\",\"Name\",\"Address\",\"Mobile\"]]\n",
    "p_data"
   ],
   "metadata": {
    "collapsed": false
   }
  },
  {
   "cell_type": "markdown",
   "source": [
    "##### Finally save the file to the path mentioned below or edit to your desired path."
   ],
   "metadata": {
    "collapsed": false
   }
  },
  {
   "cell_type": "code",
   "execution_count": 19,
   "outputs": [],
   "source": [
    "data.merge(p_data,how='left',on=\"App. No.\").to_excel(\"/Users/aswathshakthi/PycharmProjects/MNP24/Acknowledgment/data/Beneficiary_list.xlsx\",index=False)\n"
   ],
   "metadata": {
    "collapsed": false
   }
  },
  {
   "cell_type": "markdown",
   "source": [
    "##### This adds 0 to missing data and converts numbers to numbers and texts to texts format"
   ],
   "metadata": {
    "collapsed": false
   }
  },
  {
   "cell_type": "code",
   "execution_count": 20,
   "outputs": [
    {
     "data": {
      "text/plain": "     Sl. No D /P / I Project / Article / Aid DISTRICT / NAME  \\\n0        22   Public                 Article      K.Eswaraan   \n1        23   Public                 Article  R.Dhanasekaran   \n2        26   Public                 Article    Senthilkumar   \n3        27   Public                 Article         Lalitha   \n4        35   Public                 Article     R.Saravanan   \n..      ...      ...                     ...             ...   \n130     440   Public                 Article     A.Muniammal   \n131     441   Public                 Article     A.keerthana   \n132     442   Public                 Article           P.Uma   \n133     443   Public                 Article      Abimeena U   \n134     444   Public                 Article      S Nagammal   \n\n       REQUESTED ARTICLE  Change QTY   Sequence list  Real QTY  \\\n0    Handicapped Scooter            1             19         1   \n1    Handicapped Scooter            1             19         1   \n2            Two wheeler            1             20         1   \n3            Two wheeler            1             20         1   \n4             Lenova Tab            1             23         1   \n..                   ...          ...            ...       ...   \n130          Girls Cycle            1            118         1   \n131          Girls Cycle            1            118         1   \n132          Girls Cycle            1            118         1   \n133          Girls Cycle            1            118         1   \n134          Girls Cycle            1            118         1   \n\n     Start Token No.  End Token No.  Token Print for ARTL App. No.  \\\n0                 56             56                     1    P 079   \n1                 57             57                     1    P 097   \n2                 65             65                     1    P 048   \n3                 66             66                     1    P 057   \n4                 82             82                     1    P 060   \n..               ...            ...                   ...      ...   \n130             1073           1073                     1    P 120   \n131             1074           1074                     1    P 122   \n132             1075           1075                     1    P 123   \n133             1076           1076                     1    P 165   \n134             1077           1077                     1    P 171   \n\n           Aadhar            Name  \\\n0    880008808960      K.Eswaraan   \n1    293196203825  R.Dhanasekaran   \n2    469823655677    Senthilkumar   \n3    822512261793         Lalitha   \n4    365256851671     R.Saravanan   \n..            ...             ...   \n130  691544883507     A.Muniammal   \n131  994189467928     A.keerthana   \n132  441456953579           P.Uma   \n133             0             NaN   \n134             0             NaN   \n\n                                               Address      Mobile  \n0               30 Samayan Koil St,  Vandiyur, Madurai  9791497523  \n1    1-118Bramanar St, Anmaruthai PO, Thiruvannamal...  9791065580  \n2                                    GB Nagar, Kalavai  9786865280  \n3     18/39 Thirumalaiappan St, Purasaivakkam, Chennai  9345136363  \n4    11-9-1F Velliyan Chettiyar St, Aandipatti,  62...  8124837667  \n..                                                 ...         ...  \n130                             4th St, Venkatesapuram  9942796797  \n131  venkatesapuram Village, Acharapakkam PO, Cheng...  9345825969  \n132       Pakkam Village, Madhuranthagam TK Chenglepat  9942539840  \n133                                                Add           0  \n134                                                Add           0  \n\n[135 rows x 16 columns]",
      "text/html": "<div>\n<style scoped>\n    .dataframe tbody tr th:only-of-type {\n        vertical-align: middle;\n    }\n\n    .dataframe tbody tr th {\n        vertical-align: top;\n    }\n\n    .dataframe thead th {\n        text-align: right;\n    }\n</style>\n<table border=\"1\" class=\"dataframe\">\n  <thead>\n    <tr style=\"text-align: right;\">\n      <th></th>\n      <th>Sl. No</th>\n      <th>D /P / I</th>\n      <th>Project / Article / Aid</th>\n      <th>DISTRICT / NAME</th>\n      <th>REQUESTED ARTICLE</th>\n      <th>Change QTY</th>\n      <th>Sequence list</th>\n      <th>Real QTY</th>\n      <th>Start Token No.</th>\n      <th>End Token No.</th>\n      <th>Token Print for ARTL</th>\n      <th>App. No.</th>\n      <th>Aadhar</th>\n      <th>Name</th>\n      <th>Address</th>\n      <th>Mobile</th>\n    </tr>\n  </thead>\n  <tbody>\n    <tr>\n      <th>0</th>\n      <td>22</td>\n      <td>Public</td>\n      <td>Article</td>\n      <td>K.Eswaraan</td>\n      <td>Handicapped Scooter</td>\n      <td>1</td>\n      <td>19</td>\n      <td>1</td>\n      <td>56</td>\n      <td>56</td>\n      <td>1</td>\n      <td>P 079</td>\n      <td>880008808960</td>\n      <td>K.Eswaraan</td>\n      <td>30 Samayan Koil St,  Vandiyur, Madurai</td>\n      <td>9791497523</td>\n    </tr>\n    <tr>\n      <th>1</th>\n      <td>23</td>\n      <td>Public</td>\n      <td>Article</td>\n      <td>R.Dhanasekaran</td>\n      <td>Handicapped Scooter</td>\n      <td>1</td>\n      <td>19</td>\n      <td>1</td>\n      <td>57</td>\n      <td>57</td>\n      <td>1</td>\n      <td>P 097</td>\n      <td>293196203825</td>\n      <td>R.Dhanasekaran</td>\n      <td>1-118Bramanar St, Anmaruthai PO, Thiruvannamal...</td>\n      <td>9791065580</td>\n    </tr>\n    <tr>\n      <th>2</th>\n      <td>26</td>\n      <td>Public</td>\n      <td>Article</td>\n      <td>Senthilkumar</td>\n      <td>Two wheeler</td>\n      <td>1</td>\n      <td>20</td>\n      <td>1</td>\n      <td>65</td>\n      <td>65</td>\n      <td>1</td>\n      <td>P 048</td>\n      <td>469823655677</td>\n      <td>Senthilkumar</td>\n      <td>GB Nagar, Kalavai</td>\n      <td>9786865280</td>\n    </tr>\n    <tr>\n      <th>3</th>\n      <td>27</td>\n      <td>Public</td>\n      <td>Article</td>\n      <td>Lalitha</td>\n      <td>Two wheeler</td>\n      <td>1</td>\n      <td>20</td>\n      <td>1</td>\n      <td>66</td>\n      <td>66</td>\n      <td>1</td>\n      <td>P 057</td>\n      <td>822512261793</td>\n      <td>Lalitha</td>\n      <td>18/39 Thirumalaiappan St, Purasaivakkam, Chennai</td>\n      <td>9345136363</td>\n    </tr>\n    <tr>\n      <th>4</th>\n      <td>35</td>\n      <td>Public</td>\n      <td>Article</td>\n      <td>R.Saravanan</td>\n      <td>Lenova Tab</td>\n      <td>1</td>\n      <td>23</td>\n      <td>1</td>\n      <td>82</td>\n      <td>82</td>\n      <td>1</td>\n      <td>P 060</td>\n      <td>365256851671</td>\n      <td>R.Saravanan</td>\n      <td>11-9-1F Velliyan Chettiyar St, Aandipatti,  62...</td>\n      <td>8124837667</td>\n    </tr>\n    <tr>\n      <th>...</th>\n      <td>...</td>\n      <td>...</td>\n      <td>...</td>\n      <td>...</td>\n      <td>...</td>\n      <td>...</td>\n      <td>...</td>\n      <td>...</td>\n      <td>...</td>\n      <td>...</td>\n      <td>...</td>\n      <td>...</td>\n      <td>...</td>\n      <td>...</td>\n      <td>...</td>\n      <td>...</td>\n    </tr>\n    <tr>\n      <th>130</th>\n      <td>440</td>\n      <td>Public</td>\n      <td>Article</td>\n      <td>A.Muniammal</td>\n      <td>Girls Cycle</td>\n      <td>1</td>\n      <td>118</td>\n      <td>1</td>\n      <td>1073</td>\n      <td>1073</td>\n      <td>1</td>\n      <td>P 120</td>\n      <td>691544883507</td>\n      <td>A.Muniammal</td>\n      <td>4th St, Venkatesapuram</td>\n      <td>9942796797</td>\n    </tr>\n    <tr>\n      <th>131</th>\n      <td>441</td>\n      <td>Public</td>\n      <td>Article</td>\n      <td>A.keerthana</td>\n      <td>Girls Cycle</td>\n      <td>1</td>\n      <td>118</td>\n      <td>1</td>\n      <td>1074</td>\n      <td>1074</td>\n      <td>1</td>\n      <td>P 122</td>\n      <td>994189467928</td>\n      <td>A.keerthana</td>\n      <td>venkatesapuram Village, Acharapakkam PO, Cheng...</td>\n      <td>9345825969</td>\n    </tr>\n    <tr>\n      <th>132</th>\n      <td>442</td>\n      <td>Public</td>\n      <td>Article</td>\n      <td>P.Uma</td>\n      <td>Girls Cycle</td>\n      <td>1</td>\n      <td>118</td>\n      <td>1</td>\n      <td>1075</td>\n      <td>1075</td>\n      <td>1</td>\n      <td>P 123</td>\n      <td>441456953579</td>\n      <td>P.Uma</td>\n      <td>Pakkam Village, Madhuranthagam TK Chenglepat</td>\n      <td>9942539840</td>\n    </tr>\n    <tr>\n      <th>133</th>\n      <td>443</td>\n      <td>Public</td>\n      <td>Article</td>\n      <td>Abimeena U</td>\n      <td>Girls Cycle</td>\n      <td>1</td>\n      <td>118</td>\n      <td>1</td>\n      <td>1076</td>\n      <td>1076</td>\n      <td>1</td>\n      <td>P 165</td>\n      <td>0</td>\n      <td>NaN</td>\n      <td>Add</td>\n      <td>0</td>\n    </tr>\n    <tr>\n      <th>134</th>\n      <td>444</td>\n      <td>Public</td>\n      <td>Article</td>\n      <td>S Nagammal</td>\n      <td>Girls Cycle</td>\n      <td>1</td>\n      <td>118</td>\n      <td>1</td>\n      <td>1077</td>\n      <td>1077</td>\n      <td>1</td>\n      <td>P 171</td>\n      <td>0</td>\n      <td>NaN</td>\n      <td>Add</td>\n      <td>0</td>\n    </tr>\n  </tbody>\n</table>\n<p>135 rows × 16 columns</p>\n</div>"
     },
     "execution_count": 20,
     "metadata": {},
     "output_type": "execute_result"
    }
   ],
   "source": [
    "data= pd.read_excel(\"/Users/aswathshakthi/PycharmProjects/MNP24/Acknowledgment/data/Beneficiary_list.xlsx\")\n",
    "data[\"Aadhar\"] = data[\"Aadhar\"].fillna(0)\n",
    "data[\"Mobile\"] = data[\"Mobile\"].fillna(0)\n",
    "data[\"Address\"] = data[\"Address\"].fillna(\"Add\")\n",
    "data[\"Aadhar\"] = data[\"Aadhar\"].astype(int)\n",
    "data[\"Mobile\"] = data[\"Mobile\"].astype(int)\n",
    "data"
   ],
   "metadata": {
    "collapsed": false
   }
  },
  {
   "cell_type": "markdown",
   "source": [
    "##### This gives the name of PDF text fields. use this to link data accordingly"
   ],
   "metadata": {
    "collapsed": false
   }
  },
  {
   "cell_type": "code",
   "execution_count": 21,
   "outputs": [
    {
     "name": "stdout",
     "output_type": "stream",
     "text": [
      "district\n",
      "appno\n",
      "token\n",
      "Name\n",
      "address\n",
      "phone\n",
      "aadhar\n",
      "artice\n"
     ]
    }
   ],
   "source": [
    "# get Field names\n",
    "\n",
    "from fillpdf import fillpdfs\n",
    "\n",
    "# Get form fields from the PDF\n",
    "form_fields = fillpdfs.get_form_fields(\"data/acknowledgment stage_2.pdf\")\n",
    "\n",
    "# Print field names\n",
    "for field_name in form_fields.keys():\n",
    "    print(field_name)\n"
   ],
   "metadata": {
    "collapsed": false
   }
  },
  {
   "cell_type": "markdown",
   "source": [
    "#### in Line 17, change the path to where to store your results. it shouldn't contain another files except this. in line 18, mention the path of the `acknowledgment stage_2.pdf` file.in line 26, add the path where you save your result. the output will be saved in the folder under name `all_acknowledgment.pdf`"
   ],
   "metadata": {
    "collapsed": false
   }
  },
  {
   "cell_type": "code",
   "execution_count": 22,
   "outputs": [],
   "source": [
    "\n",
    "\n",
    "import pandas as pd\n",
    "from fillpdf import fillpdfs\n",
    "import PyPDF2\n",
    "import os\n",
    "# Define a function to fill PDF for each row\n",
    "def fill_pdf_for_row(row):\n",
    "    data_dict = {\n",
    "        # 'district': row['District'],\n",
    "        'address': row['Address'],\n",
    "        'Name': row['DISTRICT / NAME'],\n",
    "        'appno': row['App. No.'],\n",
    "        'token': row['Start Token No.'],\n",
    "        'phone': row['Mobile'],\n",
    "        'aadhar': row['Aadhar'],\n",
    "        'artice': row['REQUESTED ARTICLE']\n",
    "    }\n",
    "    filled_pdf_path = f\"/Users/aswathshakthi/PycharmProjects/MNP24/Acknowledgment/result/{row['Start Token No.']}_filled.pdf\"  # Output path for each filled PDF\n",
    "    fillpdfs.write_fillable_pdf('/Users/aswathshakthi/PycharmProjects/MNP24/Acknowledgment/data/acknowledgment stage_2.pdf', filled_pdf_path, data_dict)\n",
    "\n",
    "    return filled_pdf_path\n",
    "\n",
    "# Apply the function to each row and get list of filled PDF paths\n",
    "filled_pdf_paths = data.apply(fill_pdf_for_row, axis=1).tolist()\n",
    "\n",
    "# Merge all filled PDFs into a single PDF file\n",
    "merged_pdf_path = \"/Users/aswathshakthi/PycharmProjects/MNP24/Acknowledgment/result/all_acknowledgment.pdf\"\n",
    "with open(merged_pdf_path, \"wb\") as output_pdf:\n",
    "    merger = PyPDF2.PdfMerger()\n",
    "    for pdf_path in filled_pdf_paths:\n",
    "        merger.append(pdf_path)\n",
    "    merger.write(output_pdf)\n",
    "\n",
    "# Delete individual filled PDFs\n",
    "for pdf_path in filled_pdf_paths:\n",
    "    os.remove(pdf_path)\n"
   ],
   "metadata": {
    "collapsed": false
   }
  },
  {
   "cell_type": "code",
   "execution_count": 15,
   "outputs": [],
   "source": [],
   "metadata": {
    "collapsed": false
   }
  }
 ],
 "metadata": {
  "kernelspec": {
   "display_name": "Python 3",
   "language": "python",
   "name": "python3"
  },
  "language_info": {
   "codemirror_mode": {
    "name": "ipython",
    "version": 2
   },
   "file_extension": ".py",
   "mimetype": "text/x-python",
   "name": "python",
   "nbconvert_exporter": "python",
   "pygments_lexer": "ipython2",
   "version": "2.7.6"
  }
 },
 "nbformat": 4,
 "nbformat_minor": 0
}
