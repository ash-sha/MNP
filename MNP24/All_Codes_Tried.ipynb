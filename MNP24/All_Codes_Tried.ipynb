{
 "cells": [
  {
   "cell_type": "code",
   "execution_count": null,
   "metadata": {
    "collapsed": true
   },
   "outputs": [],
   "source": []
  },
  {
   "cell_type": "markdown",
   "source": [
    "## Om Sakthi! Guruvadi Saranam! Thiruvadi Saranam!"
   ],
   "metadata": {
    "collapsed": false
   }
  },
  {
   "cell_type": "markdown",
   "source": [
    "### Installs Required packages"
   ],
   "metadata": {
    "collapsed": false
   }
  },
  {
   "cell_type": "code",
   "execution_count": 113,
   "outputs": [],
   "source": [
    "# !pip install pandas\n",
    "# !pip install reportlab\n",
    "# !pip install regex\n",
    "\n",
    "# please add # (hash) before each line after it ran. otherwise, the packages will keep installing again and again"
   ],
   "metadata": {
    "collapsed": false
   }
  },
  {
   "cell_type": "markdown",
   "source": [
    "### Import required packages"
   ],
   "metadata": {
    "collapsed": false
   }
  },
  {
   "cell_type": "code",
   "execution_count": 114,
   "outputs": [],
   "source": [
    "import warnings\n",
    "from reportlab.lib.pagesizes import portrait, A4\n",
    "from reportlab.lib.units import mm\n",
    "from reportlab.pdfgen import canvas\n",
    "from reportlab.lib.styles import ParagraphStyle\n",
    "from reportlab.platypus import Paragraph\n",
    "import re\n",
    "import pandas as pd\n",
    "warnings.filterwarnings('ignore')"
   ],
   "metadata": {
    "collapsed": false
   }
  },
  {
   "cell_type": "markdown",
   "source": [
    "### Input the name of the file along with the file path in the computer"
   ],
   "metadata": {
    "collapsed": false
   }
  },
  {
   "cell_type": "code",
   "execution_count": 115,
   "outputs": [],
   "source": [
    "master_file_path = \"data/MNP Master Data Filter 2024-V4-01032024.xlsx\"  #input file name along with path\n",
    "sheet_name = \"Total MNP-Master Data Token\"                           #input sheet name"
   ],
   "metadata": {
    "collapsed": false
   }
  },
  {
   "cell_type": "markdown",
   "source": [
    "### Reads the Master data file"
   ],
   "metadata": {
    "collapsed": false
   }
  },
  {
   "cell_type": "code",
   "execution_count": 116,
   "outputs": [
    {
     "data": {
      "text/plain": "     Sl. No  D /P / I Project / Article / Aid      DISTRICT / NAME  \\\n0         1  District                 Project          Tirunelveli   \n1         2  District                 Project           Tuticurion   \n2         3  District                 Project      Chittor - Urban   \n3         4  District                 Project            Karnataka   \n4         5  District                 Project                Erode   \n..      ...       ...                     ...                  ...   \n446     440    Public                 Article  P 120 - A.Muniammal   \n447     441    Public                 Article  P 122 - A.keerthana   \n448     442    Public                 Article        P 123 - P.Uma   \n449     443    Public                 Article   P 165 - Abimeena U   \n450     444    Public                 Article   P 171 - S Nagammal   \n\n           REQUESTED ARTICLE  Change QTY   Sequence list  Real QTY  \n0        Project Tirunelveli           11              1        75  \n1         Project Tuticurion           11              1        57  \n2    Project Chittor - Urban            2              2         2  \n3          Project Karnataka            2              3         2  \n4              Project Erode            1              4         1  \n..                       ...          ...            ...       ...  \n446              Girls Cycle            1            118         1  \n447              Girls Cycle            1            118         1  \n448              Girls Cycle            1            118         1  \n449              Girls Cycle            1            118         1  \n450              Girls Cycle            1            118         1  \n\n[425 rows x 8 columns]",
      "text/html": "<div>\n<style scoped>\n    .dataframe tbody tr th:only-of-type {\n        vertical-align: middle;\n    }\n\n    .dataframe tbody tr th {\n        vertical-align: top;\n    }\n\n    .dataframe thead th {\n        text-align: right;\n    }\n</style>\n<table border=\"1\" class=\"dataframe\">\n  <thead>\n    <tr style=\"text-align: right;\">\n      <th></th>\n      <th>Sl. No</th>\n      <th>D /P / I</th>\n      <th>Project / Article / Aid</th>\n      <th>DISTRICT / NAME</th>\n      <th>REQUESTED ARTICLE</th>\n      <th>Change QTY</th>\n      <th>Sequence list</th>\n      <th>Real QTY</th>\n    </tr>\n  </thead>\n  <tbody>\n    <tr>\n      <th>0</th>\n      <td>1</td>\n      <td>District</td>\n      <td>Project</td>\n      <td>Tirunelveli</td>\n      <td>Project Tirunelveli</td>\n      <td>11</td>\n      <td>1</td>\n      <td>75</td>\n    </tr>\n    <tr>\n      <th>1</th>\n      <td>2</td>\n      <td>District</td>\n      <td>Project</td>\n      <td>Tuticurion</td>\n      <td>Project Tuticurion</td>\n      <td>11</td>\n      <td>1</td>\n      <td>57</td>\n    </tr>\n    <tr>\n      <th>2</th>\n      <td>3</td>\n      <td>District</td>\n      <td>Project</td>\n      <td>Chittor - Urban</td>\n      <td>Project Chittor - Urban</td>\n      <td>2</td>\n      <td>2</td>\n      <td>2</td>\n    </tr>\n    <tr>\n      <th>3</th>\n      <td>4</td>\n      <td>District</td>\n      <td>Project</td>\n      <td>Karnataka</td>\n      <td>Project Karnataka</td>\n      <td>2</td>\n      <td>3</td>\n      <td>2</td>\n    </tr>\n    <tr>\n      <th>4</th>\n      <td>5</td>\n      <td>District</td>\n      <td>Project</td>\n      <td>Erode</td>\n      <td>Project Erode</td>\n      <td>1</td>\n      <td>4</td>\n      <td>1</td>\n    </tr>\n    <tr>\n      <th>...</th>\n      <td>...</td>\n      <td>...</td>\n      <td>...</td>\n      <td>...</td>\n      <td>...</td>\n      <td>...</td>\n      <td>...</td>\n      <td>...</td>\n    </tr>\n    <tr>\n      <th>446</th>\n      <td>440</td>\n      <td>Public</td>\n      <td>Article</td>\n      <td>P 120 - A.Muniammal</td>\n      <td>Girls Cycle</td>\n      <td>1</td>\n      <td>118</td>\n      <td>1</td>\n    </tr>\n    <tr>\n      <th>447</th>\n      <td>441</td>\n      <td>Public</td>\n      <td>Article</td>\n      <td>P 122 - A.keerthana</td>\n      <td>Girls Cycle</td>\n      <td>1</td>\n      <td>118</td>\n      <td>1</td>\n    </tr>\n    <tr>\n      <th>448</th>\n      <td>442</td>\n      <td>Public</td>\n      <td>Article</td>\n      <td>P 123 - P.Uma</td>\n      <td>Girls Cycle</td>\n      <td>1</td>\n      <td>118</td>\n      <td>1</td>\n    </tr>\n    <tr>\n      <th>449</th>\n      <td>443</td>\n      <td>Public</td>\n      <td>Article</td>\n      <td>P 165 - Abimeena U</td>\n      <td>Girls Cycle</td>\n      <td>1</td>\n      <td>118</td>\n      <td>1</td>\n    </tr>\n    <tr>\n      <th>450</th>\n      <td>444</td>\n      <td>Public</td>\n      <td>Article</td>\n      <td>P 171 - S Nagammal</td>\n      <td>Girls Cycle</td>\n      <td>1</td>\n      <td>118</td>\n      <td>1</td>\n    </tr>\n  </tbody>\n</table>\n<p>425 rows × 8 columns</p>\n</div>"
     },
     "execution_count": 116,
     "metadata": {},
     "output_type": "execute_result"
    }
   ],
   "source": [
    "data = pd.read_excel(master_file_path,sheet_name=sheet_name).sort_values(by=[\"Sequence list\",\"D /P / I\",\"DISTRICT / NAME\"],ascending=True,ignore_index=True)\n",
    "data = data[data[\"D /P / I\"]!=\"Panchyat\"]\n",
    "data\n",
    "# in order of sequence, then beneficiary type :district, then name of beneficiary in ascending. * Institute and Public should be in bottom of sequenec and beneficiary type."
   ],
   "metadata": {
    "collapsed": false
   }
  },
  {
   "cell_type": "code",
   "execution_count": 117,
   "outputs": [
    {
     "data": {
      "text/plain": "             0\n0   Sequence 1\n1   Sequence 4\n2  Sequence 35\n3  Sequence 40\n4  Sequence 41\n5  Sequence 80\n6  Sequence 95",
      "text/html": "<div>\n<style scoped>\n    .dataframe tbody tr th:only-of-type {\n        vertical-align: middle;\n    }\n\n    .dataframe tbody tr th {\n        vertical-align: top;\n    }\n\n    .dataframe thead th {\n        text-align: right;\n    }\n</style>\n<table border=\"1\" class=\"dataframe\">\n  <thead>\n    <tr style=\"text-align: right;\">\n      <th></th>\n      <th>0</th>\n    </tr>\n  </thead>\n  <tbody>\n    <tr>\n      <th>0</th>\n      <td>Sequence 1</td>\n    </tr>\n    <tr>\n      <th>1</th>\n      <td>Sequence 4</td>\n    </tr>\n    <tr>\n      <th>2</th>\n      <td>Sequence 35</td>\n    </tr>\n    <tr>\n      <th>3</th>\n      <td>Sequence 40</td>\n    </tr>\n    <tr>\n      <th>4</th>\n      <td>Sequence 41</td>\n    </tr>\n    <tr>\n      <th>5</th>\n      <td>Sequence 80</td>\n    </tr>\n    <tr>\n      <th>6</th>\n      <td>Sequence 95</td>\n    </tr>\n  </tbody>\n</table>\n</div>"
     },
     "execution_count": 117,
     "metadata": {},
     "output_type": "execute_result"
    }
   ],
   "source": [
    "## check if the sequence number has more than one article/project/aid\n",
    "# if its repeated. change the seq number\n",
    "list = data[\"Sequence list\"].unique()\n",
    "Note=pd.DataFrame()\n",
    "for i in list:\n",
    "\n",
    "    if data[data[\"Sequence list\"]==i][\"REQUESTED ARTICLE\"].nunique() == 1:\n",
    "        pass\n",
    "    else:\n",
    "        Note = Note.append([(\"Sequence \"+str(i))],ignore_index=True)\n",
    "Note"
   ],
   "metadata": {
    "collapsed": false
   }
  },
  {
   "cell_type": "code",
   "execution_count": 118,
   "outputs": [
    {
     "data": {
      "text/plain": "Empty DataFrame\nColumns: []\nIndex: []",
      "text/html": "<div>\n<style scoped>\n    .dataframe tbody tr th:only-of-type {\n        vertical-align: middle;\n    }\n\n    .dataframe tbody tr th {\n        vertical-align: top;\n    }\n\n    .dataframe thead th {\n        text-align: right;\n    }\n</style>\n<table border=\"1\" class=\"dataframe\">\n  <thead>\n    <tr style=\"text-align: right;\">\n      <th></th>\n    </tr>\n  </thead>\n  <tbody>\n  </tbody>\n</table>\n</div>"
     },
     "execution_count": 118,
     "metadata": {},
     "output_type": "execute_result"
    }
   ],
   "source": [
    "list = data[\"REQUESTED ARTICLE\"].unique()\n",
    "Note=pd.DataFrame()\n",
    "for i in list:\n",
    "\n",
    "    if data[data[\"REQUESTED ARTICLE\"]==i][\"Sequence list\"].nunique() == 1:\n",
    "        pass\n",
    "    else:\n",
    "        Note = Note.append([i],ignore_index=True)\n",
    "Note"
   ],
   "metadata": {
    "collapsed": false
   }
  },
  {
   "cell_type": "code",
   "execution_count": 119,
   "outputs": [
    {
     "data": {
      "text/plain": "array(['Tirunelveli', 'Tuticurion', 'Chittor - Urban', 'Karnataka',\n       'Erode', 'Tiruchi', 'I 008-Anbu Thondu Illam', 'Krishnagiri North',\n       'Kerala -b.Palaghat', 'Ariyalur', 'Chittor - Rural', 'Madurai',\n       'Tanjavur', 'Ramnad', 'Theni', 'Virudhu nagar', 'Puducherry',\n       'Villupuram', 'I 009-MASM', 'Chennai South', 'P 079 - K.Eswaraan',\n       'P 097 - R.Dhanasekaran', 'Coimbatore', 'P 048 - Senthilkumar',\n       'P 057 - Lalitha', 'Salem', 'Cuddalore', 'Dindugal',\n       'Krishnagiri South', 'Namakkal', 'P 060 - R.Saravanan',\n       'P 135 - M.Kumar', 'Chennai North', 'Chennai central',\n       'Dharmapuri', 'Mumbai', 'Tiruvallur', 'Vellore - west',\n       'Vellore -East', 'Vellore -North', 'Vellore -South',\n       'I007 - Adhiparasakthi Inst', 'P 027 - P Jayasree',\n       'P 030 - S.ShanmugaSundaram', 'P 063 - S.Periyasamy. ',\n       'P 066 - R.Kannan', 'P 069 - E.Krishnan', 'P 070 - Kumar',\n       'P 076 - C.Sreela', 'P 080 - M.Satheesh', 'P 105 - K.Pavithra',\n       'P 128 - T.Gayathri', 'P 139 - B.Saarumathy', 'P 172 - L Lalitha',\n       'Perambalur', 'Tiruvannamalai', 'I 004-GHS Marakkaanam',\n       'I 010 - Police Station MLMR', 'I012 - Adhiparasakthi M School',\n       'Nellore', 'I 002-Fire Station ACK', 'P 137 - Thanigaivel',\n       'Tirupur', 'Nilgris', 'P 026 - E.Thangam',\n       'P 095 - P Saroja / Mahendran', 'P 170 - R Mugila',\n       'P 061 - P. logesh', 'P 084 - G.Vijayasanthi', 'P 039 - V.Lakshmi',\n       'P 050 - M.Deekshitha', 'P 025 - N.Soundarya',\n       'P 117 - D.Kalaivani', 'P 146 - M.Hemavathy',\n       'P 152 - D.Sakthipriyan', 'P 073 - T.Nalini',\n       'P 106 - K.Thirugnanam', 'P 129 - Jayasakthi',\n       'P 083 - S.Manivannan', 'P 043 - Nadhisha', 'P 164 - B. Muthamizh',\n       'P 141 - V.Vidhyasri', 'P 140 - K.Sakthi Sundaresan',\n       'P 125 - M.Soniya', 'P 088 - S.Senthil', 'P 089 - S.Punniyakoti',\n       'P 090 - S.Suguna', 'P 100 - G.Kulothungan', 'P 072 - J.Saravanan',\n       'P 065 - Karuppasamy', 'P 074 - Ravikumar', 'P 085 - R.Anandan',\n       'P 150 - D.Nandhagopal', 'P 118 - G.Bharath',\n       'P 126 - N.Gokulakrishnan', 'P 153 - N.RENUKA',\n       'P 154 - S.Gnanavel', 'P 155 - S.Selvakumar',\n       'P 156 - Devi Rajendran', 'P 157 - N.Rathika', 'P 158 - V.Raji',\n       'P 053 - Anjalai', 'P 071 - V.Kannammal', 'P 031 - S.Lakshmi',\n       'P 160 - D.Ramesh', 'P 037 - Eswari', 'P 163 - P.Singaravelu',\n       'I 013 - Pasumai S S Iyakkam', 'P 021 Sri Ramakrishna Athmalayam',\n       'P 109 - P.Gopi', 'P 121 - R.Shanmugam', 'Kanchipuram',\n       'Pudukottai', 'Siva Gangai', 'Vijayawada', 'P 028 - P.Arjunan',\n       'P 029 - P.Duraisamy', 'Kerala -a.Iduki ', 'P 124 - S.Santhi',\n       'Karur', 'P 044 - Ponni', 'P 045 - G.Periyanayagi',\n       'P 056 - Pugalenthi', 'P 148 - V.Mangalam',\n       'P 159 - Rajeswari Murugan', 'P 033 - K.Ravichandran',\n       'P 059 - Nirmala', 'P 115 - G.Sahayarani', 'P 098 - N.Subramani',\n       'P 032 - K.Indirakumari', 'P 062 - R.Sakthi Murugan',\n       'P 047 - P.Maalika', 'P 127 - R.Parasuraman',\n       'P 099 - P Varnamuthu', 'I 011 - Annai Illam MLMR',\n       'I 005-GGHS Murungapakkam', 'I 001-P U S Kalavai',\n       'I 006-Thakkar Baba Samithi', 'Kanyakumari', 'Thane',\n       'Vishakapatinam', 'P 034 - Hemavathy', 'P 035 - C.Nandhini',\n       'P 041 - S.Sandhiya', 'P 042 - Kavitha Prakash',\n       'P 046 - E.Renuga', 'P 049 - Anjamani', 'P 051 - Anitha',\n       'P 052 - R.Venkatesan', 'P 054 - P.Archana',\n       'P 064 - K.Panjavarnam', 'P 068 - Kalaiselvi',\n       'P 077 - A.Muthulakshmi', 'P 078 - A.Kanniammal',\n       'P 081 - M.Thamilarasi', 'P 092 - P.Kavitha',\n       'P 093 - M.Vijayalakshmi', 'P 101 - A.Maniammal',\n       'P 102 - Amirthavalli', 'P 104 - P.Nagavalli', 'P 108 - K.Deivani',\n       'P 111 - R.Divya', 'P 116 - P.Kalaiyarasi', 'P 131 - S.suguna',\n       'P 138 - P.Govindammal', 'P 143 - Kalaiselvi',\n       'P 147 - P.Parameswari', 'P 149 - B.Saranya', 'P 151 - V.Nadhiya',\n       'P 161 - S.Gkomathi', 'P 162 - G.Kala', 'P 166 - Jayanthi Dhanusu',\n       'P 167 - Kanniyammal', 'P 024 - D.Rajamani', 'P 040 - R.Shanmugam',\n       'P 094 - V.Pratap', 'P 107 - M.Jagadish', 'P 114 - Pugalenthi ',\n       'P 119 - R.Radhakrishnan', 'P 134 - Udhyakumar',\n       'P 136 - R.Sakthivel', 'P 144 - K.KAMALESH',\n       'P 168 - Subramanian C', 'P 169 - Moorthi ', 'P 038 - V.Suriya',\n       'P 082 - P.Indirakumari', 'P 103 - S.Jayarani',\n       'P 112 - S.Mahalakshmi', 'P 113 - Priyadharshini',\n       'P 120 - A.Muniammal', 'P 122 - A.keerthana', 'P 123 - P.Uma',\n       'P 165 - Abimeena U', 'P 171 - S Nagammal'], dtype=object)"
     },
     "execution_count": 119,
     "metadata": {},
     "output_type": "execute_result"
    }
   ],
   "source": [
    "data[\"DISTRICT / NAME\"].unique() # visually inspect any duplicates."
   ],
   "metadata": {
    "collapsed": false
   }
  },
  {
   "cell_type": "code",
   "execution_count": 120,
   "outputs": [
    {
     "data": {
      "text/plain": "array(['Project Tirunelveli', 'Project Tuticurion',\n       'Project Chittor - Urban', 'Project Karnataka', 'Project Erode',\n       'Project Tiruchi', 'Project 1000 Kg Rice',\n       'Project Krishnagiri North', 'Project Kerala', 'Project Ariyalur',\n       'Project Chittor - Rural', 'Project Madurai', 'Project Tanjavur',\n       'Project Ramnad', 'Project Theni', 'Project Virudhu nagar',\n       'Project Puducherry', 'Handicapped Hand Tricycle',\n       'Fixed Wheel chair', 'Wheelchair', 'Handicapped Scooter',\n       'Two wheeler', 'Weed cutting Machine', 'Tree cutting machine',\n       'Lenova Tab', 'Laptop', 'Desktop Computer', 'Canon (Xerox)',\n       'Colour Printer', 'HP Laser Printer 126 A', 'Printer HP 1108',\n       'Hearing Aid', 'Medical Aid (Rs.100000)', 'Medical Aid (Rs.98000)',\n       'Medical Aid (Rs.50000)', 'Medical Aid (Rs.40000)',\n       'Medical Aid (Rs.34000)', 'Medical Aid (Rs.10000)',\n       'Medical Aid (Rs.30000)', 'Medical Aid (Rs.25000)',\n       'Medical Aid (Rs.20000)', 'Educational Aid (Rs.10000)',\n       'Educational Aid (Rs.130000)', 'Educational Aid (Rs.100000)',\n       'Educational Aid (Rs.15000)', 'Educational Aid (Rs.15750)',\n       'Educational Aid (Rs.150000)', 'Educational Aid (Rs.15525)',\n       'Educational Aid (Rs.16000)', 'Educational Aid (Rs.17000)',\n       'Educational Aid (Rs.174350)', 'Educational Aid (Rs.20000)',\n       'Educational Aid (Rs.25000)', 'Educational Aid (Rs.26000)',\n       'Educational Aid (Rs.26530)', 'Educational Aid (Rs.30000)',\n       'Educational Aid (Rs.38000)', 'Educational Aid (Rs.50000)',\n       'Educational Aid (Rs.60000)', 'Educational Aid (Rs.8000)',\n       'Business Aid (Rs.10000)', 'Business Aid (Rs.15000)',\n       'Business Aid (Rs.20000)', 'Business Aid (Rs.25000)',\n       'Business Aid, Blind(Rs.10000)', 'House Construction (Rs.25000)',\n       'House Construction (Rs.26000)', 'House Construction (Rs.20000)',\n       'House Construction (Rs.50000)', 'Handicapped Aid (Rs.10000)',\n       'Livelihood Aid (Rs.25000)', 'Livelihood Aid (Rs.15000)',\n       'Musical Inst Aid (Rs.15000)', 'Environment Aid (Rs.20000)',\n       'Financial Aid (Rs.25000)', 'GP Welding Machine Arc 200',\n       'Bosch Electrician Kit 10 RE', 'Bosch Electrician Kit 13 RE',\n       'Electric Iron Box', 'Iron Box', 'Agri Power sprayer (1.2 Bolo)',\n       'Agri Power sprayer Knapsak', 'Agri Battery Sprayer ',\n       'Agri Manual Sprayer', 'Aluminium vessels Sets',\n       'Aluminium Idli Making Box', 'Iron MS Stove 2 Burner',\n       'Single burner stove', 'Iron MS Stove 2 Burner/Idli Box',\n       'Prestige Pressure cooker', 'SURYA GAS STOVE', 'Tiffen Set',\n       'Diamond Cooker 12 ltrs', 'Table Top Tilting grinder 2 ltr',\n       'Table top wet grinder 2 ltr', 'Wet Grinder 2 ltr (HGT)',\n       'Wet Grinder 5 Ltrs', 'Wet Grinder 3 Ltrs',\n       'Wet Grinder Floor model 2 Ltr', 'Instant Grinder 30 Kgs',\n       'Push Cart with Top', 'Push Cart with Top/Alu. idli box',\n       'Push Cart with Top/Tiffen set', 'Push Cart without Top',\n       'Push cart without top/Iron Box', 'Dabara set (20 kg )',\n       'Audio Mixer ', 'Office Table 4x2', 'PVC Chairs',\n       'Reception 4 seater', 'S Type Chair', 'Steel Cupboard',\n       'Sewing Machine Overlock', 'Sewing Machine Heavy',\n       'Sewing Machine ORD / Motor', 'Sewing Machine ORD', 'Gents Cycle',\n       'Girls Cycle'], dtype=object)"
     },
     "execution_count": 120,
     "metadata": {},
     "output_type": "execute_result"
    }
   ],
   "source": [
    "data[\"REQUESTED ARTICLE\"].unique() # visually inspect any duplicates."
   ],
   "metadata": {
    "collapsed": false
   }
  },
  {
   "cell_type": "code",
   "execution_count": 121,
   "outputs": [
    {
     "name": "stdout",
     "output_type": "stream",
     "text": [
      "70\n",
      "75\n",
      "92\n",
      "93\n",
      "103\n",
      "106\n",
      "112\n"
     ]
    }
   ],
   "source": [
    "uqs = data[\"Sequence list\"].unique()\n",
    "for i in range(1,uqs.max()):\n",
    "    if i not in uqs:\n",
    "        print(i)\n"
   ],
   "metadata": {
    "collapsed": false
   }
  },
  {
   "cell_type": "code",
   "execution_count": 122,
   "outputs": [
    {
     "data": {
      "text/plain": "     Sl. No  D /P / I Project / Article / Aid      DISTRICT / NAME  \\\n0         1  District                 Project          Tirunelveli   \n1         2  District                 Project           Tuticurion   \n2         3  District                 Project      Chittor - Urban   \n3         4  District                 Project            Karnataka   \n4         5  District                 Project                Erode   \n..      ...       ...                     ...                  ...   \n446     440    Public                 Article  P 120 - A.Muniammal   \n447     441    Public                 Article  P 122 - A.keerthana   \n448     442    Public                 Article        P 123 - P.Uma   \n449     443    Public                 Article   P 165 - Abimeena U   \n450     444    Public                 Article   P 171 - S Nagammal   \n\n           REQUESTED ARTICLE  Change QTY   Sequence list  Real QTY  \n0        Project Tirunelveli           11              1        75  \n1         Project Tuticurion           11              1        57  \n2    Project Chittor - Urban            2              2         2  \n3          Project Karnataka            2              3         2  \n4              Project Erode            1              4         1  \n..                       ...          ...            ...       ...  \n446              Girls Cycle            1            118         1  \n447              Girls Cycle            1            118         1  \n448              Girls Cycle            1            118         1  \n449              Girls Cycle            1            118         1  \n450              Girls Cycle            1            118         1  \n\n[425 rows x 8 columns]",
      "text/html": "<div>\n<style scoped>\n    .dataframe tbody tr th:only-of-type {\n        vertical-align: middle;\n    }\n\n    .dataframe tbody tr th {\n        vertical-align: top;\n    }\n\n    .dataframe thead th {\n        text-align: right;\n    }\n</style>\n<table border=\"1\" class=\"dataframe\">\n  <thead>\n    <tr style=\"text-align: right;\">\n      <th></th>\n      <th>Sl. No</th>\n      <th>D /P / I</th>\n      <th>Project / Article / Aid</th>\n      <th>DISTRICT / NAME</th>\n      <th>REQUESTED ARTICLE</th>\n      <th>Change QTY</th>\n      <th>Sequence list</th>\n      <th>Real QTY</th>\n    </tr>\n  </thead>\n  <tbody>\n    <tr>\n      <th>0</th>\n      <td>1</td>\n      <td>District</td>\n      <td>Project</td>\n      <td>Tirunelveli</td>\n      <td>Project Tirunelveli</td>\n      <td>11</td>\n      <td>1</td>\n      <td>75</td>\n    </tr>\n    <tr>\n      <th>1</th>\n      <td>2</td>\n      <td>District</td>\n      <td>Project</td>\n      <td>Tuticurion</td>\n      <td>Project Tuticurion</td>\n      <td>11</td>\n      <td>1</td>\n      <td>57</td>\n    </tr>\n    <tr>\n      <th>2</th>\n      <td>3</td>\n      <td>District</td>\n      <td>Project</td>\n      <td>Chittor - Urban</td>\n      <td>Project Chittor - Urban</td>\n      <td>2</td>\n      <td>2</td>\n      <td>2</td>\n    </tr>\n    <tr>\n      <th>3</th>\n      <td>4</td>\n      <td>District</td>\n      <td>Project</td>\n      <td>Karnataka</td>\n      <td>Project Karnataka</td>\n      <td>2</td>\n      <td>3</td>\n      <td>2</td>\n    </tr>\n    <tr>\n      <th>4</th>\n      <td>5</td>\n      <td>District</td>\n      <td>Project</td>\n      <td>Erode</td>\n      <td>Project Erode</td>\n      <td>1</td>\n      <td>4</td>\n      <td>1</td>\n    </tr>\n    <tr>\n      <th>...</th>\n      <td>...</td>\n      <td>...</td>\n      <td>...</td>\n      <td>...</td>\n      <td>...</td>\n      <td>...</td>\n      <td>...</td>\n      <td>...</td>\n    </tr>\n    <tr>\n      <th>446</th>\n      <td>440</td>\n      <td>Public</td>\n      <td>Article</td>\n      <td>P 120 - A.Muniammal</td>\n      <td>Girls Cycle</td>\n      <td>1</td>\n      <td>118</td>\n      <td>1</td>\n    </tr>\n    <tr>\n      <th>447</th>\n      <td>441</td>\n      <td>Public</td>\n      <td>Article</td>\n      <td>P 122 - A.keerthana</td>\n      <td>Girls Cycle</td>\n      <td>1</td>\n      <td>118</td>\n      <td>1</td>\n    </tr>\n    <tr>\n      <th>448</th>\n      <td>442</td>\n      <td>Public</td>\n      <td>Article</td>\n      <td>P 123 - P.Uma</td>\n      <td>Girls Cycle</td>\n      <td>1</td>\n      <td>118</td>\n      <td>1</td>\n    </tr>\n    <tr>\n      <th>449</th>\n      <td>443</td>\n      <td>Public</td>\n      <td>Article</td>\n      <td>P 165 - Abimeena U</td>\n      <td>Girls Cycle</td>\n      <td>1</td>\n      <td>118</td>\n      <td>1</td>\n    </tr>\n    <tr>\n      <th>450</th>\n      <td>444</td>\n      <td>Public</td>\n      <td>Article</td>\n      <td>P 171 - S Nagammal</td>\n      <td>Girls Cycle</td>\n      <td>1</td>\n      <td>118</td>\n      <td>1</td>\n    </tr>\n  </tbody>\n</table>\n<p>425 rows × 8 columns</p>\n</div>"
     },
     "execution_count": 122,
     "metadata": {},
     "output_type": "execute_result"
    }
   ],
   "source": [
    "data.dropna(how='all')"
   ],
   "metadata": {
    "collapsed": false
   }
  },
  {
   "cell_type": "code",
   "execution_count": 123,
   "outputs": [
    {
     "data": {
      "text/plain": "    Sl. No  D /P / I Project / Article / Aid DISTRICT / NAME  \\\n0       46  District                 Article       Karnataka   \n1       69  District                 Article      Villupuram   \n2       88  District                 Article       Karnataka   \n3       93  District                 Article      Tiruvallur   \n4      198  District                 Article     Kanchipuram   \n..     ...       ...                     ...             ...   \n56     429  District                 Article      Villupuram   \n57     431  District                 Article     Kanchipuram   \n58     446  District                 Article      Pudukottai   \n59     448  District                 Article  Tiruvannamalai   \n60     451  District                 Article      Villupuram   \n\n         REQUESTED ARTICLE  Change QTY   Sequence list  Real QTY  \n0                   Laptop            0             24        17  \n1                   Laptop            0             24        10  \n2   HP Laser Printer 126 A            0             28         1  \n3   HP Laser Printer 126 A            0             28         1  \n4                 Iron Box            0             77        14  \n..                     ...          ...            ...       ...  \n56             Gents Cycle            0            117        23  \n57             Girls Cycle            0            118        13  \n58             Girls Cycle            0            118        11  \n59             Girls Cycle            0            118        14  \n60             Girls Cycle            0            118        40  \n\n[61 rows x 8 columns]",
      "text/html": "<div>\n<style scoped>\n    .dataframe tbody tr th:only-of-type {\n        vertical-align: middle;\n    }\n\n    .dataframe tbody tr th {\n        vertical-align: top;\n    }\n\n    .dataframe thead th {\n        text-align: right;\n    }\n</style>\n<table border=\"1\" class=\"dataframe\">\n  <thead>\n    <tr style=\"text-align: right;\">\n      <th></th>\n      <th>Sl. No</th>\n      <th>D /P / I</th>\n      <th>Project / Article / Aid</th>\n      <th>DISTRICT / NAME</th>\n      <th>REQUESTED ARTICLE</th>\n      <th>Change QTY</th>\n      <th>Sequence list</th>\n      <th>Real QTY</th>\n    </tr>\n  </thead>\n  <tbody>\n    <tr>\n      <th>0</th>\n      <td>46</td>\n      <td>District</td>\n      <td>Article</td>\n      <td>Karnataka</td>\n      <td>Laptop</td>\n      <td>0</td>\n      <td>24</td>\n      <td>17</td>\n    </tr>\n    <tr>\n      <th>1</th>\n      <td>69</td>\n      <td>District</td>\n      <td>Article</td>\n      <td>Villupuram</td>\n      <td>Laptop</td>\n      <td>0</td>\n      <td>24</td>\n      <td>10</td>\n    </tr>\n    <tr>\n      <th>2</th>\n      <td>88</td>\n      <td>District</td>\n      <td>Article</td>\n      <td>Karnataka</td>\n      <td>HP Laser Printer 126 A</td>\n      <td>0</td>\n      <td>28</td>\n      <td>1</td>\n    </tr>\n    <tr>\n      <th>3</th>\n      <td>93</td>\n      <td>District</td>\n      <td>Article</td>\n      <td>Tiruvallur</td>\n      <td>HP Laser Printer 126 A</td>\n      <td>0</td>\n      <td>28</td>\n      <td>1</td>\n    </tr>\n    <tr>\n      <th>4</th>\n      <td>198</td>\n      <td>District</td>\n      <td>Article</td>\n      <td>Kanchipuram</td>\n      <td>Iron Box</td>\n      <td>0</td>\n      <td>77</td>\n      <td>14</td>\n    </tr>\n    <tr>\n      <th>...</th>\n      <td>...</td>\n      <td>...</td>\n      <td>...</td>\n      <td>...</td>\n      <td>...</td>\n      <td>...</td>\n      <td>...</td>\n      <td>...</td>\n    </tr>\n    <tr>\n      <th>56</th>\n      <td>429</td>\n      <td>District</td>\n      <td>Article</td>\n      <td>Villupuram</td>\n      <td>Gents Cycle</td>\n      <td>0</td>\n      <td>117</td>\n      <td>23</td>\n    </tr>\n    <tr>\n      <th>57</th>\n      <td>431</td>\n      <td>District</td>\n      <td>Article</td>\n      <td>Kanchipuram</td>\n      <td>Girls Cycle</td>\n      <td>0</td>\n      <td>118</td>\n      <td>13</td>\n    </tr>\n    <tr>\n      <th>58</th>\n      <td>446</td>\n      <td>District</td>\n      <td>Article</td>\n      <td>Pudukottai</td>\n      <td>Girls Cycle</td>\n      <td>0</td>\n      <td>118</td>\n      <td>11</td>\n    </tr>\n    <tr>\n      <th>59</th>\n      <td>448</td>\n      <td>District</td>\n      <td>Article</td>\n      <td>Tiruvannamalai</td>\n      <td>Girls Cycle</td>\n      <td>0</td>\n      <td>118</td>\n      <td>14</td>\n    </tr>\n    <tr>\n      <th>60</th>\n      <td>451</td>\n      <td>District</td>\n      <td>Article</td>\n      <td>Villupuram</td>\n      <td>Girls Cycle</td>\n      <td>0</td>\n      <td>118</td>\n      <td>40</td>\n    </tr>\n  </tbody>\n</table>\n<p>61 rows × 8 columns</p>\n</div>"
     },
     "execution_count": 123,
     "metadata": {},
     "output_type": "execute_result"
    }
   ],
   "source": [
    "data1 = data[data[\"Change QTY \"]==0].reset_index(drop=True)\n",
    "data1"
   ],
   "metadata": {
    "collapsed": false
   }
  },
  {
   "cell_type": "code",
   "execution_count": 124,
   "outputs": [
    {
     "data": {
      "text/plain": "     Sl. No  D /P / I Project / Article / Aid      DISTRICT / NAME  \\\n0         1  District                 Project          Tirunelveli   \n1         2  District                 Project           Tuticurion   \n2         3  District                 Project      Chittor - Urban   \n3         4  District                 Project            Karnataka   \n4         5  District                 Project                Erode   \n..      ...       ...                     ...                  ...   \n359     440    Public                 Article  P 120 - A.Muniammal   \n360     441    Public                 Article  P 122 - A.keerthana   \n361     442    Public                 Article        P 123 - P.Uma   \n362     443    Public                 Article   P 165 - Abimeena U   \n363     444    Public                 Article   P 171 - S Nagammal   \n\n           REQUESTED ARTICLE  Change QTY   Sequence list  Real QTY  \n0        Project Tirunelveli           11              1        75  \n1         Project Tuticurion           11              1        57  \n2    Project Chittor - Urban            2              2         2  \n3          Project Karnataka            2              3         2  \n4              Project Erode            1              4         1  \n..                       ...          ...            ...       ...  \n359              Girls Cycle            1            118         1  \n360              Girls Cycle            1            118         1  \n361              Girls Cycle            1            118         1  \n362              Girls Cycle            1            118         1  \n363              Girls Cycle            1            118         1  \n\n[364 rows x 8 columns]",
      "text/html": "<div>\n<style scoped>\n    .dataframe tbody tr th:only-of-type {\n        vertical-align: middle;\n    }\n\n    .dataframe tbody tr th {\n        vertical-align: top;\n    }\n\n    .dataframe thead th {\n        text-align: right;\n    }\n</style>\n<table border=\"1\" class=\"dataframe\">\n  <thead>\n    <tr style=\"text-align: right;\">\n      <th></th>\n      <th>Sl. No</th>\n      <th>D /P / I</th>\n      <th>Project / Article / Aid</th>\n      <th>DISTRICT / NAME</th>\n      <th>REQUESTED ARTICLE</th>\n      <th>Change QTY</th>\n      <th>Sequence list</th>\n      <th>Real QTY</th>\n    </tr>\n  </thead>\n  <tbody>\n    <tr>\n      <th>0</th>\n      <td>1</td>\n      <td>District</td>\n      <td>Project</td>\n      <td>Tirunelveli</td>\n      <td>Project Tirunelveli</td>\n      <td>11</td>\n      <td>1</td>\n      <td>75</td>\n    </tr>\n    <tr>\n      <th>1</th>\n      <td>2</td>\n      <td>District</td>\n      <td>Project</td>\n      <td>Tuticurion</td>\n      <td>Project Tuticurion</td>\n      <td>11</td>\n      <td>1</td>\n      <td>57</td>\n    </tr>\n    <tr>\n      <th>2</th>\n      <td>3</td>\n      <td>District</td>\n      <td>Project</td>\n      <td>Chittor - Urban</td>\n      <td>Project Chittor - Urban</td>\n      <td>2</td>\n      <td>2</td>\n      <td>2</td>\n    </tr>\n    <tr>\n      <th>3</th>\n      <td>4</td>\n      <td>District</td>\n      <td>Project</td>\n      <td>Karnataka</td>\n      <td>Project Karnataka</td>\n      <td>2</td>\n      <td>3</td>\n      <td>2</td>\n    </tr>\n    <tr>\n      <th>4</th>\n      <td>5</td>\n      <td>District</td>\n      <td>Project</td>\n      <td>Erode</td>\n      <td>Project Erode</td>\n      <td>1</td>\n      <td>4</td>\n      <td>1</td>\n    </tr>\n    <tr>\n      <th>...</th>\n      <td>...</td>\n      <td>...</td>\n      <td>...</td>\n      <td>...</td>\n      <td>...</td>\n      <td>...</td>\n      <td>...</td>\n      <td>...</td>\n    </tr>\n    <tr>\n      <th>359</th>\n      <td>440</td>\n      <td>Public</td>\n      <td>Article</td>\n      <td>P 120 - A.Muniammal</td>\n      <td>Girls Cycle</td>\n      <td>1</td>\n      <td>118</td>\n      <td>1</td>\n    </tr>\n    <tr>\n      <th>360</th>\n      <td>441</td>\n      <td>Public</td>\n      <td>Article</td>\n      <td>P 122 - A.keerthana</td>\n      <td>Girls Cycle</td>\n      <td>1</td>\n      <td>118</td>\n      <td>1</td>\n    </tr>\n    <tr>\n      <th>361</th>\n      <td>442</td>\n      <td>Public</td>\n      <td>Article</td>\n      <td>P 123 - P.Uma</td>\n      <td>Girls Cycle</td>\n      <td>1</td>\n      <td>118</td>\n      <td>1</td>\n    </tr>\n    <tr>\n      <th>362</th>\n      <td>443</td>\n      <td>Public</td>\n      <td>Article</td>\n      <td>P 165 - Abimeena U</td>\n      <td>Girls Cycle</td>\n      <td>1</td>\n      <td>118</td>\n      <td>1</td>\n    </tr>\n    <tr>\n      <th>363</th>\n      <td>444</td>\n      <td>Public</td>\n      <td>Article</td>\n      <td>P 171 - S Nagammal</td>\n      <td>Girls Cycle</td>\n      <td>1</td>\n      <td>118</td>\n      <td>1</td>\n    </tr>\n  </tbody>\n</table>\n<p>364 rows × 8 columns</p>\n</div>"
     },
     "execution_count": 124,
     "metadata": {},
     "output_type": "execute_result"
    }
   ],
   "source": [
    "data = data[data[\"Change QTY \"]!=0].reset_index(drop=True)\n",
    "data"
   ],
   "metadata": {
    "collapsed": false
   }
  },
  {
   "cell_type": "markdown",
   "source": [
    "### Generate token"
   ],
   "metadata": {
    "collapsed": false
   }
  },
  {
   "cell_type": "code",
   "execution_count": 125,
   "outputs": [
    {
     "data": {
      "text/plain": "     Sl. No  D /P / I Project / Article / Aid      DISTRICT / NAME  \\\n0         1  District                 Project          Tirunelveli   \n1         2  District                 Project           Tuticurion   \n2         3  District                 Project      Chittor - Urban   \n3         4  District                 Project            Karnataka   \n4         5  District                 Project                Erode   \n..      ...       ...                     ...                  ...   \n359     440    Public                 Article  P 120 - A.Muniammal   \n360     441    Public                 Article  P 122 - A.keerthana   \n361     442    Public                 Article        P 123 - P.Uma   \n362     443    Public                 Article   P 165 - Abimeena U   \n363     444    Public                 Article   P 171 - S Nagammal   \n\n           REQUESTED ARTICLE  Change QTY   Sequence list  Real QTY  \\\n0        Project Tirunelveli           11              1        75   \n1         Project Tuticurion           11              1        57   \n2    Project Chittor - Urban            2              2         2   \n3          Project Karnataka            2              3         2   \n4              Project Erode            1              4         1   \n..                       ...          ...            ...       ...   \n359              Girls Cycle            1            118         1   \n360              Girls Cycle            1            118         1   \n361              Girls Cycle            1            118         1   \n362              Girls Cycle            1            118         1   \n363              Girls Cycle            1            118         1   \n\n     Start Token No.  End Token No.  \n0                  1             11  \n1                 12             22  \n2                 23             24  \n3                 25             26  \n4                 27             27  \n..               ...            ...  \n359             1073           1073  \n360             1074           1074  \n361             1075           1075  \n362             1076           1076  \n363             1077           1077  \n\n[364 rows x 10 columns]",
      "text/html": "<div>\n<style scoped>\n    .dataframe tbody tr th:only-of-type {\n        vertical-align: middle;\n    }\n\n    .dataframe tbody tr th {\n        vertical-align: top;\n    }\n\n    .dataframe thead th {\n        text-align: right;\n    }\n</style>\n<table border=\"1\" class=\"dataframe\">\n  <thead>\n    <tr style=\"text-align: right;\">\n      <th></th>\n      <th>Sl. No</th>\n      <th>D /P / I</th>\n      <th>Project / Article / Aid</th>\n      <th>DISTRICT / NAME</th>\n      <th>REQUESTED ARTICLE</th>\n      <th>Change QTY</th>\n      <th>Sequence list</th>\n      <th>Real QTY</th>\n      <th>Start Token No.</th>\n      <th>End Token No.</th>\n    </tr>\n  </thead>\n  <tbody>\n    <tr>\n      <th>0</th>\n      <td>1</td>\n      <td>District</td>\n      <td>Project</td>\n      <td>Tirunelveli</td>\n      <td>Project Tirunelveli</td>\n      <td>11</td>\n      <td>1</td>\n      <td>75</td>\n      <td>1</td>\n      <td>11</td>\n    </tr>\n    <tr>\n      <th>1</th>\n      <td>2</td>\n      <td>District</td>\n      <td>Project</td>\n      <td>Tuticurion</td>\n      <td>Project Tuticurion</td>\n      <td>11</td>\n      <td>1</td>\n      <td>57</td>\n      <td>12</td>\n      <td>22</td>\n    </tr>\n    <tr>\n      <th>2</th>\n      <td>3</td>\n      <td>District</td>\n      <td>Project</td>\n      <td>Chittor - Urban</td>\n      <td>Project Chittor - Urban</td>\n      <td>2</td>\n      <td>2</td>\n      <td>2</td>\n      <td>23</td>\n      <td>24</td>\n    </tr>\n    <tr>\n      <th>3</th>\n      <td>4</td>\n      <td>District</td>\n      <td>Project</td>\n      <td>Karnataka</td>\n      <td>Project Karnataka</td>\n      <td>2</td>\n      <td>3</td>\n      <td>2</td>\n      <td>25</td>\n      <td>26</td>\n    </tr>\n    <tr>\n      <th>4</th>\n      <td>5</td>\n      <td>District</td>\n      <td>Project</td>\n      <td>Erode</td>\n      <td>Project Erode</td>\n      <td>1</td>\n      <td>4</td>\n      <td>1</td>\n      <td>27</td>\n      <td>27</td>\n    </tr>\n    <tr>\n      <th>...</th>\n      <td>...</td>\n      <td>...</td>\n      <td>...</td>\n      <td>...</td>\n      <td>...</td>\n      <td>...</td>\n      <td>...</td>\n      <td>...</td>\n      <td>...</td>\n      <td>...</td>\n    </tr>\n    <tr>\n      <th>359</th>\n      <td>440</td>\n      <td>Public</td>\n      <td>Article</td>\n      <td>P 120 - A.Muniammal</td>\n      <td>Girls Cycle</td>\n      <td>1</td>\n      <td>118</td>\n      <td>1</td>\n      <td>1073</td>\n      <td>1073</td>\n    </tr>\n    <tr>\n      <th>360</th>\n      <td>441</td>\n      <td>Public</td>\n      <td>Article</td>\n      <td>P 122 - A.keerthana</td>\n      <td>Girls Cycle</td>\n      <td>1</td>\n      <td>118</td>\n      <td>1</td>\n      <td>1074</td>\n      <td>1074</td>\n    </tr>\n    <tr>\n      <th>361</th>\n      <td>442</td>\n      <td>Public</td>\n      <td>Article</td>\n      <td>P 123 - P.Uma</td>\n      <td>Girls Cycle</td>\n      <td>1</td>\n      <td>118</td>\n      <td>1</td>\n      <td>1075</td>\n      <td>1075</td>\n    </tr>\n    <tr>\n      <th>362</th>\n      <td>443</td>\n      <td>Public</td>\n      <td>Article</td>\n      <td>P 165 - Abimeena U</td>\n      <td>Girls Cycle</td>\n      <td>1</td>\n      <td>118</td>\n      <td>1</td>\n      <td>1076</td>\n      <td>1076</td>\n    </tr>\n    <tr>\n      <th>363</th>\n      <td>444</td>\n      <td>Public</td>\n      <td>Article</td>\n      <td>P 171 - S Nagammal</td>\n      <td>Girls Cycle</td>\n      <td>1</td>\n      <td>118</td>\n      <td>1</td>\n      <td>1077</td>\n      <td>1077</td>\n    </tr>\n  </tbody>\n</table>\n<p>364 rows × 10 columns</p>\n</div>"
     },
     "execution_count": 125,
     "metadata": {},
     "output_type": "execute_result"
    }
   ],
   "source": [
    "data[\"Start Token No.\"] = int(0)  # create new column called Start Token No.\n",
    "data[\"End Token No.\"] = int(0)   # create new column called End Token No.\n",
    "data.at[0,\"Start Token No.\"] = 1  # initialise first token as 1\n",
    "data.at[0,\"End Token No.\"] = data.at[0,\"Change QTY \"] + data.at[0,\"Start Token No.\"] -1 # this first token for first line\n",
    "for i in range(1,len(data)):\n",
    "    data.at[i,\"Start Token No.\"] = data.at[i-1,\"End Token No.\"] + 1\n",
    "    data.at[i,\"End Token No.\"] = data.at[i,\"Change QTY \"] + data.at[i,\"Start Token No.\"] -1\n",
    "data"
   ],
   "metadata": {
    "collapsed": false
   }
  },
  {
   "cell_type": "code",
   "execution_count": 127,
   "outputs": [
    {
     "data": {
      "text/plain": "     Sl. No  D /P / I Project / Article / Aid      DISTRICT / NAME  \\\n0         1  District                 Project          Tirunelveli   \n1         2  District                 Project           Tuticurion   \n2         3  District                 Project      Chittor - Urban   \n3         4  District                 Project            Karnataka   \n4         5  District                 Project                Erode   \n..      ...       ...                     ...                  ...   \n359     440    Public                 Article  P 120 - A.Muniammal   \n360     441    Public                 Article  P 122 - A.keerthana   \n361     442    Public                 Article        P 123 - P.Uma   \n362     443    Public                 Article   P 165 - Abimeena U   \n363     444    Public                 Article   P 171 - S Nagammal   \n\n           REQUESTED ARTICLE  Change QTY   Sequence list  Real QTY  \\\n0        Project Tirunelveli           11              1        75   \n1         Project Tuticurion           11              1        57   \n2    Project Chittor - Urban            2              2         2   \n3          Project Karnataka            2              3         2   \n4              Project Erode            1              4         1   \n..                       ...          ...            ...       ...   \n359              Girls Cycle            1            118         1   \n360              Girls Cycle            1            118         1   \n361              Girls Cycle            1            118         1   \n362              Girls Cycle            1            118         1   \n363              Girls Cycle            1            118         1   \n\n     Start Token No.  End Token No.  Token Print  \n0                  1             11            0  \n1                 12             22            0  \n2                 23             24            0  \n3                 25             26            0  \n4                 27             27            0  \n..               ...            ...          ...  \n359             1073           1073            1  \n360             1074           1074            1  \n361             1075           1075            1  \n362             1076           1076            1  \n363             1077           1077            1  \n\n[364 rows x 11 columns]",
      "text/html": "<div>\n<style scoped>\n    .dataframe tbody tr th:only-of-type {\n        vertical-align: middle;\n    }\n\n    .dataframe tbody tr th {\n        vertical-align: top;\n    }\n\n    .dataframe thead th {\n        text-align: right;\n    }\n</style>\n<table border=\"1\" class=\"dataframe\">\n  <thead>\n    <tr style=\"text-align: right;\">\n      <th></th>\n      <th>Sl. No</th>\n      <th>D /P / I</th>\n      <th>Project / Article / Aid</th>\n      <th>DISTRICT / NAME</th>\n      <th>REQUESTED ARTICLE</th>\n      <th>Change QTY</th>\n      <th>Sequence list</th>\n      <th>Real QTY</th>\n      <th>Start Token No.</th>\n      <th>End Token No.</th>\n      <th>Token Print</th>\n    </tr>\n  </thead>\n  <tbody>\n    <tr>\n      <th>0</th>\n      <td>1</td>\n      <td>District</td>\n      <td>Project</td>\n      <td>Tirunelveli</td>\n      <td>Project Tirunelveli</td>\n      <td>11</td>\n      <td>1</td>\n      <td>75</td>\n      <td>1</td>\n      <td>11</td>\n      <td>0</td>\n    </tr>\n    <tr>\n      <th>1</th>\n      <td>2</td>\n      <td>District</td>\n      <td>Project</td>\n      <td>Tuticurion</td>\n      <td>Project Tuticurion</td>\n      <td>11</td>\n      <td>1</td>\n      <td>57</td>\n      <td>12</td>\n      <td>22</td>\n      <td>0</td>\n    </tr>\n    <tr>\n      <th>2</th>\n      <td>3</td>\n      <td>District</td>\n      <td>Project</td>\n      <td>Chittor - Urban</td>\n      <td>Project Chittor - Urban</td>\n      <td>2</td>\n      <td>2</td>\n      <td>2</td>\n      <td>23</td>\n      <td>24</td>\n      <td>0</td>\n    </tr>\n    <tr>\n      <th>3</th>\n      <td>4</td>\n      <td>District</td>\n      <td>Project</td>\n      <td>Karnataka</td>\n      <td>Project Karnataka</td>\n      <td>2</td>\n      <td>3</td>\n      <td>2</td>\n      <td>25</td>\n      <td>26</td>\n      <td>0</td>\n    </tr>\n    <tr>\n      <th>4</th>\n      <td>5</td>\n      <td>District</td>\n      <td>Project</td>\n      <td>Erode</td>\n      <td>Project Erode</td>\n      <td>1</td>\n      <td>4</td>\n      <td>1</td>\n      <td>27</td>\n      <td>27</td>\n      <td>0</td>\n    </tr>\n    <tr>\n      <th>...</th>\n      <td>...</td>\n      <td>...</td>\n      <td>...</td>\n      <td>...</td>\n      <td>...</td>\n      <td>...</td>\n      <td>...</td>\n      <td>...</td>\n      <td>...</td>\n      <td>...</td>\n      <td>...</td>\n    </tr>\n    <tr>\n      <th>359</th>\n      <td>440</td>\n      <td>Public</td>\n      <td>Article</td>\n      <td>P 120 - A.Muniammal</td>\n      <td>Girls Cycle</td>\n      <td>1</td>\n      <td>118</td>\n      <td>1</td>\n      <td>1073</td>\n      <td>1073</td>\n      <td>1</td>\n    </tr>\n    <tr>\n      <th>360</th>\n      <td>441</td>\n      <td>Public</td>\n      <td>Article</td>\n      <td>P 122 - A.keerthana</td>\n      <td>Girls Cycle</td>\n      <td>1</td>\n      <td>118</td>\n      <td>1</td>\n      <td>1074</td>\n      <td>1074</td>\n      <td>1</td>\n    </tr>\n    <tr>\n      <th>361</th>\n      <td>442</td>\n      <td>Public</td>\n      <td>Article</td>\n      <td>P 123 - P.Uma</td>\n      <td>Girls Cycle</td>\n      <td>1</td>\n      <td>118</td>\n      <td>1</td>\n      <td>1075</td>\n      <td>1075</td>\n      <td>1</td>\n    </tr>\n    <tr>\n      <th>362</th>\n      <td>443</td>\n      <td>Public</td>\n      <td>Article</td>\n      <td>P 165 - Abimeena U</td>\n      <td>Girls Cycle</td>\n      <td>1</td>\n      <td>118</td>\n      <td>1</td>\n      <td>1076</td>\n      <td>1076</td>\n      <td>1</td>\n    </tr>\n    <tr>\n      <th>363</th>\n      <td>444</td>\n      <td>Public</td>\n      <td>Article</td>\n      <td>P 171 - S Nagammal</td>\n      <td>Girls Cycle</td>\n      <td>1</td>\n      <td>118</td>\n      <td>1</td>\n      <td>1077</td>\n      <td>1077</td>\n      <td>1</td>\n    </tr>\n  </tbody>\n</table>\n<p>364 rows × 11 columns</p>\n</div>"
     },
     "execution_count": 127,
     "metadata": {},
     "output_type": "execute_result"
    }
   ],
   "source": [
    "data[\"Token Print\"] = int(0)\n",
    "data.loc[data[\"Project / Article / Aid\"] == 'Article', 'Token Print']  = 1\n",
    "data"
   ],
   "metadata": {
    "collapsed": false
   }
  },
  {
   "cell_type": "code",
   "execution_count": 128,
   "outputs": [
    {
     "data": {
      "text/plain": "    Sl. No  D /P / I Project / Article / Aid DISTRICT / NAME  \\\n0       46  District                 Article       Karnataka   \n1       69  District                 Article      Villupuram   \n2       88  District                 Article       Karnataka   \n3       93  District                 Article      Tiruvallur   \n4      198  District                 Article     Kanchipuram   \n..     ...       ...                     ...             ...   \n56     429  District                 Article      Villupuram   \n57     431  District                 Article     Kanchipuram   \n58     446  District                 Article      Pudukottai   \n59     448  District                 Article  Tiruvannamalai   \n60     451  District                 Article      Villupuram   \n\n         REQUESTED ARTICLE  Change QTY   Sequence list  Real QTY  \\\n0                   Laptop            0             24        17   \n1                   Laptop            0             24        10   \n2   HP Laser Printer 126 A            0             28         1   \n3   HP Laser Printer 126 A            0             28         1   \n4                 Iron Box            0             77        14   \n..                     ...          ...            ...       ...   \n56             Gents Cycle            0            117        23   \n57             Girls Cycle            0            118        13   \n58             Girls Cycle            0            118        11   \n59             Girls Cycle            0            118        14   \n60             Girls Cycle            0            118        40   \n\n    Start Token No.  End Token No.  Token Print  \n0                 0              0            0  \n1                 0              0            0  \n2                 0              0            0  \n3                 0              0            0  \n4                 0              0            0  \n..              ...            ...          ...  \n56                0              0            0  \n57                0              0            0  \n58                0              0            0  \n59                0              0            0  \n60                0              0            0  \n\n[61 rows x 11 columns]",
      "text/html": "<div>\n<style scoped>\n    .dataframe tbody tr th:only-of-type {\n        vertical-align: middle;\n    }\n\n    .dataframe tbody tr th {\n        vertical-align: top;\n    }\n\n    .dataframe thead th {\n        text-align: right;\n    }\n</style>\n<table border=\"1\" class=\"dataframe\">\n  <thead>\n    <tr style=\"text-align: right;\">\n      <th></th>\n      <th>Sl. No</th>\n      <th>D /P / I</th>\n      <th>Project / Article / Aid</th>\n      <th>DISTRICT / NAME</th>\n      <th>REQUESTED ARTICLE</th>\n      <th>Change QTY</th>\n      <th>Sequence list</th>\n      <th>Real QTY</th>\n      <th>Start Token No.</th>\n      <th>End Token No.</th>\n      <th>Token Print</th>\n    </tr>\n  </thead>\n  <tbody>\n    <tr>\n      <th>0</th>\n      <td>46</td>\n      <td>District</td>\n      <td>Article</td>\n      <td>Karnataka</td>\n      <td>Laptop</td>\n      <td>0</td>\n      <td>24</td>\n      <td>17</td>\n      <td>0</td>\n      <td>0</td>\n      <td>0</td>\n    </tr>\n    <tr>\n      <th>1</th>\n      <td>69</td>\n      <td>District</td>\n      <td>Article</td>\n      <td>Villupuram</td>\n      <td>Laptop</td>\n      <td>0</td>\n      <td>24</td>\n      <td>10</td>\n      <td>0</td>\n      <td>0</td>\n      <td>0</td>\n    </tr>\n    <tr>\n      <th>2</th>\n      <td>88</td>\n      <td>District</td>\n      <td>Article</td>\n      <td>Karnataka</td>\n      <td>HP Laser Printer 126 A</td>\n      <td>0</td>\n      <td>28</td>\n      <td>1</td>\n      <td>0</td>\n      <td>0</td>\n      <td>0</td>\n    </tr>\n    <tr>\n      <th>3</th>\n      <td>93</td>\n      <td>District</td>\n      <td>Article</td>\n      <td>Tiruvallur</td>\n      <td>HP Laser Printer 126 A</td>\n      <td>0</td>\n      <td>28</td>\n      <td>1</td>\n      <td>0</td>\n      <td>0</td>\n      <td>0</td>\n    </tr>\n    <tr>\n      <th>4</th>\n      <td>198</td>\n      <td>District</td>\n      <td>Article</td>\n      <td>Kanchipuram</td>\n      <td>Iron Box</td>\n      <td>0</td>\n      <td>77</td>\n      <td>14</td>\n      <td>0</td>\n      <td>0</td>\n      <td>0</td>\n    </tr>\n    <tr>\n      <th>...</th>\n      <td>...</td>\n      <td>...</td>\n      <td>...</td>\n      <td>...</td>\n      <td>...</td>\n      <td>...</td>\n      <td>...</td>\n      <td>...</td>\n      <td>...</td>\n      <td>...</td>\n      <td>...</td>\n    </tr>\n    <tr>\n      <th>56</th>\n      <td>429</td>\n      <td>District</td>\n      <td>Article</td>\n      <td>Villupuram</td>\n      <td>Gents Cycle</td>\n      <td>0</td>\n      <td>117</td>\n      <td>23</td>\n      <td>0</td>\n      <td>0</td>\n      <td>0</td>\n    </tr>\n    <tr>\n      <th>57</th>\n      <td>431</td>\n      <td>District</td>\n      <td>Article</td>\n      <td>Kanchipuram</td>\n      <td>Girls Cycle</td>\n      <td>0</td>\n      <td>118</td>\n      <td>13</td>\n      <td>0</td>\n      <td>0</td>\n      <td>0</td>\n    </tr>\n    <tr>\n      <th>58</th>\n      <td>446</td>\n      <td>District</td>\n      <td>Article</td>\n      <td>Pudukottai</td>\n      <td>Girls Cycle</td>\n      <td>0</td>\n      <td>118</td>\n      <td>11</td>\n      <td>0</td>\n      <td>0</td>\n      <td>0</td>\n    </tr>\n    <tr>\n      <th>59</th>\n      <td>448</td>\n      <td>District</td>\n      <td>Article</td>\n      <td>Tiruvannamalai</td>\n      <td>Girls Cycle</td>\n      <td>0</td>\n      <td>118</td>\n      <td>14</td>\n      <td>0</td>\n      <td>0</td>\n      <td>0</td>\n    </tr>\n    <tr>\n      <th>60</th>\n      <td>451</td>\n      <td>District</td>\n      <td>Article</td>\n      <td>Villupuram</td>\n      <td>Girls Cycle</td>\n      <td>0</td>\n      <td>118</td>\n      <td>40</td>\n      <td>0</td>\n      <td>0</td>\n      <td>0</td>\n    </tr>\n  </tbody>\n</table>\n<p>61 rows × 11 columns</p>\n</div>"
     },
     "execution_count": 128,
     "metadata": {},
     "output_type": "execute_result"
    }
   ],
   "source": [
    "data1[\"Start Token No.\"] = int(0)  # create new column called Start Token No.\n",
    "data1[\"End Token No.\"] = int(0)   # create new column called End Token No.\n",
    "data1[\"Token Print\"] = int(0)\n",
    "data1"
   ],
   "metadata": {
    "collapsed": false
   }
  },
  {
   "cell_type": "code",
   "execution_count": 129,
   "outputs": [
    {
     "data": {
      "text/plain": "     Sl. No  D /P / I Project / Article / Aid      DISTRICT / NAME  \\\n0         1  District                 Project          Tirunelveli   \n1         2  District                 Project           Tuticurion   \n2         3  District                 Project      Chittor - Urban   \n3         4  District                 Project            Karnataka   \n4         5  District                 Project                Erode   \n..      ...       ...                     ...                  ...   \n420     440    Public                 Article  P 120 - A.Muniammal   \n421     441    Public                 Article  P 122 - A.keerthana   \n422     442    Public                 Article        P 123 - P.Uma   \n423     443    Public                 Article   P 165 - Abimeena U   \n424     444    Public                 Article   P 171 - S Nagammal   \n\n           REQUESTED ARTICLE  Change QTY   Sequence list  Real QTY  \\\n0        Project Tirunelveli           11              1        75   \n1         Project Tuticurion           11              1        57   \n2    Project Chittor - Urban            2              2         2   \n3          Project Karnataka            2              3         2   \n4              Project Erode            1              4         1   \n..                       ...          ...            ...       ...   \n420              Girls Cycle            1            118         1   \n421              Girls Cycle            1            118         1   \n422              Girls Cycle            1            118         1   \n423              Girls Cycle            1            118         1   \n424              Girls Cycle            1            118         1   \n\n     Start Token No.  End Token No.  Token Print  \n0                  1             11            0  \n1                 12             22            0  \n2                 23             24            0  \n3                 25             26            0  \n4                 27             27            0  \n..               ...            ...          ...  \n420             1073           1073            1  \n421             1074           1074            1  \n422             1075           1075            1  \n423             1076           1076            1  \n424             1077           1077            1  \n\n[425 rows x 11 columns]",
      "text/html": "<div>\n<style scoped>\n    .dataframe tbody tr th:only-of-type {\n        vertical-align: middle;\n    }\n\n    .dataframe tbody tr th {\n        vertical-align: top;\n    }\n\n    .dataframe thead th {\n        text-align: right;\n    }\n</style>\n<table border=\"1\" class=\"dataframe\">\n  <thead>\n    <tr style=\"text-align: right;\">\n      <th></th>\n      <th>Sl. No</th>\n      <th>D /P / I</th>\n      <th>Project / Article / Aid</th>\n      <th>DISTRICT / NAME</th>\n      <th>REQUESTED ARTICLE</th>\n      <th>Change QTY</th>\n      <th>Sequence list</th>\n      <th>Real QTY</th>\n      <th>Start Token No.</th>\n      <th>End Token No.</th>\n      <th>Token Print</th>\n    </tr>\n  </thead>\n  <tbody>\n    <tr>\n      <th>0</th>\n      <td>1</td>\n      <td>District</td>\n      <td>Project</td>\n      <td>Tirunelveli</td>\n      <td>Project Tirunelveli</td>\n      <td>11</td>\n      <td>1</td>\n      <td>75</td>\n      <td>1</td>\n      <td>11</td>\n      <td>0</td>\n    </tr>\n    <tr>\n      <th>1</th>\n      <td>2</td>\n      <td>District</td>\n      <td>Project</td>\n      <td>Tuticurion</td>\n      <td>Project Tuticurion</td>\n      <td>11</td>\n      <td>1</td>\n      <td>57</td>\n      <td>12</td>\n      <td>22</td>\n      <td>0</td>\n    </tr>\n    <tr>\n      <th>2</th>\n      <td>3</td>\n      <td>District</td>\n      <td>Project</td>\n      <td>Chittor - Urban</td>\n      <td>Project Chittor - Urban</td>\n      <td>2</td>\n      <td>2</td>\n      <td>2</td>\n      <td>23</td>\n      <td>24</td>\n      <td>0</td>\n    </tr>\n    <tr>\n      <th>3</th>\n      <td>4</td>\n      <td>District</td>\n      <td>Project</td>\n      <td>Karnataka</td>\n      <td>Project Karnataka</td>\n      <td>2</td>\n      <td>3</td>\n      <td>2</td>\n      <td>25</td>\n      <td>26</td>\n      <td>0</td>\n    </tr>\n    <tr>\n      <th>4</th>\n      <td>5</td>\n      <td>District</td>\n      <td>Project</td>\n      <td>Erode</td>\n      <td>Project Erode</td>\n      <td>1</td>\n      <td>4</td>\n      <td>1</td>\n      <td>27</td>\n      <td>27</td>\n      <td>0</td>\n    </tr>\n    <tr>\n      <th>...</th>\n      <td>...</td>\n      <td>...</td>\n      <td>...</td>\n      <td>...</td>\n      <td>...</td>\n      <td>...</td>\n      <td>...</td>\n      <td>...</td>\n      <td>...</td>\n      <td>...</td>\n      <td>...</td>\n    </tr>\n    <tr>\n      <th>420</th>\n      <td>440</td>\n      <td>Public</td>\n      <td>Article</td>\n      <td>P 120 - A.Muniammal</td>\n      <td>Girls Cycle</td>\n      <td>1</td>\n      <td>118</td>\n      <td>1</td>\n      <td>1073</td>\n      <td>1073</td>\n      <td>1</td>\n    </tr>\n    <tr>\n      <th>421</th>\n      <td>441</td>\n      <td>Public</td>\n      <td>Article</td>\n      <td>P 122 - A.keerthana</td>\n      <td>Girls Cycle</td>\n      <td>1</td>\n      <td>118</td>\n      <td>1</td>\n      <td>1074</td>\n      <td>1074</td>\n      <td>1</td>\n    </tr>\n    <tr>\n      <th>422</th>\n      <td>442</td>\n      <td>Public</td>\n      <td>Article</td>\n      <td>P 123 - P.Uma</td>\n      <td>Girls Cycle</td>\n      <td>1</td>\n      <td>118</td>\n      <td>1</td>\n      <td>1075</td>\n      <td>1075</td>\n      <td>1</td>\n    </tr>\n    <tr>\n      <th>423</th>\n      <td>443</td>\n      <td>Public</td>\n      <td>Article</td>\n      <td>P 165 - Abimeena U</td>\n      <td>Girls Cycle</td>\n      <td>1</td>\n      <td>118</td>\n      <td>1</td>\n      <td>1076</td>\n      <td>1076</td>\n      <td>1</td>\n    </tr>\n    <tr>\n      <th>424</th>\n      <td>444</td>\n      <td>Public</td>\n      <td>Article</td>\n      <td>P 171 - S Nagammal</td>\n      <td>Girls Cycle</td>\n      <td>1</td>\n      <td>118</td>\n      <td>1</td>\n      <td>1077</td>\n      <td>1077</td>\n      <td>1</td>\n    </tr>\n  </tbody>\n</table>\n<p>425 rows × 11 columns</p>\n</div>"
     },
     "execution_count": 129,
     "metadata": {},
     "output_type": "execute_result"
    }
   ],
   "source": [
    "data = pd.concat([data,data1]).sort_values(by=[\"Sequence list\",\"D /P / I\",\"DISTRICT / NAME\",\"Start Token No.\"]).reset_index(drop=True)\n",
    "data"
   ],
   "metadata": {
    "collapsed": false
   }
  },
  {
   "cell_type": "markdown",
   "source": [
    "### Save the excel file under the name \"Generated_token.xlsx\""
   ],
   "metadata": {
    "collapsed": false
   }
  },
  {
   "cell_type": "code",
   "execution_count": 130,
   "outputs": [
    {
     "data": {
      "text/plain": "     Sl. No  D /P / I Project / Article / Aid      DISTRICT / NAME  \\\n0         1  District                 Project          Tirunelveli   \n1         2  District                 Project           Tuticurion   \n2         3  District                 Project      Chittor - Urban   \n3         4  District                 Project            Karnataka   \n4         5  District                 Project                Erode   \n..      ...       ...                     ...                  ...   \n420     440    Public                 Article  P 120 - A.Muniammal   \n421     441    Public                 Article  P 122 - A.keerthana   \n422     442    Public                 Article        P 123 - P.Uma   \n423     443    Public                 Article   P 165 - Abimeena U   \n424     444    Public                 Article   P 171 - S Nagammal   \n\n           REQUESTED ARTICLE  Change QTY   Sequence list  Real QTY  \\\n0        Project Tirunelveli           11              1        75   \n1         Project Tuticurion           11              1        57   \n2    Project Chittor - Urban            2              2         2   \n3          Project Karnataka            2              3         2   \n4              Project Erode            1              4         1   \n..                       ...          ...            ...       ...   \n420              Girls Cycle            1            118         1   \n421              Girls Cycle            1            118         1   \n422              Girls Cycle            1            118         1   \n423              Girls Cycle            1            118         1   \n424              Girls Cycle            1            118         1   \n\n     Start Token No.  End Token No.  Token Print  \n0                  1             11            0  \n1                 12             22            0  \n2                 23             24            0  \n3                 25             26            0  \n4                 27             27            0  \n..               ...            ...          ...  \n420             1073           1073            1  \n421             1074           1074            1  \n422             1075           1075            1  \n423             1076           1076            1  \n424             1077           1077            1  \n\n[425 rows x 11 columns]",
      "text/html": "<div>\n<style scoped>\n    .dataframe tbody tr th:only-of-type {\n        vertical-align: middle;\n    }\n\n    .dataframe tbody tr th {\n        vertical-align: top;\n    }\n\n    .dataframe thead th {\n        text-align: right;\n    }\n</style>\n<table border=\"1\" class=\"dataframe\">\n  <thead>\n    <tr style=\"text-align: right;\">\n      <th></th>\n      <th>Sl. No</th>\n      <th>D /P / I</th>\n      <th>Project / Article / Aid</th>\n      <th>DISTRICT / NAME</th>\n      <th>REQUESTED ARTICLE</th>\n      <th>Change QTY</th>\n      <th>Sequence list</th>\n      <th>Real QTY</th>\n      <th>Start Token No.</th>\n      <th>End Token No.</th>\n      <th>Token Print</th>\n    </tr>\n  </thead>\n  <tbody>\n    <tr>\n      <th>0</th>\n      <td>1</td>\n      <td>District</td>\n      <td>Project</td>\n      <td>Tirunelveli</td>\n      <td>Project Tirunelveli</td>\n      <td>11</td>\n      <td>1</td>\n      <td>75</td>\n      <td>1</td>\n      <td>11</td>\n      <td>0</td>\n    </tr>\n    <tr>\n      <th>1</th>\n      <td>2</td>\n      <td>District</td>\n      <td>Project</td>\n      <td>Tuticurion</td>\n      <td>Project Tuticurion</td>\n      <td>11</td>\n      <td>1</td>\n      <td>57</td>\n      <td>12</td>\n      <td>22</td>\n      <td>0</td>\n    </tr>\n    <tr>\n      <th>2</th>\n      <td>3</td>\n      <td>District</td>\n      <td>Project</td>\n      <td>Chittor - Urban</td>\n      <td>Project Chittor - Urban</td>\n      <td>2</td>\n      <td>2</td>\n      <td>2</td>\n      <td>23</td>\n      <td>24</td>\n      <td>0</td>\n    </tr>\n    <tr>\n      <th>3</th>\n      <td>4</td>\n      <td>District</td>\n      <td>Project</td>\n      <td>Karnataka</td>\n      <td>Project Karnataka</td>\n      <td>2</td>\n      <td>3</td>\n      <td>2</td>\n      <td>25</td>\n      <td>26</td>\n      <td>0</td>\n    </tr>\n    <tr>\n      <th>4</th>\n      <td>5</td>\n      <td>District</td>\n      <td>Project</td>\n      <td>Erode</td>\n      <td>Project Erode</td>\n      <td>1</td>\n      <td>4</td>\n      <td>1</td>\n      <td>27</td>\n      <td>27</td>\n      <td>0</td>\n    </tr>\n    <tr>\n      <th>...</th>\n      <td>...</td>\n      <td>...</td>\n      <td>...</td>\n      <td>...</td>\n      <td>...</td>\n      <td>...</td>\n      <td>...</td>\n      <td>...</td>\n      <td>...</td>\n      <td>...</td>\n      <td>...</td>\n    </tr>\n    <tr>\n      <th>420</th>\n      <td>440</td>\n      <td>Public</td>\n      <td>Article</td>\n      <td>P 120 - A.Muniammal</td>\n      <td>Girls Cycle</td>\n      <td>1</td>\n      <td>118</td>\n      <td>1</td>\n      <td>1073</td>\n      <td>1073</td>\n      <td>1</td>\n    </tr>\n    <tr>\n      <th>421</th>\n      <td>441</td>\n      <td>Public</td>\n      <td>Article</td>\n      <td>P 122 - A.keerthana</td>\n      <td>Girls Cycle</td>\n      <td>1</td>\n      <td>118</td>\n      <td>1</td>\n      <td>1074</td>\n      <td>1074</td>\n      <td>1</td>\n    </tr>\n    <tr>\n      <th>422</th>\n      <td>442</td>\n      <td>Public</td>\n      <td>Article</td>\n      <td>P 123 - P.Uma</td>\n      <td>Girls Cycle</td>\n      <td>1</td>\n      <td>118</td>\n      <td>1</td>\n      <td>1075</td>\n      <td>1075</td>\n      <td>1</td>\n    </tr>\n    <tr>\n      <th>423</th>\n      <td>443</td>\n      <td>Public</td>\n      <td>Article</td>\n      <td>P 165 - Abimeena U</td>\n      <td>Girls Cycle</td>\n      <td>1</td>\n      <td>118</td>\n      <td>1</td>\n      <td>1076</td>\n      <td>1076</td>\n      <td>1</td>\n    </tr>\n    <tr>\n      <th>424</th>\n      <td>444</td>\n      <td>Public</td>\n      <td>Article</td>\n      <td>P 171 - S Nagammal</td>\n      <td>Girls Cycle</td>\n      <td>1</td>\n      <td>118</td>\n      <td>1</td>\n      <td>1077</td>\n      <td>1077</td>\n      <td>1</td>\n    </tr>\n  </tbody>\n</table>\n<p>425 rows × 11 columns</p>\n</div>"
     },
     "execution_count": 130,
     "metadata": {},
     "output_type": "execute_result"
    }
   ],
   "source": [
    "data.to_excel(\"result/Generated_token.xlsx\",index=False)\n",
    "data"
   ],
   "metadata": {
    "collapsed": false
   }
  },
  {
   "cell_type": "markdown",
   "source": [
    "# Label\n"
   ],
   "metadata": {
    "collapsed": false
   }
  },
  {
   "cell_type": "markdown",
   "source": [
    "### PDF Result, Continous labels as per token number."
   ],
   "metadata": {
    "collapsed": false
   }
  },
  {
   "cell_type": "code",
   "execution_count": 14,
   "outputs": [],
   "source": [
    "# Function to generate PDF file with labels\n",
    "def generate_pdf(labels):\n",
    "    c = canvas.Canvas(\"result/continuous_labels_articles.pdf\", pagesize=portrait(A4))\n",
    "    width, height = portrait(A4)\n",
    "    top_margin = 9 * mm\n",
    "    side_margin = 4 * mm\n",
    "    vertical_pitch = 47 * mm\n",
    "    horizontal_pitch = 102 * mm\n",
    "    label_height = 44 * mm\n",
    "    label_width = 100 * mm\n",
    "    number_across = 2\n",
    "    number_down = 6\n",
    "    corner_radius = 2 * mm\n",
    "\n",
    "\n",
    "    for i, label in enumerate(labels[\"data\"]):\n",
    "        if i % (number_across * number_down) == 0:\n",
    "            c.showPage()  # Start a new page every 12 labels\n",
    "            x_offset = side_margin\n",
    "            y_offset = height - top_margin\n",
    "\n",
    "        col = i % number_across\n",
    "        row = i // number_across % number_down\n",
    "        x = x_offset + col * horizontal_pitch\n",
    "        y = y_offset - row * vertical_pitch - label_height\n",
    "        #c.roundRect(x, y, label_width, label_height, corner_radius)\n",
    "\n",
    "        token, district, article = label\n",
    "\n",
    "        # Determine font size based on the length of the token number\n",
    "        token_font_size = 60\n",
    "        if len(token) == 3:\n",
    "            token_font_size = 50\n",
    "        elif len(token) >= 4:\n",
    "            token_font_size = 47\n",
    "\n",
    "\n",
    "        style_token = ParagraphStyle(name='Arial', fontSize=token_font_size  , alignment=0)\n",
    "        style_article = ParagraphStyle(name='Arial', fontSize=15, leading = 16, alignment=1) #leading  gives space between lines,\n",
    "        style_district = ParagraphStyle(name='Arial', fontSize=15, leading = 14,spaceAfter=20, alignment=1)\n",
    "\n",
    "        token_text = Paragraph(f\"<b>{token}</b>\", style_token)\n",
    "        article_text = Paragraph(f\"<b>{article}</b>\", style_article)\n",
    "        district_text = Paragraph(f\"<b>{district}</b>\", style_district)\n",
    "\n",
    "        # Calculate positions for left alignment\n",
    "        token_text_width, token_text_height = token_text.wrap(label_width / 2, label_height)\n",
    "        token_text.drawOn(c, x + 8 * mm, y + 0.66 * (label_height - token_text_height)) #8mm for horizontal , adjust 0.66 for vertical\n",
    "\n",
    "        # Calculate positions for right alignment\n",
    "        district_text_width, district_text_height = district_text.wrap(label_width / 2, label_height)\n",
    "        district_text.drawOn(c, x + 0.8 * (label_width - district_text_width), y + 0.85 * (label_height - district_text_height))\n",
    "\n",
    "        # Calculate positions for right alignment\n",
    "        article_text_width, article_text_height = article_text.wrap(label_width / 2, label_height)\n",
    "        article_text.drawOn(c, x + 0.8 * (label_width - article_text_width), y + 6 * mm)\n",
    "\n",
    "\n",
    "    c.save()\n",
    "\n",
    "# Read the data\n",
    "data = pd.read_excel(\"result/Generated_token.xlsx\")\n",
    "data = data[data[\"Change QTY \"]!=0]\n",
    "data[\"DISTRICT / NAME\"] = data[\"DISTRICT / NAME\"].str.title()\n",
    "data[\"REQUESTED ARTICLE\"] = data[\"REQUESTED ARTICLE\"].str.title()\n",
    "data['REQUESTED ARTICLE'] = data['REQUESTED ARTICLE'].str.replace('Sewing Machine Ord','Sewing Machine ORD')\n",
    "\n",
    "# Generate labels\n",
    "\n",
    "labels_data = []\n",
    "for _, row in data.iterrows():\n",
    "    tokens = range(row['Start Token No.'], row['End Token No.'] + 1)\n",
    "    for token in tokens:\n",
    "        label_text = (str(token), row['DISTRICT / NAME'], row['REQUESTED ARTICLE'])\n",
    "        labels_data.append(label_text)\n",
    "\n",
    "# Generate PDF file with labels\n",
    "labels = {\"data\": labels_data}\n",
    "generate_pdf(labels)"
   ],
   "metadata": {
    "collapsed": false
   }
  },
  {
   "cell_type": "markdown",
   "source": [
    "## Continous for District"
   ],
   "metadata": {
    "collapsed": false
   }
  },
  {
   "cell_type": "code",
   "execution_count": 188,
   "outputs": [],
   "source": [
    "\n",
    "# Function to generate PDF file with labels\n",
    "def generate_pdf(labels):\n",
    "    c = canvas.Canvas(\"result/continuous_labels_district.pdf\", pagesize=portrait(A4))\n",
    "    width, height = portrait(A4)\n",
    "    top_margin = 9 * mm\n",
    "    side_margin = 4 * mm\n",
    "    vertical_pitch = 47 * mm\n",
    "    horizontal_pitch = 102 * mm\n",
    "    label_height = 44 * mm\n",
    "    label_width = 100 * mm\n",
    "    number_across = 2\n",
    "    number_down = 6\n",
    "    corner_radius = 2 * mm\n",
    "\n",
    "\n",
    "    for i, label in enumerate(labels[\"data\"]):\n",
    "        if i % (number_across * number_down) == 0:\n",
    "            c.showPage()  # Start a new page every 12 labels\n",
    "            x_offset = side_margin\n",
    "            y_offset = height - top_margin\n",
    "\n",
    "        col = i % number_across\n",
    "        row = i // number_across % number_down\n",
    "        x = x_offset + col * horizontal_pitch\n",
    "        y = y_offset - row * vertical_pitch - label_height\n",
    "        #c.roundRect(x, y, label_width, label_height, corner_radius)\n",
    "\n",
    "        token, district, article = label\n",
    "\n",
    "        # Determine font size based on the length of the token number\n",
    "        token_font_size = 60\n",
    "        if len(token) == 3:\n",
    "            token_font_size = 50\n",
    "        elif len(token) >= 4:\n",
    "            token_font_size = 47\n",
    "\n",
    "\n",
    "        style_token = ParagraphStyle(name='Arial', fontSize=token_font_size  , alignment=0)\n",
    "        style_article = ParagraphStyle(name='Arial', fontSize=15, leading = 16, alignment=1) #leading  gives space between lines,\n",
    "        style_district = ParagraphStyle(name='Arial', fontSize=15, leading = 14,spaceAfter=20, alignment=1)\n",
    "\n",
    "        token_text = Paragraph(f\"<b>{token}</b>\", style_token)\n",
    "        article_text = Paragraph(f\"<b>{article}</b>\", style_article)\n",
    "        district_text = Paragraph(f\"<b>{district}</b>\", style_district)\n",
    "\n",
    "        # Calculate positions for left alignment\n",
    "        token_text_width, token_text_height = token_text.wrap(label_width / 2, label_height)\n",
    "        token_text.drawOn(c, x + 8 * mm, y + 0.66 * (label_height - token_text_height)) #8mm for horizontal , adjust 0.66 for vertical\n",
    "\n",
    "        # Calculate positions for right alignment\n",
    "        district_text_width, district_text_height = district_text.wrap(label_width / 2, label_height)\n",
    "        district_text.drawOn(c, x + 0.8 * (label_width - district_text_width), y + 0.85 * (label_height - district_text_height))\n",
    "\n",
    "        # Calculate positions for right alignment\n",
    "        article_text_width, article_text_height = article_text.wrap(label_width / 2, label_height)\n",
    "        article_text.drawOn(c, x + 0.8 * (label_width - article_text_width), y + 6 * mm)\n",
    "\n",
    "\n",
    "    c.save()\n",
    "\n",
    "# Read the data\n",
    "data = pd.read_excel(\"result/Generated_token.xlsx\")\n",
    "data = data[data[\"Change QTY \"]!=0]\n",
    "data[\"DISTRICT / NAME\"] = data[\"DISTRICT / NAME\"].str.title()\n",
    "data[\"REQUESTED ARTICLE\"] = data[\"REQUESTED ARTICLE\"].str.title()\n",
    "data['REQUESTED ARTICLE'] = data['REQUESTED ARTICLE'].str.replace('Sewing Machine Ord','Sewing Machine ORD')\n",
    "dtt1 = data.sort_values(by=[\"DISTRICT / NAME\",\"Start Token No.\"]).reset_index(drop=True)\n",
    "dtt3 = dtt1[dtt1[\"D /P / I\"]==\"District\"]\n",
    "\n",
    "# Generate labels\n",
    "labels_data = []\n",
    "for _, row in dtt3.iterrows():\n",
    "    tokens = range(row['Start Token No.'], row['End Token No.'] + 1)\n",
    "    for token in tokens:\n",
    "        label_text = (str(token), row['DISTRICT / NAME'], row['REQUESTED ARTICLE'])\n",
    "        labels_data.append(label_text)\n",
    "\n",
    "# Generate PDF file with labels\n",
    "labels = {\"data\": labels_data}\n",
    "generate_pdf(labels)\n",
    "\n"
   ],
   "metadata": {
    "collapsed": false
   }
  },
  {
   "cell_type": "markdown",
   "source": [
    "### Continous for Public & institute"
   ],
   "metadata": {
    "collapsed": false
   }
  },
  {
   "cell_type": "code",
   "execution_count": 189,
   "outputs": [],
   "source": [
    "# Function to generate PDF file with labels\n",
    "def generate_pdf(labels):\n",
    "    c = canvas.Canvas(\"result/continuous_labels_P_I.pdf\", pagesize=portrait(A4))\n",
    "    width, height = portrait(A4)\n",
    "    top_margin = 9 * mm\n",
    "    side_margin = 4 * mm\n",
    "    vertical_pitch = 47 * mm\n",
    "    horizontal_pitch = 102 * mm\n",
    "    label_height = 44 * mm\n",
    "    label_width = 100 * mm\n",
    "    number_across = 2\n",
    "    number_down = 6\n",
    "    corner_radius = 2 * mm\n",
    "\n",
    "\n",
    "    for i, label in enumerate(labels[\"data\"]):\n",
    "        if i % (number_across * number_down) == 0:\n",
    "            c.showPage()  # Start a new page every 12 labels\n",
    "            x_offset = side_margin\n",
    "            y_offset = height - top_margin\n",
    "\n",
    "        col = i % number_across\n",
    "        row = i // number_across % number_down\n",
    "        x = x_offset + col * horizontal_pitch\n",
    "        y = y_offset - row * vertical_pitch - label_height\n",
    "        #c.roundRect(x, y, label_width, label_height, corner_radius)\n",
    "\n",
    "        token, district, article = label\n",
    "\n",
    "        # Determine font size based on the length of the token number\n",
    "        token_font_size = 60\n",
    "        if len(token) == 3:\n",
    "            token_font_size = 50\n",
    "        elif len(token) >= 4:\n",
    "            token_font_size = 47\n",
    "\n",
    "\n",
    "        style_token = ParagraphStyle(name='Arial', fontSize=token_font_size  , alignment=0)\n",
    "        style_article = ParagraphStyle(name='Arial', fontSize=15, leading = 16, alignment=1) #leading  gives space between lines,\n",
    "        style_district = ParagraphStyle(name='Arial', fontSize=15, leading = 14,spaceAfter=20, alignment=1)\n",
    "\n",
    "        token_text = Paragraph(f\"<b>{token}</b>\", style_token)\n",
    "        article_text = Paragraph(f\"<b>{article}</b>\", style_article)\n",
    "        district_text = Paragraph(f\"<b>{district}</b>\", style_district)\n",
    "\n",
    "        # Calculate positions for left alignment\n",
    "        token_text_width, token_text_height = token_text.wrap(label_width / 2, label_height)\n",
    "        token_text.drawOn(c, x + 8 * mm, y + 0.66 * (label_height - token_text_height)) #8mm for horizontal , adjust 0.66 for vertical\n",
    "\n",
    "        # Calculate positions for right alignment\n",
    "        district_text_width, district_text_height = district_text.wrap(label_width / 2, label_height)\n",
    "        district_text.drawOn(c, x + 0.8 * (label_width - district_text_width), y + 0.85 * (label_height - district_text_height))\n",
    "\n",
    "        # Calculate positions for right alignment\n",
    "        article_text_width, article_text_height = article_text.wrap(label_width / 2, label_height)\n",
    "        article_text.drawOn(c, x + 0.8 * (label_width - article_text_width), y + 6 * mm)\n",
    "\n",
    "\n",
    "    c.save()\n",
    "\n",
    "# Read the data\n",
    "data = pd.read_excel(\"result/Generated_token.xlsx\")\n",
    "data = data[data[\"Change QTY \"]!=0]\n",
    "data[\"DISTRICT / NAME\"] = data[\"DISTRICT / NAME\"].str.title()\n",
    "data[\"REQUESTED ARTICLE\"] = data[\"REQUESTED ARTICLE\"].str.title()\n",
    "data['REQUESTED ARTICLE'] = data['REQUESTED ARTICLE'].str.replace('Sewing Machine Ord','Sewing Machine ORD')\n",
    "dtt1 = data.sort_values(by=[\"DISTRICT / NAME\",\"Start Token No.\"]).reset_index(drop=True)\n",
    "dtt2 = dtt1[(dtt1[\"D /P / I\"]==\"Public\") | (dtt1[\"D /P / I\"]==\"Institute\")]\n",
    "\n",
    "# Generate labels\n",
    "labels_data = []\n",
    "for _, row in dtt2.iterrows():\n",
    "    tokens = range(row['Start Token No.'], row['End Token No.'] + 1)\n",
    "    for token in tokens:\n",
    "        label_text = (str(token), row['DISTRICT / NAME'], row['REQUESTED ARTICLE'])\n",
    "        labels_data.append(label_text)\n",
    "\n",
    "# Generate PDF file with labels\n",
    "labels = {\"data\": labels_data}\n",
    "generate_pdf(labels)\n",
    "\n"
   ],
   "metadata": {
    "collapsed": false
   }
  },
  {
   "cell_type": "code",
   "execution_count": 40,
   "outputs": [],
   "source": [
    "#without 0\n",
    "data = pd.read_excel(\"result/Generated_token.xlsx\")\n",
    "# data = data[data[\"Change QTY \"]!=0]\n",
    "data[\"DISTRICT / NAME\"] = data[\"DISTRICT / NAME\"].str.title()\n",
    "data[\"REQUESTED ARTICLE\"] = data[\"REQUESTED ARTICLE\"].str.title()\n",
    "data['REQUESTED ARTICLE'] = data['REQUESTED ARTICLE'].str.replace('Sewing Machine Ord','Sewing Machine ORD')\n",
    "data.to_excel(\"Article_0.xlsx\",index=False)"
   ],
   "metadata": {
    "collapsed": false
   }
  },
  {
   "cell_type": "code",
   "execution_count": 158,
   "outputs": [],
   "source": [
    "## Excel sheet for pivot - Article\n",
    "#without 0\n",
    "data = pd.read_excel(\"result/Generated_token.xlsx\")\n",
    "data = data[data[\"Change QTY \"]!=0]\n",
    "data[\"DISTRICT / NAME\"] = data[\"DISTRICT / NAME\"].str.title()\n",
    "data[\"REQUESTED ARTICLE\"] = data[\"REQUESTED ARTICLE\"].str.title()\n",
    "data['REQUESTED ARTICLE'] = data['REQUESTED ARTICLE'].str.replace('Sewing Machine Ord','Sewing Machine ORD')\n",
    "data.to_excel(\"Article.xlsx\",index=False)\n",
    "\n",
    "#without 0\n",
    "data = pd.read_excel(\"result/Generated_token.xlsx\")\n",
    "# data = data[data[\"Change QTY \"]!=0]\n",
    "data[\"DISTRICT / NAME\"] = data[\"DISTRICT / NAME\"].str.title()\n",
    "data[\"REQUESTED ARTICLE\"] = data[\"REQUESTED ARTICLE\"].str.title()\n",
    "data['REQUESTED ARTICLE'] = data['REQUESTED ARTICLE'].str.replace('Sewing Machine Ord','Sewing Machine ORD')\n",
    "data.to_excel(\"Article_0.xlsx\",index=False)\n",
    "\n",
    "\n",
    "\n",
    "## Excel sheet for pivot - District\n",
    "data = pd.read_excel(\"result/Generated_token.xlsx\")\n",
    "# data = data[data[\"Change QTY \"]!=0]\n",
    "data[\"DISTRICT / NAME\"] = data[\"DISTRICT / NAME\"].str.title()\n",
    "data[\"REQUESTED ARTICLE\"] = data[\"REQUESTED ARTICLE\"].str.title()\n",
    "data['REQUESTED ARTICLE'] = data['REQUESTED ARTICLE'].str.replace('Sewing Machine Ord','Sewing Machine ORD')\n",
    "dtt1 = data.sort_values(by=[\"DISTRICT / NAME\",\"Start Token No.\"]).reset_index(drop=True)\n",
    "dtt3 = dtt1[dtt1[\"D /P / I\"]==\"District\"]\n",
    "dtt3.to_excel(\"District.xlsx\",index=False)\n",
    "\n",
    "## Excel sheet for pivot - Public_Instn\n",
    "data = pd.read_excel(\"result/Generated_token.xlsx\")\n",
    "data = data[data[\"Change QTY \"]!=0]\n",
    "data[\"DISTRICT / NAME\"] = data[\"DISTRICT / NAME\"].str.title()\n",
    "data[\"REQUESTED ARTICLE\"] = data[\"REQUESTED ARTICLE\"].str.title()\n",
    "data['REQUESTED ARTICLE'] = data['REQUESTED ARTICLE'].str.replace('Sewing Machine Ord','Sewing Machine ORD')\n",
    "dtt1 = data.sort_values(by=[\"DISTRICT / NAME\",\"Start Token No.\"]).reset_index(drop=True)\n",
    "dtt2 = dtt1[(dtt1[\"D /P / I\"]==\"Public\") | (dtt1[\"D /P / I\"]==\"Institute\")]\n",
    "dtt2.to_excel(\"Public_Instn.xlsx\",index=False)"
   ],
   "metadata": {
    "collapsed": false
   }
  },
  {
   "cell_type": "code",
   "execution_count": null,
   "outputs": [],
   "source": [],
   "metadata": {
    "collapsed": false
   }
  },
  {
   "cell_type": "code",
   "execution_count": null,
   "outputs": [],
   "source": [],
   "metadata": {
    "collapsed": false
   }
  },
  {
   "cell_type": "code",
   "execution_count": null,
   "outputs": [],
   "source": [],
   "metadata": {
    "collapsed": false
   }
  },
  {
   "cell_type": "code",
   "execution_count": null,
   "outputs": [],
   "source": [],
   "metadata": {
    "collapsed": false
   }
  },
  {
   "cell_type": "markdown",
   "source": [
    "### Balance label priint"
   ],
   "metadata": {
    "collapsed": false
   }
  },
  {
   "cell_type": "code",
   "execution_count": 25,
   "outputs": [],
   "source": [
    "# Function to generate PDF file with labels\n",
    "def generate_pdf(labels):\n",
    "    c = canvas.Canvas(\"balance_art.pdf\", pagesize=portrait(A4))\n",
    "    width, height = portrait(A4)\n",
    "    top_margin = 9 * mm\n",
    "    side_margin = 4 * mm\n",
    "    vertical_pitch = 47 * mm\n",
    "    horizontal_pitch = 102 * mm\n",
    "    label_height = 44 * mm\n",
    "    label_width = 100 * mm\n",
    "    number_across = 2\n",
    "    number_down = 6\n",
    "    corner_radius = 2 * mm\n",
    "\n",
    "\n",
    "    for i, label in enumerate(labels[\"data\"]):\n",
    "        if i % (number_across * number_down) == 0:\n",
    "            c.showPage()  # Start a new page every 12 labels\n",
    "            x_offset = side_margin\n",
    "            y_offset = height - top_margin\n",
    "\n",
    "        col = i % number_across\n",
    "        row = i // number_across % number_down\n",
    "        x = x_offset + col * horizontal_pitch\n",
    "        y = y_offset - row * vertical_pitch - label_height\n",
    "        #c.roundRect(x, y, label_width, label_height, corner_radius)\n",
    "\n",
    "        district, article, balance = label\n",
    "\n",
    "        # # Determine font size based on the length of the token number\n",
    "        # token_font_size = 60\n",
    "        # if len(token) == 3:\n",
    "        #     token_font_size = 50\n",
    "        # elif len(token) >= 4:\n",
    "        #     token_font_size = 47\n",
    "\n",
    "\n",
    "        style_token = ParagraphStyle(name='Arial', fontSize=18  , alignment=0)\n",
    "        style_article = ParagraphStyle(name='Arial', fontSize=15, leading = 16, alignment=0) #leading  gives space between lines,\n",
    "        style_district = ParagraphStyle(name='Arial', fontSize=40, leading = 14, alignment=1)\n",
    "\n",
    "        token_text = Paragraph(f\"<b>{district}</b>\", style_token)\n",
    "        article_text = Paragraph(f\"<b>{article}</b>\", style_article)\n",
    "        district_text = Paragraph(f\"<b>{balance}</b>\", style_district)\n",
    "\n",
    "        # Calculate positions for left alignment\n",
    "        token_text_width, token_text_height = token_text.wrap(label_width / 2, label_height)\n",
    "        token_text.drawOn(c, x + 6 * mm, y + 0.8 * (label_height - token_text_height)) #8mm for horizontal , adjust 0.66 for vertical\n",
    "\n",
    "        # Calculate positions for right alignment\n",
    "        district_text_width, district_text_height = district_text.wrap(label_width / 2, label_height)\n",
    "        district_text.drawOn(c, x + 0.8 * (label_width - district_text_width), y + 0.5 * (label_height - district_text_height))\n",
    "\n",
    "        # Calculate positions for right alignment\n",
    "        article_text_width, article_text_height = article_text.wrap(label_width / 2, label_height)\n",
    "        article_text.drawOn(c, x + 0.1 * (label_width - article_text_width), y + 6 * mm)\n",
    "\n",
    "\n",
    "    c.save()\n",
    "\n",
    "# Read the data\n",
    "ds = pd.read_excel(\"/Users/aswathshakthi/PycharmProjects/MNP24/District Article Balance Lists 2024.xlsx\",sheet_name=\"Label balance article\")\n",
    "ds\n",
    "\n",
    "# Generate labels\n",
    "\n",
    "labels_data = []\n",
    "for i in range(0,len(ds)):\n",
    "\n",
    "    label_text = (ds[\"DISTRICT / NAME\"][i], ds[\"REQUESTED ARTICLE\"][i], ds[\"Balance\"][i])\n",
    "    labels_data.append(label_text)\n",
    "\n",
    "# Generate PDF file with labels\n",
    "labels = {\"data\": labels_data}\n",
    "generate_pdf(labels)"
   ],
   "metadata": {
    "collapsed": false
   }
  },
  {
   "cell_type": "markdown",
   "source": [
    "## Project label - Flood Relief fund"
   ],
   "metadata": {
    "collapsed": false
   }
  },
  {
   "cell_type": "code",
   "execution_count": null,
   "outputs": [],
   "source": [
    "# Function to generate PDF file with labels\n",
    "def generate_pdf(labels):\n",
    "    c = canvas.Canvas(\"balance_art.pdf\", pagesize=portrait(A4))\n",
    "    width, height = portrait(A4)\n",
    "    top_margin = 9 * mm\n",
    "    side_margin = 4 * mm\n",
    "    vertical_pitch = 47 * mm\n",
    "    horizontal_pitch = 102 * mm\n",
    "    label_height = 44 * mm\n",
    "    label_width = 100 * mm\n",
    "    number_across = 2\n",
    "    number_down = 6\n",
    "    corner_radius = 2 * mm\n",
    "\n",
    "\n",
    "    for i, label in enumerate(labels[\"data\"]):\n",
    "        if i % (number_across * number_down) == 0:\n",
    "            c.showPage()  # Start a new page every 12 labels\n",
    "            x_offset = side_margin\n",
    "            y_offset = height - top_margin\n",
    "\n",
    "        col = i % number_across\n",
    "        row = i // number_across % number_down\n",
    "        x = x_offset + col * horizontal_pitch\n",
    "        y = y_offset - row * vertical_pitch - label_height\n",
    "        #c.roundRect(x, y, label_width, label_height, corner_radius)\n",
    "\n",
    "        district, article, balance = label\n",
    "\n",
    "        # # Determine font size based on the length of the token number\n",
    "        # token_font_size = 60\n",
    "        # if len(token) == 3:\n",
    "        #     token_font_size = 50\n",
    "        # elif len(token) >= 4:\n",
    "        #     token_font_size = 47\n",
    "\n",
    "\n",
    "        style_token = ParagraphStyle(name='Arial', fontSize=18  , alignment=0)\n",
    "        style_article = ParagraphStyle(name='Arial', fontSize=15, leading = 16, alignment=0) #leading  gives space between lines,\n",
    "        style_district = ParagraphStyle(name='Arial', fontSize=40, leading = 14, alignment=1)\n",
    "\n",
    "        token_text = Paragraph(f\"<b>{district}</b>\", style_token)\n",
    "        article_text = Paragraph(f\"<b>{article}</b>\", style_article)\n",
    "        district_text = Paragraph(f\"<b>{balance}</b>\", style_district)\n",
    "\n",
    "        # Calculate positions for left alignment\n",
    "        token_text_width, token_text_height = token_text.wrap(label_width / 2, label_height)\n",
    "        token_text.drawOn(c, x + 6 * mm, y + 0.8 * (label_height - token_text_height)) #8mm for horizontal , adjust 0.66 for vertical\n",
    "\n",
    "        # Calculate positions for right alignment\n",
    "        district_text_width, district_text_height = district_text.wrap(label_width / 2, label_height)\n",
    "        district_text.drawOn(c, x + 0.8 * (label_width - district_text_width), y + 0.5 * (label_height - district_text_height))\n",
    "\n",
    "        # Calculate positions for right alignment\n",
    "        article_text_width, article_text_height = article_text.wrap(label_width / 2, label_height)\n",
    "        article_text.drawOn(c, x + 0.1 * (label_width - article_text_width), y + 6 * mm)\n",
    "\n",
    "\n",
    "    c.save()\n",
    "\n",
    "# Read the data\n",
    "ds = pd.read_excel(\"/Users/aswathshakthi/PycharmProjects/MNP24/District Article Balance Lists 2024.xlsx\",sheet_name=\"Label balance article\")\n",
    "ds\n",
    "\n",
    "# Generate labels\n",
    "\n",
    "labels_data = []\n",
    "for i in range(0,len(ds)):\n",
    "\n",
    "    label_text = (ds[\"DISTRICT / NAME\"][i], ds[\"REQUESTED ARTICLE\"][i], ds[\"Balance\"][i])\n",
    "    labels_data.append(label_text)\n",
    "\n",
    "# Generate PDF file with labels\n",
    "labels = {\"data\": labels_data}\n",
    "generate_pdf(labels)"
   ],
   "metadata": {
    "collapsed": false
   }
  },
  {
   "cell_type": "markdown",
   "source": [
    "### Article wise list"
   ],
   "metadata": {
    "collapsed": false
   }
  },
  {
   "cell_type": "code",
   "execution_count": 72,
   "outputs": [],
   "source": [
    "# # Function to generate PDF file with labels\n",
    "# def generate_pdf(labels):\n",
    "#     c = canvas.Canvas(\"result/article_labels.pdf\", pagesize=portrait(A4))\n",
    "#\n",
    "#     #Label Dimensions\n",
    "#     width, height = portrait(A4)\n",
    "#     top_margin = 9 * mm\n",
    "#     side_margin = 4 * mm\n",
    "#     vertical_pitch = 47 * mm\n",
    "#     horizontal_pitch = 102 * mm\n",
    "#     label_height = 44 * mm\n",
    "#     label_width = 100 * mm\n",
    "#     number_across = 2\n",
    "#     number_down = 6\n",
    "#     corner_radius = 2 * mm\n",
    "#\n",
    "#\n",
    "#     current_article = None  # Track the current article being printed\n",
    "#     article_pages = 0  # Number of pages printed for the current article\n",
    "#\n",
    "#     for i, label in enumerate(labels[\"data\"]):\n",
    "#\n",
    "#         if label[2] != current_article:\n",
    "#             current_article = label[2]\n",
    "#             article_pages = 0  # Reset the page count for the new article\n",
    "#             if i > 0:\n",
    "#                 c.showPage()  # Start a new page for the new article\n",
    "#\n",
    "#         if article_pages >= 12:  # If already printed 12 labels for this article, start a new page\n",
    "#             c.showPage()\n",
    "#             article_pages = 0\n",
    "#\n",
    "#         col = article_pages % number_across\n",
    "#         row = article_pages // number_across % number_down\n",
    "#\n",
    "#         x = side_margin + col * horizontal_pitch\n",
    "#\n",
    "#         y = height - top_margin - row * vertical_pitch - label_height\n",
    "#\n",
    "#         c.roundRect(x, y, label_width, label_height, corner_radius) #add rectangle border around label\n",
    "#\n",
    "#         token, district, article = label\n",
    "#\n",
    "#         # Determine font size based on the length of the token number\n",
    "#         token_font_size = 45\n",
    "#         if len(token) == 3:\n",
    "#             token_font_size = 42\n",
    "#         elif len(token) == 4:\n",
    "#             token_font_size = 42\n",
    "#\n",
    "#         style_token = ParagraphStyle(name='Arial-Bold', fontSize=token_font_size, alignment=0)\n",
    "#         style_article = ParagraphStyle(name='Arial-Bold', fontSize=16, leading=16, alignment=1)\n",
    "#         style_district = ParagraphStyle(name='Arial-Bold', fontSize=14, leading=16, spaceAfter=20, alignment=1)\n",
    "#\n",
    "#         token_text = Paragraph(f\"<b>{token}</b>\", style_token)\n",
    "#         article_text = Paragraph(f\"<b>{article.title()}</b>\", style_article)\n",
    "#         district_text = Paragraph(f\"<b>{district.title()}</b>\", style_district)\n",
    "#\n",
    "#         # Calculate positions for left alignment\n",
    "#         token_text_width, token_text_height = token_text.wrap(label_width / 2, label_height)\n",
    "#         token_text.drawOn(c, x + 8 * mm, y + 0.66 * (label_height - token_text_height))\n",
    "#\n",
    "#\n",
    "#         # Calculate positions for right alignment\n",
    "#         district_text_width, district_text_height = district_text.wrap(label_width / 2, label_height)\n",
    "#         district_text.drawOn(c, x + 0.8 * (label_width - district_text_width), y +0.85 * (label_height - district_text_height))\n",
    "#\n",
    "#         # Calculate positions for right alignment\n",
    "#         article_text_width, article_text_height = article_text.wrap(label_width / 2, label_height)\n",
    "#         article_text.drawOn(c, x + 0.8 * (label_width - article_text_width), y + 6 * mm)\n",
    "#\n",
    "#\n",
    "#         article_pages += 1  # Increment the page count for the current article\n",
    "#\n",
    "#     c.save()\n",
    "#\n",
    "# # Read the data\n",
    "# data = pd.read_excel(\"result/Generated_token.xlsx\")\n",
    "# data = data[data[\"Change QTY \"]!=0]\n",
    "#\n",
    "#\n",
    "# labels_data = []\n",
    "# for _, row in data.iterrows():\n",
    "#\n",
    "#     tokens = range(row['Start Token No.'], row['End Token No.'] + 1)\n",
    "#     for tokenn in tokens:\n",
    "#         label_text = (str(tokenn), row['DISTRICT / NAME'], row['REQUESTED ARTICLE'])\n",
    "#         labels_data.append(label_text)\n",
    "#\n",
    "# # Generate PDF file with labels\n",
    "# labels = {\"data\": labels_data}\n",
    "# generate_pdf(labels)"
   ],
   "metadata": {
    "collapsed": false
   }
  },
  {
   "cell_type": "markdown",
   "source": [
    "### beneficiary wise list"
   ],
   "metadata": {
    "collapsed": false
   }
  },
  {
   "cell_type": "code",
   "execution_count": 45,
   "outputs": [],
   "source": [
    "# # Function to generate PDF file with labels\n",
    "# def generate_pdf(labels):\n",
    "#     c = canvas.Canvas(\"result/beneficiary_labels.pdf\", pagesize=portrait(A4))\n",
    "#\n",
    "#     #Label Dimensions\n",
    "#     width, height = portrait(A4)\n",
    "#     top_margin = 9 * mm\n",
    "#     side_margin = 4 * mm\n",
    "#     vertical_pitch = 47 * mm\n",
    "#     horizontal_pitch = 102 * mm\n",
    "#     label_height = 44 * mm\n",
    "#     label_width = 100 * mm\n",
    "#     number_across = 2\n",
    "#     number_down = 6\n",
    "#     corner_radius = 2 * mm\n",
    "#\n",
    "#\n",
    "#     current_article = None  # Track the current article being printed\n",
    "#     article_pages = 0  # Number of pages printed for the current article\n",
    "#     public_ben=[]\n",
    "#     for i, label in enumerate(labels[\"data\"]):\n",
    "#\n",
    "#         if current_article is not None and re.match(r'^P \\d+', current_article):\n",
    "#             public_ben.append(label)\n",
    "#\n",
    "#\n",
    "#         if label[1] != current_article: # 1 refers to district and 2 is label. depends on code , check when required\n",
    "#             current_article = label[1]\n",
    "#             article_pages = 0  # Reset the page count for the new article\n",
    "#             if i > 0:\n",
    "#                 c.showPage()  # Start a new page for the new article\n",
    "#\n",
    "#         if article_pages >= 12:  # If already printed 12 labels for this article, start a new page\n",
    "#             c.showPage()\n",
    "#             article_pages = 0\n",
    "#\n",
    "#         col = article_pages % number_across\n",
    "#         row = article_pages // number_across % number_down\n",
    "#\n",
    "#         x = side_margin + col * horizontal_pitch\n",
    "#         y = height - top_margin - row * vertical_pitch - label_height\n",
    "#         #c.roundRect(x, y, label_width, label_height, corner_radius) #add rectangle border around label\n",
    "#\n",
    "#         token, district, article = label\n",
    "#\n",
    "#         # Determine font size based on the length of the token number\n",
    "#         token_font_size = 45\n",
    "#         if len(token) == 3:\n",
    "#             token_font_size = 42\n",
    "#         elif len(token) >= 4:\n",
    "#             token_font_size = 42\n",
    "#\n",
    "#         style_token = ParagraphStyle(name='Arial-Bold', fontSize=token_font_size, alignment=0)\n",
    "#         style_article = ParagraphStyle(name='Arial-Bold', fontSize=16, leading=16, alignment=1)\n",
    "#         style_district = ParagraphStyle(name='Arial-Bold', fontSize=14, leading=16, spaceAfter=20, alignment=1)\n",
    "#\n",
    "#         token_text = Paragraph(f\"<b>{token}</b>\", style_token)\n",
    "#         article_text = Paragraph(f\"<b>{article.title()}</b>\", style_article)\n",
    "#         district_text = Paragraph(f\"<b>{district.title()}</b>\", style_district)\n",
    "#\n",
    "#         # Calculate positions for left alignment\n",
    "#         token_text_width, token_text_height = token_text.wrap(label_width / 2, label_height)\n",
    "#         token_text.drawOn(c, x + 8 * mm, y + 0.66 * (label_height - token_text_height))\n",
    "#\n",
    "#\n",
    "#         # Calculate positions for right alignment\n",
    "#         district_text_width, district_text_height = district_text.wrap(label_width / 2, label_height)\n",
    "#         district_text.drawOn(c, x + 0.8 * (label_width - district_text_width), y + 0.85 * (label_height - district_text_height))\n",
    "#\n",
    "#         # Calculate positions for right alignment\n",
    "#         article_text_width, article_text_height = article_text.wrap(label_width / 2, label_height)\n",
    "#         article_text.drawOn(c, x + 0.8 * (label_width - article_text_width), y + 6 * mm)\n",
    "#\n",
    "#\n",
    "#         article_pages += 1  # Increment the page count for the current article\n",
    "#\n",
    "#     c.save()\n",
    "# def generate_pdfc(labels):\n",
    "#     c = canvas.Canvas(\"result/beneficiary_P_label.pdf\", pagesize=portrait(A4))\n",
    "#\n",
    "#     #Label Dimensions\n",
    "#     width, height = portrait(A4)\n",
    "#     top_margin = 9 * mm\n",
    "#     side_margin = 4 * mm\n",
    "#     vertical_pitch = 47 * mm\n",
    "#     horizontal_pitch = 102 * mm\n",
    "#     label_height = 44 * mm\n",
    "#     label_width = 100 * mm\n",
    "#     number_across = 2\n",
    "#     number_down = 6\n",
    "#     corner_radius = 2 * mm\n",
    "#\n",
    "#     for i, label in enumerate(labels[\"data\"]):\n",
    "#         if i % (number_across * number_down) == 0:\n",
    "#             c.showPage()  # Start a new page every 12 labels\n",
    "#             x_offset = side_margin\n",
    "#             y_offset = height - top_margin\n",
    "#\n",
    "#         col = i % number_across\n",
    "#         row = i // number_across % number_down\n",
    "#         x = x_offset + col * horizontal_pitch\n",
    "#         y = y_offset - row * vertical_pitch - label_height\n",
    "#         #c.roundRect(x, y, label_width, label_height, corner_radius)\n",
    "#\n",
    "#         token, district, article = label\n",
    "#\n",
    "#         # Determine font size based on the length of the token number\n",
    "#         token_font_size = 45\n",
    "#         if len(token) == 3:\n",
    "#             token_font_size = 42\n",
    "#         elif len(token) >= 4:\n",
    "#             token_font_size = 42\n",
    "#\n",
    "#\n",
    "#         style_token = ParagraphStyle(name='Arial', fontSize=token_font_size  , alignment=0)\n",
    "#         style_article = ParagraphStyle(name='Arial', fontSize=16, leading = 16, alignment=1) #leading  gives space between lines,\n",
    "#         style_district = ParagraphStyle(name='Arial', fontSize=14, leading = 16,spaceAfter=20, alignment=1)\n",
    "#\n",
    "#         token_text = Paragraph(f\"<b>{token}</b>\", style_token)\n",
    "#         article_text = Paragraph(f\"<b>{article.title()}</b>\", style_article)\n",
    "#         district_text = Paragraph(f\"<b>{district.title()}</b>\", style_district)\n",
    "#\n",
    "#         # Calculate positions for left alignment\n",
    "#         token_text_width, token_text_height = token_text.wrap(label_width / 2, label_height)\n",
    "#         token_text.drawOn(c, x + 8 * mm, y + 0.66 * (label_height - token_text_height)) #10mm for horizontal , adjust 0.66 for vertical\n",
    "#\n",
    "#          # Calculate positions for right alignment\n",
    "#         district_text_width, district_text_height = district_text.wrap(label_width / 2, label_height)\n",
    "#         district_text.drawOn(c, x + 0.8 * (label_width - district_text_width), y + 0.85 * (label_height - district_text_height))\n",
    "#\n",
    "#         # Calculate positions for right alignment\n",
    "#         article_text_width, article_text_height = article_text.wrap(label_width / 2, label_height)\n",
    "#         article_text.drawOn(c, x + 0.8 * (label_width - article_text_width), y + 6 * mm)\n",
    "#\n",
    "#     c.save()\n",
    "#\n",
    "# # Read the data\n",
    "# data = pd.read_excel(\"result/Generated_token.xlsx\")\n",
    "# '''we need to sort by district since we need based on district in each file. '''\n",
    "# data = data.sort_values(by=\"DISTRICT / NAME\",ascending=True,ignore_index=True)\n",
    "# d1 = data # copy data to d1\n",
    "#\n",
    "# data = data[~data['DISTRICT / NAME'].str.match(r'^P \\d+')].reset_index(drop=True)\n",
    "#\n",
    "# labels_data = []\n",
    "# for _, row in data.iterrows():\n",
    "#     tokens = range(row['Start Token No.'], row['End Token No.'] + 1)\n",
    "#     for tokenn in tokens:\n",
    "#         label_text = (str(tokenn), row['DISTRICT / NAME'], row['REQUESTED ARTICLE'])\n",
    "#         labels_data.append(label_text)\n",
    "#\n",
    "#\n",
    "# # Generate PDF file with labels\n",
    "# labels = {\"data\": labels_data}\n",
    "# generate_pdf(labels)\n",
    "#\n",
    "# d2 = d1[d1['DISTRICT / NAME'].str.match(r'^P \\d+')].reset_index(drop=True)\n",
    "#\n",
    "# labels_data = []\n",
    "# for _, row in d2.iterrows():\n",
    "#     tokens = range(row['Start Token No.'], row['End Token No.'] + 1)\n",
    "#     for tokenn in tokens:\n",
    "#         label_text = (str(tokenn), row['DISTRICT / NAME'], row['REQUESTED ARTICLE'])\n",
    "#         labels_data.append(label_text)\n",
    "#\n",
    "#\n",
    "# # Generate PDF file with labels\n",
    "# labels = {\"data\": labels_data}\n",
    "# generate_pdfc(labels)"
   ],
   "metadata": {
    "collapsed": false
   }
  },
  {
   "cell_type": "code",
   "execution_count": null,
   "outputs": [],
   "source": [
    "# # Generate labels\n",
    "#\n",
    "# labels_data = []\n",
    "# for _, row in data.iterrows():\n",
    "#     if row['Token_count']==\"no\": # print limited tokens\n",
    "#         label_text = (str(row['QTY']), row['District'], row['Article'])\n",
    "#         labels_data.append(label_text)\n",
    "#\n",
    "#\n",
    "#     elif row['D/I/P'] == 'P' or row['D/I/P'] == 'I':   # project mention suffix\n",
    "#         tokens = range(row['Start Token No.'], row['End Token No.'] + 1)\n",
    "#         for token in tokens:\n",
    "#             label_text = (row[\"D/I/P\"] + str(token), row['District'], row['Article'])\n",
    "#             labels_data.append(label_text)\n",
    "#     else:\n",
    "#         tokens = range(row['Start Token No.'], row['End Token No.'] + 1)\n",
    "#         for token in tokens:\n",
    "#             label_text = (str(token), row['District'], row['Article'])\n",
    "#             labels_data.append(label_text)\n",
    "# # Generate PDF file with labels\n",
    "# labels = {\"data\": labels_data}\n",
    "# generate_pdf(labels)"
   ],
   "metadata": {
    "collapsed": false
   }
  },
  {
   "cell_type": "code",
   "execution_count": null,
   "outputs": [],
   "source": [],
   "metadata": {
    "collapsed": false
   }
  },
  {
   "cell_type": "code",
   "execution_count": 56,
   "outputs": [],
   "source": [
    "# use online tool or acrobat to make pdf forms as editable forms, then use the pdf to read the field id names."
   ],
   "metadata": {
    "collapsed": false
   }
  },
  {
   "cell_type": "code",
   "execution_count": 57,
   "outputs": [
    {
     "data": {
      "text/plain": "     Sl. No D /P / I Project / Article / Aid DISTRICT / NAME  \\\n20       22   Public                 Article      K.Eswaraan   \n21       23   Public                 Article  R.Dhanasekaran   \n26       26   Public                 Article    Senthilkumar   \n27       27   Public                 Article         Lalitha   \n33       35   Public                 Article     R.Saravanan   \n..      ...      ...                     ...             ...   \n420     440   Public                 Article     A.Muniammal   \n421     441   Public                 Article     A.keerthana   \n422     442   Public                 Article           P.Uma   \n423     443   Public                 Article      Abimeena U   \n424     444   Public                 Article      S Nagammal   \n\n       REQUESTED ARTICLE  Change QTY   Sequence list  Real QTY  \\\n20   Handicapped Scooter            1             19         1   \n21   Handicapped Scooter            1             19         1   \n26           Two wheeler            1             20         1   \n27           Two wheeler            1             20         1   \n33            Lenova Tab            1             23         1   \n..                   ...          ...            ...       ...   \n420          Girls Cycle            1            118         1   \n421          Girls Cycle            1            118         1   \n422          Girls Cycle            1            118         1   \n423          Girls Cycle            1            118         1   \n424          Girls Cycle            1            118         1   \n\n     Start Token No.  End Token No. App. No.  \n20                56             56    P 079  \n21                57             57    P 097  \n26                65             65    P 048  \n27                66             66    P 057  \n33                82             82    P 060  \n..               ...            ...      ...  \n420             1073           1073    P 120  \n421             1074           1074    P 122  \n422             1075           1075    P 123  \n423             1076           1076    P 165  \n424             1077           1077    P 171  \n\n[135 rows x 11 columns]",
      "text/html": "<div>\n<style scoped>\n    .dataframe tbody tr th:only-of-type {\n        vertical-align: middle;\n    }\n\n    .dataframe tbody tr th {\n        vertical-align: top;\n    }\n\n    .dataframe thead th {\n        text-align: right;\n    }\n</style>\n<table border=\"1\" class=\"dataframe\">\n  <thead>\n    <tr style=\"text-align: right;\">\n      <th></th>\n      <th>Sl. No</th>\n      <th>D /P / I</th>\n      <th>Project / Article / Aid</th>\n      <th>DISTRICT / NAME</th>\n      <th>REQUESTED ARTICLE</th>\n      <th>Change QTY</th>\n      <th>Sequence list</th>\n      <th>Real QTY</th>\n      <th>Start Token No.</th>\n      <th>End Token No.</th>\n      <th>App. No.</th>\n    </tr>\n  </thead>\n  <tbody>\n    <tr>\n      <th>20</th>\n      <td>22</td>\n      <td>Public</td>\n      <td>Article</td>\n      <td>K.Eswaraan</td>\n      <td>Handicapped Scooter</td>\n      <td>1</td>\n      <td>19</td>\n      <td>1</td>\n      <td>56</td>\n      <td>56</td>\n      <td>P 079</td>\n    </tr>\n    <tr>\n      <th>21</th>\n      <td>23</td>\n      <td>Public</td>\n      <td>Article</td>\n      <td>R.Dhanasekaran</td>\n      <td>Handicapped Scooter</td>\n      <td>1</td>\n      <td>19</td>\n      <td>1</td>\n      <td>57</td>\n      <td>57</td>\n      <td>P 097</td>\n    </tr>\n    <tr>\n      <th>26</th>\n      <td>26</td>\n      <td>Public</td>\n      <td>Article</td>\n      <td>Senthilkumar</td>\n      <td>Two wheeler</td>\n      <td>1</td>\n      <td>20</td>\n      <td>1</td>\n      <td>65</td>\n      <td>65</td>\n      <td>P 048</td>\n    </tr>\n    <tr>\n      <th>27</th>\n      <td>27</td>\n      <td>Public</td>\n      <td>Article</td>\n      <td>Lalitha</td>\n      <td>Two wheeler</td>\n      <td>1</td>\n      <td>20</td>\n      <td>1</td>\n      <td>66</td>\n      <td>66</td>\n      <td>P 057</td>\n    </tr>\n    <tr>\n      <th>33</th>\n      <td>35</td>\n      <td>Public</td>\n      <td>Article</td>\n      <td>R.Saravanan</td>\n      <td>Lenova Tab</td>\n      <td>1</td>\n      <td>23</td>\n      <td>1</td>\n      <td>82</td>\n      <td>82</td>\n      <td>P 060</td>\n    </tr>\n    <tr>\n      <th>...</th>\n      <td>...</td>\n      <td>...</td>\n      <td>...</td>\n      <td>...</td>\n      <td>...</td>\n      <td>...</td>\n      <td>...</td>\n      <td>...</td>\n      <td>...</td>\n      <td>...</td>\n      <td>...</td>\n    </tr>\n    <tr>\n      <th>420</th>\n      <td>440</td>\n      <td>Public</td>\n      <td>Article</td>\n      <td>A.Muniammal</td>\n      <td>Girls Cycle</td>\n      <td>1</td>\n      <td>118</td>\n      <td>1</td>\n      <td>1073</td>\n      <td>1073</td>\n      <td>P 120</td>\n    </tr>\n    <tr>\n      <th>421</th>\n      <td>441</td>\n      <td>Public</td>\n      <td>Article</td>\n      <td>A.keerthana</td>\n      <td>Girls Cycle</td>\n      <td>1</td>\n      <td>118</td>\n      <td>1</td>\n      <td>1074</td>\n      <td>1074</td>\n      <td>P 122</td>\n    </tr>\n    <tr>\n      <th>422</th>\n      <td>442</td>\n      <td>Public</td>\n      <td>Article</td>\n      <td>P.Uma</td>\n      <td>Girls Cycle</td>\n      <td>1</td>\n      <td>118</td>\n      <td>1</td>\n      <td>1075</td>\n      <td>1075</td>\n      <td>P 123</td>\n    </tr>\n    <tr>\n      <th>423</th>\n      <td>443</td>\n      <td>Public</td>\n      <td>Article</td>\n      <td>Abimeena U</td>\n      <td>Girls Cycle</td>\n      <td>1</td>\n      <td>118</td>\n      <td>1</td>\n      <td>1076</td>\n      <td>1076</td>\n      <td>P 165</td>\n    </tr>\n    <tr>\n      <th>424</th>\n      <td>444</td>\n      <td>Public</td>\n      <td>Article</td>\n      <td>S Nagammal</td>\n      <td>Girls Cycle</td>\n      <td>1</td>\n      <td>118</td>\n      <td>1</td>\n      <td>1077</td>\n      <td>1077</td>\n      <td>P 171</td>\n    </tr>\n  </tbody>\n</table>\n<p>135 rows × 11 columns</p>\n</div>"
     },
     "execution_count": 57,
     "metadata": {},
     "output_type": "execute_result"
    }
   ],
   "source": [
    "import pandas as pd\n",
    "data = pd.read_excel(\"/Users/aswathshakthi/PycharmProjects/MNP24/result/Generated_token.xlsx\")\n",
    "data[\"DISTRICT / NAME\"] = data[\"DISTRICT / NAME\"].str.replace(\"P 021 Sri Ramakrishna Athmalayam\",\"P 021 - Sri Ramakrishna Athmalayam\")\n",
    "data[['App. No.', 'DISTRICT / NAME']] = data['DISTRICT / NAME'].str.split(' - ', expand=True)\n",
    "\n",
    "data = data[data[\"D /P / I\"]==\"Public\"]\n",
    "data"
   ],
   "metadata": {
    "collapsed": false
   }
  },
  {
   "cell_type": "code",
   "execution_count": 58,
   "outputs": [
    {
     "data": {
      "text/plain": "    App. No.        Aadhar                        Name  \\\n0      P 021             0  Sri Ramakrishna Athmalayam   \n1      P 022  983903078456                   Muniammal   \n2      P 024  574234930127                  D.Rajamani   \n3      P 025  968582816938                 N.Soundarya   \n4      P 026  440497379138                   E.Thangam   \n..       ...           ...                         ...   \n128    P 159  782979049402           Rajeswari Murugan   \n129    P 160  999495896053                    D.Ramesh   \n130    P 161  570743390326                  S.Gkomathi   \n131    P 162  259184932037                      G.Kala   \n132    P 163  741922311245               P.Singaravelu   \n\n                                               Address      Mobile  \n0        Kammavar Palayam Road, Sholavaram, Chennai 67  9884894335  \n1        79,VeeramaNallur, Semmedu, Villupuram 604 153  9342725341  \n2    28/14 Kanniappa Gramani Nagar 2nd St, Kaladipe...  7305301104  \n3                                Kandakariyam, Tanjore  8270654255  \n4    4/34Venbuliamman Koil St, Vandalur, Chennai 60...  7845699984  \n..                                                 ...         ...  \n128           5/56 Kabilar St, Otteri Pirivu, Vandalur  9952922466  \n129                52 Mettu St, Bolur, Thiruvannamalai  7395843049  \n130          Chinnamman Koil St, Avadi, Chennai 600054  9003052745  \n131       69, 4th St, Sarma Nagar, Vyasarpadi, Chennai  6380948390  \n132                               Pattukottai, Tanjore  8012647090  \n\n[133 rows x 5 columns]",
      "text/html": "<div>\n<style scoped>\n    .dataframe tbody tr th:only-of-type {\n        vertical-align: middle;\n    }\n\n    .dataframe tbody tr th {\n        vertical-align: top;\n    }\n\n    .dataframe thead th {\n        text-align: right;\n    }\n</style>\n<table border=\"1\" class=\"dataframe\">\n  <thead>\n    <tr style=\"text-align: right;\">\n      <th></th>\n      <th>App. No.</th>\n      <th>Aadhar</th>\n      <th>Name</th>\n      <th>Address</th>\n      <th>Mobile</th>\n    </tr>\n  </thead>\n  <tbody>\n    <tr>\n      <th>0</th>\n      <td>P 021</td>\n      <td>0</td>\n      <td>Sri Ramakrishna Athmalayam</td>\n      <td>Kammavar Palayam Road, Sholavaram, Chennai 67</td>\n      <td>9884894335</td>\n    </tr>\n    <tr>\n      <th>1</th>\n      <td>P 022</td>\n      <td>983903078456</td>\n      <td>Muniammal</td>\n      <td>79,VeeramaNallur, Semmedu, Villupuram 604 153</td>\n      <td>9342725341</td>\n    </tr>\n    <tr>\n      <th>2</th>\n      <td>P 024</td>\n      <td>574234930127</td>\n      <td>D.Rajamani</td>\n      <td>28/14 Kanniappa Gramani Nagar 2nd St, Kaladipe...</td>\n      <td>7305301104</td>\n    </tr>\n    <tr>\n      <th>3</th>\n      <td>P 025</td>\n      <td>968582816938</td>\n      <td>N.Soundarya</td>\n      <td>Kandakariyam, Tanjore</td>\n      <td>8270654255</td>\n    </tr>\n    <tr>\n      <th>4</th>\n      <td>P 026</td>\n      <td>440497379138</td>\n      <td>E.Thangam</td>\n      <td>4/34Venbuliamman Koil St, Vandalur, Chennai 60...</td>\n      <td>7845699984</td>\n    </tr>\n    <tr>\n      <th>...</th>\n      <td>...</td>\n      <td>...</td>\n      <td>...</td>\n      <td>...</td>\n      <td>...</td>\n    </tr>\n    <tr>\n      <th>128</th>\n      <td>P 159</td>\n      <td>782979049402</td>\n      <td>Rajeswari Murugan</td>\n      <td>5/56 Kabilar St, Otteri Pirivu, Vandalur</td>\n      <td>9952922466</td>\n    </tr>\n    <tr>\n      <th>129</th>\n      <td>P 160</td>\n      <td>999495896053</td>\n      <td>D.Ramesh</td>\n      <td>52 Mettu St, Bolur, Thiruvannamalai</td>\n      <td>7395843049</td>\n    </tr>\n    <tr>\n      <th>130</th>\n      <td>P 161</td>\n      <td>570743390326</td>\n      <td>S.Gkomathi</td>\n      <td>Chinnamman Koil St, Avadi, Chennai 600054</td>\n      <td>9003052745</td>\n    </tr>\n    <tr>\n      <th>131</th>\n      <td>P 162</td>\n      <td>259184932037</td>\n      <td>G.Kala</td>\n      <td>69, 4th St, Sarma Nagar, Vyasarpadi, Chennai</td>\n      <td>6380948390</td>\n    </tr>\n    <tr>\n      <th>132</th>\n      <td>P 163</td>\n      <td>741922311245</td>\n      <td>P.Singaravelu</td>\n      <td>Pattukottai, Tanjore</td>\n      <td>8012647090</td>\n    </tr>\n  </tbody>\n</table>\n<p>133 rows × 5 columns</p>\n</div>"
     },
     "execution_count": 58,
     "metadata": {},
     "output_type": "execute_result"
    }
   ],
   "source": [
    "p_data = pd.read_excel(\"/Users/aswathshakthi/PycharmProjects/MNP24/data/DISTRICT AND PUBLIC DATA BASE 31012024.xlsx\",sheet_name=\"PUBLIC\")\n",
    "p_data = p_data[[\"App. No.\",\"Aadhar\",\"Name\",\"Address\",\"Mobile\"]]\n",
    "p_data"
   ],
   "metadata": {
    "collapsed": false
   }
  },
  {
   "cell_type": "code",
   "execution_count": 59,
   "outputs": [],
   "source": [
    "final_data = data.merge(p_data,how='left',on=\"App. No.\").to_excel(\"Beneficiary_list.xlsx\",index=False)\n",
    "final_data"
   ],
   "metadata": {
    "collapsed": false
   }
  },
  {
   "cell_type": "code",
   "execution_count": 64,
   "outputs": [
    {
     "data": {
      "text/plain": "    App. No. D /P / I Project / Article / Aid DISTRICT / NAME            Name  \\\n0      P 079   Public                 Article      K.Eswaraan      K.Eswaraan   \n1      P 097   Public                 Article  R.Dhanasekaran  R.Dhanasekaran   \n2      P 048   Public                 Article    Senthilkumar    Senthilkumar   \n3      P 057   Public                 Article         Lalitha         Lalitha   \n4      P 060   Public                 Article     R.Saravanan     R.Saravanan   \n..       ...      ...                     ...             ...             ...   \n130    P 120   Public                 Article     A.Muniammal     A.Muniammal   \n131    P 122   Public                 Article     A.keerthana     A.keerthana   \n132    P 123   Public                 Article           P.Uma           P.Uma   \n133    P 165   Public                 Article      Abimeena U             NaN   \n134    P 171   Public                 Article      S Nagammal             NaN   \n\n           Aadhar                                            Address  \\\n0    880008808960             30 Samayan Koil St,  Vandiyur, Madurai   \n1    293196203825  1-118Bramanar St, Anmaruthai PO, Thiruvannamal...   \n2    469823655677                                  GB Nagar, Kalavai   \n3    822512261793   18/39 Thirumalaiappan St, Purasaivakkam, Chennai   \n4    365256851671  11-9-1F Velliyan Chettiyar St, Aandipatti,  62...   \n..            ...                                                ...   \n130  691544883507                             4th St, Venkatesapuram   \n131  994189467928  venkatesapuram Village, Acharapakkam PO, Cheng...   \n132  441456953579       Pakkam Village, Madhuranthagam TK Chenglepat   \n133             0                                                Add   \n134             0                                                Add   \n\n         Mobile    REQUESTED ARTICLE  Change QTY   Sequence list  Real QTY  \\\n0    9791497523  Handicapped Scooter            1             19         1   \n1    9791065580  Handicapped Scooter            1             19         1   \n2    9786865280          Two wheeler            1             20         1   \n3    9345136363          Two wheeler            1             20         1   \n4    8124837667           Lenova Tab            1             23         1   \n..          ...                  ...          ...            ...       ...   \n130  9942796797          Girls Cycle            1            118         1   \n131  9345825969          Girls Cycle            1            118         1   \n132  9942539840          Girls Cycle            1            118         1   \n133           0          Girls Cycle            1            118         1   \n134           0          Girls Cycle            1            118         1   \n\n     Start Token No.  End Token No.  \n0                 56             56  \n1                 57             57  \n2                 65             65  \n3                 66             66  \n4                 82             82  \n..               ...            ...  \n130             1073           1073  \n131             1074           1074  \n132             1075           1075  \n133             1076           1076  \n134             1077           1077  \n\n[135 rows x 14 columns]",
      "text/html": "<div>\n<style scoped>\n    .dataframe tbody tr th:only-of-type {\n        vertical-align: middle;\n    }\n\n    .dataframe tbody tr th {\n        vertical-align: top;\n    }\n\n    .dataframe thead th {\n        text-align: right;\n    }\n</style>\n<table border=\"1\" class=\"dataframe\">\n  <thead>\n    <tr style=\"text-align: right;\">\n      <th></th>\n      <th>App. No.</th>\n      <th>D /P / I</th>\n      <th>Project / Article / Aid</th>\n      <th>DISTRICT / NAME</th>\n      <th>Name</th>\n      <th>Aadhar</th>\n      <th>Address</th>\n      <th>Mobile</th>\n      <th>REQUESTED ARTICLE</th>\n      <th>Change QTY</th>\n      <th>Sequence list</th>\n      <th>Real QTY</th>\n      <th>Start Token No.</th>\n      <th>End Token No.</th>\n    </tr>\n  </thead>\n  <tbody>\n    <tr>\n      <th>0</th>\n      <td>P 079</td>\n      <td>Public</td>\n      <td>Article</td>\n      <td>K.Eswaraan</td>\n      <td>K.Eswaraan</td>\n      <td>880008808960</td>\n      <td>30 Samayan Koil St,  Vandiyur, Madurai</td>\n      <td>9791497523</td>\n      <td>Handicapped Scooter</td>\n      <td>1</td>\n      <td>19</td>\n      <td>1</td>\n      <td>56</td>\n      <td>56</td>\n    </tr>\n    <tr>\n      <th>1</th>\n      <td>P 097</td>\n      <td>Public</td>\n      <td>Article</td>\n      <td>R.Dhanasekaran</td>\n      <td>R.Dhanasekaran</td>\n      <td>293196203825</td>\n      <td>1-118Bramanar St, Anmaruthai PO, Thiruvannamal...</td>\n      <td>9791065580</td>\n      <td>Handicapped Scooter</td>\n      <td>1</td>\n      <td>19</td>\n      <td>1</td>\n      <td>57</td>\n      <td>57</td>\n    </tr>\n    <tr>\n      <th>2</th>\n      <td>P 048</td>\n      <td>Public</td>\n      <td>Article</td>\n      <td>Senthilkumar</td>\n      <td>Senthilkumar</td>\n      <td>469823655677</td>\n      <td>GB Nagar, Kalavai</td>\n      <td>9786865280</td>\n      <td>Two wheeler</td>\n      <td>1</td>\n      <td>20</td>\n      <td>1</td>\n      <td>65</td>\n      <td>65</td>\n    </tr>\n    <tr>\n      <th>3</th>\n      <td>P 057</td>\n      <td>Public</td>\n      <td>Article</td>\n      <td>Lalitha</td>\n      <td>Lalitha</td>\n      <td>822512261793</td>\n      <td>18/39 Thirumalaiappan St, Purasaivakkam, Chennai</td>\n      <td>9345136363</td>\n      <td>Two wheeler</td>\n      <td>1</td>\n      <td>20</td>\n      <td>1</td>\n      <td>66</td>\n      <td>66</td>\n    </tr>\n    <tr>\n      <th>4</th>\n      <td>P 060</td>\n      <td>Public</td>\n      <td>Article</td>\n      <td>R.Saravanan</td>\n      <td>R.Saravanan</td>\n      <td>365256851671</td>\n      <td>11-9-1F Velliyan Chettiyar St, Aandipatti,  62...</td>\n      <td>8124837667</td>\n      <td>Lenova Tab</td>\n      <td>1</td>\n      <td>23</td>\n      <td>1</td>\n      <td>82</td>\n      <td>82</td>\n    </tr>\n    <tr>\n      <th>...</th>\n      <td>...</td>\n      <td>...</td>\n      <td>...</td>\n      <td>...</td>\n      <td>...</td>\n      <td>...</td>\n      <td>...</td>\n      <td>...</td>\n      <td>...</td>\n      <td>...</td>\n      <td>...</td>\n      <td>...</td>\n      <td>...</td>\n      <td>...</td>\n    </tr>\n    <tr>\n      <th>130</th>\n      <td>P 120</td>\n      <td>Public</td>\n      <td>Article</td>\n      <td>A.Muniammal</td>\n      <td>A.Muniammal</td>\n      <td>691544883507</td>\n      <td>4th St, Venkatesapuram</td>\n      <td>9942796797</td>\n      <td>Girls Cycle</td>\n      <td>1</td>\n      <td>118</td>\n      <td>1</td>\n      <td>1073</td>\n      <td>1073</td>\n    </tr>\n    <tr>\n      <th>131</th>\n      <td>P 122</td>\n      <td>Public</td>\n      <td>Article</td>\n      <td>A.keerthana</td>\n      <td>A.keerthana</td>\n      <td>994189467928</td>\n      <td>venkatesapuram Village, Acharapakkam PO, Cheng...</td>\n      <td>9345825969</td>\n      <td>Girls Cycle</td>\n      <td>1</td>\n      <td>118</td>\n      <td>1</td>\n      <td>1074</td>\n      <td>1074</td>\n    </tr>\n    <tr>\n      <th>132</th>\n      <td>P 123</td>\n      <td>Public</td>\n      <td>Article</td>\n      <td>P.Uma</td>\n      <td>P.Uma</td>\n      <td>441456953579</td>\n      <td>Pakkam Village, Madhuranthagam TK Chenglepat</td>\n      <td>9942539840</td>\n      <td>Girls Cycle</td>\n      <td>1</td>\n      <td>118</td>\n      <td>1</td>\n      <td>1075</td>\n      <td>1075</td>\n    </tr>\n    <tr>\n      <th>133</th>\n      <td>P 165</td>\n      <td>Public</td>\n      <td>Article</td>\n      <td>Abimeena U</td>\n      <td>NaN</td>\n      <td>0</td>\n      <td>Add</td>\n      <td>0</td>\n      <td>Girls Cycle</td>\n      <td>1</td>\n      <td>118</td>\n      <td>1</td>\n      <td>1076</td>\n      <td>1076</td>\n    </tr>\n    <tr>\n      <th>134</th>\n      <td>P 171</td>\n      <td>Public</td>\n      <td>Article</td>\n      <td>S Nagammal</td>\n      <td>NaN</td>\n      <td>0</td>\n      <td>Add</td>\n      <td>0</td>\n      <td>Girls Cycle</td>\n      <td>1</td>\n      <td>118</td>\n      <td>1</td>\n      <td>1077</td>\n      <td>1077</td>\n    </tr>\n  </tbody>\n</table>\n<p>135 rows × 14 columns</p>\n</div>"
     },
     "execution_count": 64,
     "metadata": {},
     "output_type": "execute_result"
    }
   ],
   "source": [
    "data= pd.read_excel(\"ack_result/Beneficiary_list.xlsx\")\n",
    "data[\"Aadhar\"] = data[\"Aadhar\"].fillna(0)\n",
    "data[\"Mobile\"] = data[\"Mobile\"].fillna(0)\n",
    "data[\"Address\"] = data[\"Address\"].fillna(\"Add\")\n",
    "data[\"Aadhar\"] = data[\"Aadhar\"].astype(int)\n",
    "data[\"Mobile\"] = data[\"Mobile\"].astype(int)\n",
    "data"
   ],
   "metadata": {
    "collapsed": false
   }
  },
  {
   "cell_type": "code",
   "execution_count": 61,
   "outputs": [],
   "source": [
    "# # get Field names\n",
    "#\n",
    "# from fillpdf import fillpdfs\n",
    "#\n",
    "# # Get form fields from the PDF\n",
    "# form_fields = fillpdfs.get_form_fields(\"data/acknowledgment stage_2.pdf\")\n",
    "#\n",
    "# # Print field names\n",
    "# for field_name in form_fields.keys():\n",
    "#     print(field_name)\n"
   ],
   "metadata": {
    "collapsed": false
   }
  },
  {
   "cell_type": "code",
   "execution_count": 61,
   "outputs": [],
   "source": [],
   "metadata": {
    "collapsed": false
   }
  },
  {
   "cell_type": "code",
   "execution_count": 62,
   "outputs": [],
   "source": [
    "import pandas as pd\n",
    "from fillpdf import fillpdfs\n",
    "import PyPDF2\n",
    "import os\n",
    "# Define a function to fill PDF for each row\n",
    "def fill_pdf_for_row(row):\n",
    "    data_dict = {\n",
    "        # 'district': row['District'],\n",
    "        'address': row['Address'],\n",
    "        'Name': row['DISTRICT / NAME'],\n",
    "        'appno': row['App. No.'],\n",
    "        'token': row['Start Token No.'],\n",
    "        'phone': row['Mobile'],\n",
    "        'aadhar': row['Aadhar'],\n",
    "        'artice': row['REQUESTED ARTICLE']\n",
    "    }\n",
    "    filled_pdf_path = f\"ack_result/{row['Start Token No.']}_filled.pdf\"  # Output path for each filled PDF\n",
    "    fillpdfs.write_fillable_pdf('data/acknowledgment stage_2.pdf', filled_pdf_path, data_dict)\n",
    "\n",
    "    return filled_pdf_path\n",
    "\n",
    "# Apply the function to each row and get list of filled PDF paths\n",
    "filled_pdf_paths = data.apply(fill_pdf_for_row, axis=1).tolist()\n",
    "\n",
    "# Merge all filled PDFs into a single PDF file\n",
    "merged_pdf_path = \"ack_result/all_acknowledgment.pdf\"\n",
    "with open(merged_pdf_path, \"wb\") as output_pdf:\n",
    "    merger = PyPDF2.PdfMerger()\n",
    "    for pdf_path in filled_pdf_paths:\n",
    "        merger.append(pdf_path)\n",
    "    merger.write(output_pdf)\n",
    "\n",
    "# Delete individual filled PDFs\n",
    "for pdf_path in filled_pdf_paths:\n",
    "    os.remove(pdf_path)\n"
   ],
   "metadata": {
    "collapsed": false
   }
  },
  {
   "cell_type": "code",
   "execution_count": 62,
   "outputs": [],
   "source": [],
   "metadata": {
    "collapsed": false
   }
  }
 ],
 "metadata": {
  "kernelspec": {
   "display_name": "Python 3",
   "language": "python",
   "name": "python3"
  },
  "language_info": {
   "codemirror_mode": {
    "name": "ipython",
    "version": 2
   },
   "file_extension": ".py",
   "mimetype": "text/x-python",
   "name": "python",
   "nbconvert_exporter": "python",
   "pygments_lexer": "ipython2",
   "version": "2.7.6"
  }
 },
 "nbformat": 4,
 "nbformat_minor": 0
}
