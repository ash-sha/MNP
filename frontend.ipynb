{
 "cells": [
  {
   "cell_type": "code",
   "id": "initial_id",
   "metadata": {
    "collapsed": true,
    "ExecuteTime": {
     "end_time": "2025-01-22T09:44:49.495428Z",
     "start_time": "2025-01-22T09:44:49.204578Z"
    }
   },
   "source": "import pandas as pd\n",
   "outputs": [],
   "execution_count": 2
  },
  {
   "metadata": {
    "ExecuteTime": {
     "end_time": "2025-01-21T10:07:07.773645Z",
     "start_time": "2025-01-21T10:07:07.766738Z"
    }
   },
   "cell_type": "code",
   "source": [
    "article = pd.read_csv(\"Articles.csv\")\n",
    "article_name = \"Desktop Computer\""
   ],
   "id": "8b12341841f5947",
   "outputs": [],
   "execution_count": 2
  },
  {
   "metadata": {
    "ExecuteTime": {
     "end_time": "2025-01-21T10:08:49.211159Z",
     "start_time": "2025-01-21T10:08:49.206188Z"
    }
   },
   "cell_type": "code",
   "source": "article[article[\"Articles\"]==article_name][\"Cost per unit\"].tolist()[0]",
   "id": "c6576a63d9a76e67",
   "outputs": [
    {
     "data": {
      "text/plain": [
       "20500.0"
      ]
     },
     "execution_count": 16,
     "metadata": {},
     "output_type": "execute_result"
    }
   ],
   "execution_count": 16
  },
  {
   "metadata": {
    "ExecuteTime": {
     "end_time": "2025-01-22T09:58:30.571384Z",
     "start_time": "2025-01-22T09:58:30.483848Z"
    }
   },
   "cell_type": "code",
   "source": [
    "public1 = pd.read_excel(\"DISTRICT AND PUBLIC DATA BASE 31012024.xlsx\",sheet_name=\"DO NOT TOUCH_2021 to 23 data\")\n",
    "public1\n",
    "\n"
   ],
   "id": "48bb2c9beb3376e2",
   "outputs": [
    {
     "data": {
      "text/plain": [
       "           AADHAR No   AADHAR No.1   Len            NAME  \\\n",
       "0     9292 9645 9071  929296459071  12.0   M.KARTHIKEYAN   \n",
       "1     2062 6807 0869  206268070869  12.0    S.RAJESHWARI   \n",
       "2     2593 5886 7697  259358867697  12.0   M.PAECHIMUTHU   \n",
       "3     3636 6154 9968  363661549968  12.0          M.DEVI   \n",
       "4     5263 3195 0205  526331950205  12.0  A.THIYAGARAJAN   \n",
       "...              ...           ...   ...             ...   \n",
       "1008             NaN  450026695024   NaN          S.Hari   \n",
       "1009             NaN  331749803100   NaN  M.Bagyalakshmi   \n",
       "1010             NaN  930634438655   NaN         M.Valli   \n",
       "1011             NaN  408937849173   NaN   P.Gangadharan   \n",
       "1012             NaN  661343939858   NaN   BASKAR SELVAM   \n",
       "\n",
       "                 BENEFICIARY ITEM  YEAR Category Selection Status\\nYes / No  \n",
       "0              Push cart with Top  2021      NaN                        NaN  \n",
       "1            Battery  and Charger  2021      NaN                        NaN  \n",
       "2          Powered Sewing Machine  2021      NaN                        NaN  \n",
       "3                  Sewing Machine  2021      NaN                        NaN  \n",
       "4              Push cart with Top  2021      NaN                        NaN  \n",
       "...                           ...   ...      ...                        ...  \n",
       "1008                  Gents Cycle  2023   Public                        Yes  \n",
       "1009                  Girls Cycle  2023   Public                        Yes  \n",
       "1010                  Girls Cycle  2023   Public                        Yes  \n",
       "1011                          Tab  2023   Public                        Yes  \n",
       "1012  Two wheeler (Rs.25000 cash)  2023   Public                        NaN  \n",
       "\n",
       "[1013 rows x 8 columns]"
      ],
      "text/html": [
       "<div>\n",
       "<style scoped>\n",
       "    .dataframe tbody tr th:only-of-type {\n",
       "        vertical-align: middle;\n",
       "    }\n",
       "\n",
       "    .dataframe tbody tr th {\n",
       "        vertical-align: top;\n",
       "    }\n",
       "\n",
       "    .dataframe thead th {\n",
       "        text-align: right;\n",
       "    }\n",
       "</style>\n",
       "<table border=\"1\" class=\"dataframe\">\n",
       "  <thead>\n",
       "    <tr style=\"text-align: right;\">\n",
       "      <th></th>\n",
       "      <th>AADHAR No</th>\n",
       "      <th>AADHAR No.1</th>\n",
       "      <th>Len</th>\n",
       "      <th>NAME</th>\n",
       "      <th>BENEFICIARY ITEM</th>\n",
       "      <th>YEAR</th>\n",
       "      <th>Category</th>\n",
       "      <th>Selection Status\\nYes / No</th>\n",
       "    </tr>\n",
       "  </thead>\n",
       "  <tbody>\n",
       "    <tr>\n",
       "      <th>0</th>\n",
       "      <td>9292 9645 9071</td>\n",
       "      <td>929296459071</td>\n",
       "      <td>12.0</td>\n",
       "      <td>M.KARTHIKEYAN</td>\n",
       "      <td>Push cart with Top</td>\n",
       "      <td>2021</td>\n",
       "      <td>NaN</td>\n",
       "      <td>NaN</td>\n",
       "    </tr>\n",
       "    <tr>\n",
       "      <th>1</th>\n",
       "      <td>2062 6807 0869</td>\n",
       "      <td>206268070869</td>\n",
       "      <td>12.0</td>\n",
       "      <td>S.RAJESHWARI</td>\n",
       "      <td>Battery  and Charger</td>\n",
       "      <td>2021</td>\n",
       "      <td>NaN</td>\n",
       "      <td>NaN</td>\n",
       "    </tr>\n",
       "    <tr>\n",
       "      <th>2</th>\n",
       "      <td>2593 5886 7697</td>\n",
       "      <td>259358867697</td>\n",
       "      <td>12.0</td>\n",
       "      <td>M.PAECHIMUTHU</td>\n",
       "      <td>Powered Sewing Machine</td>\n",
       "      <td>2021</td>\n",
       "      <td>NaN</td>\n",
       "      <td>NaN</td>\n",
       "    </tr>\n",
       "    <tr>\n",
       "      <th>3</th>\n",
       "      <td>3636 6154 9968</td>\n",
       "      <td>363661549968</td>\n",
       "      <td>12.0</td>\n",
       "      <td>M.DEVI</td>\n",
       "      <td>Sewing Machine</td>\n",
       "      <td>2021</td>\n",
       "      <td>NaN</td>\n",
       "      <td>NaN</td>\n",
       "    </tr>\n",
       "    <tr>\n",
       "      <th>4</th>\n",
       "      <td>5263 3195 0205</td>\n",
       "      <td>526331950205</td>\n",
       "      <td>12.0</td>\n",
       "      <td>A.THIYAGARAJAN</td>\n",
       "      <td>Push cart with Top</td>\n",
       "      <td>2021</td>\n",
       "      <td>NaN</td>\n",
       "      <td>NaN</td>\n",
       "    </tr>\n",
       "    <tr>\n",
       "      <th>...</th>\n",
       "      <td>...</td>\n",
       "      <td>...</td>\n",
       "      <td>...</td>\n",
       "      <td>...</td>\n",
       "      <td>...</td>\n",
       "      <td>...</td>\n",
       "      <td>...</td>\n",
       "      <td>...</td>\n",
       "    </tr>\n",
       "    <tr>\n",
       "      <th>1008</th>\n",
       "      <td>NaN</td>\n",
       "      <td>450026695024</td>\n",
       "      <td>NaN</td>\n",
       "      <td>S.Hari</td>\n",
       "      <td>Gents Cycle</td>\n",
       "      <td>2023</td>\n",
       "      <td>Public</td>\n",
       "      <td>Yes</td>\n",
       "    </tr>\n",
       "    <tr>\n",
       "      <th>1009</th>\n",
       "      <td>NaN</td>\n",
       "      <td>331749803100</td>\n",
       "      <td>NaN</td>\n",
       "      <td>M.Bagyalakshmi</td>\n",
       "      <td>Girls Cycle</td>\n",
       "      <td>2023</td>\n",
       "      <td>Public</td>\n",
       "      <td>Yes</td>\n",
       "    </tr>\n",
       "    <tr>\n",
       "      <th>1010</th>\n",
       "      <td>NaN</td>\n",
       "      <td>930634438655</td>\n",
       "      <td>NaN</td>\n",
       "      <td>M.Valli</td>\n",
       "      <td>Girls Cycle</td>\n",
       "      <td>2023</td>\n",
       "      <td>Public</td>\n",
       "      <td>Yes</td>\n",
       "    </tr>\n",
       "    <tr>\n",
       "      <th>1011</th>\n",
       "      <td>NaN</td>\n",
       "      <td>408937849173</td>\n",
       "      <td>NaN</td>\n",
       "      <td>P.Gangadharan</td>\n",
       "      <td>Tab</td>\n",
       "      <td>2023</td>\n",
       "      <td>Public</td>\n",
       "      <td>Yes</td>\n",
       "    </tr>\n",
       "    <tr>\n",
       "      <th>1012</th>\n",
       "      <td>NaN</td>\n",
       "      <td>661343939858</td>\n",
       "      <td>NaN</td>\n",
       "      <td>BASKAR SELVAM</td>\n",
       "      <td>Two wheeler (Rs.25000 cash)</td>\n",
       "      <td>2023</td>\n",
       "      <td>Public</td>\n",
       "      <td>NaN</td>\n",
       "    </tr>\n",
       "  </tbody>\n",
       "</table>\n",
       "<p>1013 rows × 8 columns</p>\n",
       "</div>"
      ]
     },
     "execution_count": 11,
     "metadata": {},
     "output_type": "execute_result"
    }
   ],
   "execution_count": 11
  },
  {
   "metadata": {},
   "cell_type": "code",
   "outputs": [],
   "execution_count": null,
   "source": [
    "public2 = pd.read_excel(\"DISTRICT AND PUBLIC DATA BASE 31012024.xlsx\",sheet_name=\"DO NOT TOUCH_2021 to 23 data\")\n",
    "public2"
   ],
   "id": "98e393e1a9ccf2d2"
  },
  {
   "metadata": {
    "ExecuteTime": {
     "end_time": "2025-01-22T09:58:50.286178Z",
     "start_time": "2025-01-22T09:58:50.278401Z"
    }
   },
   "cell_type": "code",
   "source": "public1[public1[\"AADHAR No.1\"]== \"780149866273\"][[\"NAME\",\"BENEFICIARY ITEM\",\"YEAR\",\"Selection Status\\nYes / No\"]]",
   "id": "595b980b6cee16dc",
   "outputs": [
    {
     "data": {
      "text/plain": [
       "             NAME BENEFICIARY ITEM  YEAR Selection Status\\nYes / No\n",
       "1002  T.Vigneswar           Laptop  2023                        Yes"
      ],
      "text/html": [
       "<div>\n",
       "<style scoped>\n",
       "    .dataframe tbody tr th:only-of-type {\n",
       "        vertical-align: middle;\n",
       "    }\n",
       "\n",
       "    .dataframe tbody tr th {\n",
       "        vertical-align: top;\n",
       "    }\n",
       "\n",
       "    .dataframe thead th {\n",
       "        text-align: right;\n",
       "    }\n",
       "</style>\n",
       "<table border=\"1\" class=\"dataframe\">\n",
       "  <thead>\n",
       "    <tr style=\"text-align: right;\">\n",
       "      <th></th>\n",
       "      <th>NAME</th>\n",
       "      <th>BENEFICIARY ITEM</th>\n",
       "      <th>YEAR</th>\n",
       "      <th>Selection Status\\nYes / No</th>\n",
       "    </tr>\n",
       "  </thead>\n",
       "  <tbody>\n",
       "    <tr>\n",
       "      <th>1002</th>\n",
       "      <td>T.Vigneswar</td>\n",
       "      <td>Laptop</td>\n",
       "      <td>2023</td>\n",
       "      <td>Yes</td>\n",
       "    </tr>\n",
       "  </tbody>\n",
       "</table>\n",
       "</div>"
      ]
     },
     "execution_count": 13,
     "metadata": {},
     "output_type": "execute_result"
    }
   ],
   "execution_count": 13
  },
  {
   "metadata": {
    "ExecuteTime": {
     "end_time": "2025-01-22T09:58:39.836737Z",
     "start_time": "2025-01-22T09:58:39.833173Z"
    }
   },
   "cell_type": "code",
   "source": "public1.columns\n",
   "id": "446c69f7a5f4252d",
   "outputs": [
    {
     "data": {
      "text/plain": [
       "Index(['AADHAR No', 'AADHAR No.1', 'Len', 'NAME', 'BENEFICIARY ITEM', 'YEAR',\n",
       "       'Category', 'Selection Status\\nYes / No'],\n",
       "      dtype='object')"
      ]
     },
     "execution_count": 12,
     "metadata": {},
     "output_type": "execute_result"
    }
   ],
   "execution_count": 12
  },
  {
   "metadata": {},
   "cell_type": "code",
   "outputs": [],
   "execution_count": null,
   "source": "",
   "id": "1580431a3c0ba4be"
  }
 ],
 "metadata": {
  "kernelspec": {
   "display_name": "Python 3",
   "language": "python",
   "name": "python3"
  },
  "language_info": {
   "codemirror_mode": {
    "name": "ipython",
    "version": 2
   },
   "file_extension": ".py",
   "mimetype": "text/x-python",
   "name": "python",
   "nbconvert_exporter": "python",
   "pygments_lexer": "ipython2",
   "version": "2.7.6"
  }
 },
 "nbformat": 4,
 "nbformat_minor": 5
}
