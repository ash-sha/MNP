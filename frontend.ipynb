{
 "cells": [
  {
   "cell_type": "code",
   "id": "initial_id",
   "metadata": {
    "collapsed": true,
    "ExecuteTime": {
     "end_time": "2025-01-21T10:07:05.659455Z",
     "start_time": "2025-01-21T10:07:05.352099Z"
    }
   },
   "source": "import pandas as pd\n",
   "outputs": [],
   "execution_count": 1
  },
  {
   "metadata": {
    "ExecuteTime": {
     "end_time": "2025-01-21T10:07:07.773645Z",
     "start_time": "2025-01-21T10:07:07.766738Z"
    }
   },
   "cell_type": "code",
   "source": [
    "article = pd.read_csv(\"Articles.csv\")\n",
    "article_name = \"Desktop Computer\""
   ],
   "id": "8b12341841f5947",
   "outputs": [],
   "execution_count": 2
  },
  {
   "metadata": {
    "ExecuteTime": {
     "end_time": "2025-01-21T10:08:49.211159Z",
     "start_time": "2025-01-21T10:08:49.206188Z"
    }
   },
   "cell_type": "code",
   "source": "article[article[\"Articles\"]==article_name][\"Cost per unit\"].tolist()[0]",
   "id": "c6576a63d9a76e67",
   "outputs": [
    {
     "data": {
      "text/plain": [
       "20500.0"
      ]
     },
     "execution_count": 16,
     "metadata": {},
     "output_type": "execute_result"
    }
   ],
   "execution_count": 16
  },
  {
   "metadata": {},
   "cell_type": "code",
   "outputs": [],
   "execution_count": null,
   "source": "",
   "id": "48bb2c9beb3376e2"
  }
 ],
 "metadata": {
  "kernelspec": {
   "display_name": "Python 3",
   "language": "python",
   "name": "python3"
  },
  "language_info": {
   "codemirror_mode": {
    "name": "ipython",
    "version": 2
   },
   "file_extension": ".py",
   "mimetype": "text/x-python",
   "name": "python",
   "nbconvert_exporter": "python",
   "pygments_lexer": "ipython2",
   "version": "2.7.6"
  }
 },
 "nbformat": 4,
 "nbformat_minor": 5
}
