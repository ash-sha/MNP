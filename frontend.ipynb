{
 "cells": [
  {
   "cell_type": "code",
   "id": "initial_id",
   "metadata": {
    "collapsed": true,
    "ExecuteTime": {
     "end_time": "2025-01-22T09:44:49.495428Z",
     "start_time": "2025-01-22T09:44:49.204578Z"
    }
   },
   "source": "import pandas as pd\n",
   "outputs": [],
   "execution_count": 2
  },
  {
   "metadata": {
    "ExecuteTime": {
     "end_time": "2025-01-21T10:07:07.773645Z",
     "start_time": "2025-01-21T10:07:07.766738Z"
    }
   },
   "cell_type": "code",
   "source": [
    "article = pd.read_csv(\"Articles.csv\")\n",
    "article_name = \"Desktop Computer\""
   ],
   "id": "8b12341841f5947",
   "outputs": [],
   "execution_count": 2
  },
  {
   "metadata": {
    "ExecuteTime": {
     "end_time": "2025-01-21T10:08:49.211159Z",
     "start_time": "2025-01-21T10:08:49.206188Z"
    }
   },
   "cell_type": "code",
   "source": "article[article[\"Articles\"]==article_name][\"Cost per unit\"].tolist()[0]",
   "id": "c6576a63d9a76e67",
   "outputs": [
    {
     "data": {
      "text/plain": [
       "20500.0"
      ]
     },
     "execution_count": 16,
     "metadata": {},
     "output_type": "execute_result"
    }
   ],
   "execution_count": 16
  },
  {
   "metadata": {
    "ExecuteTime": {
     "end_time": "2025-01-22T10:21:05.049442Z",
     "start_time": "2025-01-22T10:21:04.962613Z"
    }
   },
   "cell_type": "code",
   "source": [
    "\n",
    "public = pd.read_excel(\"DISTRICT AND PUBLIC DATA BASE 24122024.xlsx\",sheet_name=\"DO NOT TOUCH_2021 to 24 data\")\n",
    "public\n"
   ],
   "id": "48bb2c9beb3376e2",
   "outputs": [
    {
     "data": {
      "text/plain": [
       "           AADHAR No     AADHAR No.1   Len            NAME  \\\n",
       "0     9292 9645 9071    929296459071  12.0   M.KARTHIKEYAN   \n",
       "1     2062 6807 0869    206268070869  12.0    S.RAJESHWARI   \n",
       "2     2593 5886 7697    259358867697  12.0   M.PAECHIMUTHU   \n",
       "3     3636 6154 9968    363661549968  12.0          M.DEVI   \n",
       "4     5263 3195 0205    526331950205  12.0  A.THIYAGARAJAN   \n",
       "...              ...             ...   ...             ...   \n",
       "1153             NaN    345233414455   NaN          Dinesh   \n",
       "1154             NaN    363030001363   NaN         S.Anjan   \n",
       "1155             NaN  9417 6165 4055   NaN       Gajendran   \n",
       "1156             NaN    382908683958   NaN     G.Sakkubhai   \n",
       "1157             NaN    353590938417   NaN       R. Sahana   \n",
       "\n",
       "            BENEFICIARY ITEM  YEAR Category Selection Status\\nYes / No  \n",
       "0         Push cart with Top  2021      NaN                        NaN  \n",
       "1       Battery  and Charger  2021      NaN                        NaN  \n",
       "2     Powered Sewing Machine  2021      NaN                        NaN  \n",
       "3             Sewing Machine  2021      NaN                        NaN  \n",
       "4         Push cart with Top  2021      NaN                        NaN  \n",
       "...                      ...   ...      ...                        ...  \n",
       "1153             Gents Cycle  2024   Public                        NaN  \n",
       "1154             Gents Cycle  2024   Public                        NaN  \n",
       "1155             Medical Aid  2024   Public                        NaN  \n",
       "1156        Tabletop Grinder  2024   Public                        NaN  \n",
       "1157              Lenove Tab  2024   Public                        NaN  \n",
       "\n",
       "[1158 rows x 8 columns]"
      ],
      "text/html": [
       "<div>\n",
       "<style scoped>\n",
       "    .dataframe tbody tr th:only-of-type {\n",
       "        vertical-align: middle;\n",
       "    }\n",
       "\n",
       "    .dataframe tbody tr th {\n",
       "        vertical-align: top;\n",
       "    }\n",
       "\n",
       "    .dataframe thead th {\n",
       "        text-align: right;\n",
       "    }\n",
       "</style>\n",
       "<table border=\"1\" class=\"dataframe\">\n",
       "  <thead>\n",
       "    <tr style=\"text-align: right;\">\n",
       "      <th></th>\n",
       "      <th>AADHAR No</th>\n",
       "      <th>AADHAR No.1</th>\n",
       "      <th>Len</th>\n",
       "      <th>NAME</th>\n",
       "      <th>BENEFICIARY ITEM</th>\n",
       "      <th>YEAR</th>\n",
       "      <th>Category</th>\n",
       "      <th>Selection Status\\nYes / No</th>\n",
       "    </tr>\n",
       "  </thead>\n",
       "  <tbody>\n",
       "    <tr>\n",
       "      <th>0</th>\n",
       "      <td>9292 9645 9071</td>\n",
       "      <td>929296459071</td>\n",
       "      <td>12.0</td>\n",
       "      <td>M.KARTHIKEYAN</td>\n",
       "      <td>Push cart with Top</td>\n",
       "      <td>2021</td>\n",
       "      <td>NaN</td>\n",
       "      <td>NaN</td>\n",
       "    </tr>\n",
       "    <tr>\n",
       "      <th>1</th>\n",
       "      <td>2062 6807 0869</td>\n",
       "      <td>206268070869</td>\n",
       "      <td>12.0</td>\n",
       "      <td>S.RAJESHWARI</td>\n",
       "      <td>Battery  and Charger</td>\n",
       "      <td>2021</td>\n",
       "      <td>NaN</td>\n",
       "      <td>NaN</td>\n",
       "    </tr>\n",
       "    <tr>\n",
       "      <th>2</th>\n",
       "      <td>2593 5886 7697</td>\n",
       "      <td>259358867697</td>\n",
       "      <td>12.0</td>\n",
       "      <td>M.PAECHIMUTHU</td>\n",
       "      <td>Powered Sewing Machine</td>\n",
       "      <td>2021</td>\n",
       "      <td>NaN</td>\n",
       "      <td>NaN</td>\n",
       "    </tr>\n",
       "    <tr>\n",
       "      <th>3</th>\n",
       "      <td>3636 6154 9968</td>\n",
       "      <td>363661549968</td>\n",
       "      <td>12.0</td>\n",
       "      <td>M.DEVI</td>\n",
       "      <td>Sewing Machine</td>\n",
       "      <td>2021</td>\n",
       "      <td>NaN</td>\n",
       "      <td>NaN</td>\n",
       "    </tr>\n",
       "    <tr>\n",
       "      <th>4</th>\n",
       "      <td>5263 3195 0205</td>\n",
       "      <td>526331950205</td>\n",
       "      <td>12.0</td>\n",
       "      <td>A.THIYAGARAJAN</td>\n",
       "      <td>Push cart with Top</td>\n",
       "      <td>2021</td>\n",
       "      <td>NaN</td>\n",
       "      <td>NaN</td>\n",
       "    </tr>\n",
       "    <tr>\n",
       "      <th>...</th>\n",
       "      <td>...</td>\n",
       "      <td>...</td>\n",
       "      <td>...</td>\n",
       "      <td>...</td>\n",
       "      <td>...</td>\n",
       "      <td>...</td>\n",
       "      <td>...</td>\n",
       "      <td>...</td>\n",
       "    </tr>\n",
       "    <tr>\n",
       "      <th>1153</th>\n",
       "      <td>NaN</td>\n",
       "      <td>345233414455</td>\n",
       "      <td>NaN</td>\n",
       "      <td>Dinesh</td>\n",
       "      <td>Gents Cycle</td>\n",
       "      <td>2024</td>\n",
       "      <td>Public</td>\n",
       "      <td>NaN</td>\n",
       "    </tr>\n",
       "    <tr>\n",
       "      <th>1154</th>\n",
       "      <td>NaN</td>\n",
       "      <td>363030001363</td>\n",
       "      <td>NaN</td>\n",
       "      <td>S.Anjan</td>\n",
       "      <td>Gents Cycle</td>\n",
       "      <td>2024</td>\n",
       "      <td>Public</td>\n",
       "      <td>NaN</td>\n",
       "    </tr>\n",
       "    <tr>\n",
       "      <th>1155</th>\n",
       "      <td>NaN</td>\n",
       "      <td>9417 6165 4055</td>\n",
       "      <td>NaN</td>\n",
       "      <td>Gajendran</td>\n",
       "      <td>Medical Aid</td>\n",
       "      <td>2024</td>\n",
       "      <td>Public</td>\n",
       "      <td>NaN</td>\n",
       "    </tr>\n",
       "    <tr>\n",
       "      <th>1156</th>\n",
       "      <td>NaN</td>\n",
       "      <td>382908683958</td>\n",
       "      <td>NaN</td>\n",
       "      <td>G.Sakkubhai</td>\n",
       "      <td>Tabletop Grinder</td>\n",
       "      <td>2024</td>\n",
       "      <td>Public</td>\n",
       "      <td>NaN</td>\n",
       "    </tr>\n",
       "    <tr>\n",
       "      <th>1157</th>\n",
       "      <td>NaN</td>\n",
       "      <td>353590938417</td>\n",
       "      <td>NaN</td>\n",
       "      <td>R. Sahana</td>\n",
       "      <td>Lenove Tab</td>\n",
       "      <td>2024</td>\n",
       "      <td>Public</td>\n",
       "      <td>NaN</td>\n",
       "    </tr>\n",
       "  </tbody>\n",
       "</table>\n",
       "<p>1158 rows × 8 columns</p>\n",
       "</div>"
      ]
     },
     "execution_count": 16,
     "metadata": {},
     "output_type": "execute_result"
    }
   ],
   "execution_count": 16
  },
  {
   "metadata": {
    "ExecuteTime": {
     "end_time": "2025-01-22T09:58:39.836737Z",
     "start_time": "2025-01-22T09:58:39.833173Z"
    }
   },
   "cell_type": "code",
   "source": "\n",
   "id": "446c69f7a5f4252d",
   "outputs": [
    {
     "data": {
      "text/plain": [
       "Index(['AADHAR No', 'AADHAR No.1', 'Len', 'NAME', 'BENEFICIARY ITEM', 'YEAR',\n",
       "       'Category', 'Selection Status\\nYes / No'],\n",
       "      dtype='object')"
      ]
     },
     "execution_count": 12,
     "metadata": {},
     "output_type": "execute_result"
    }
   ],
   "execution_count": 12
  },
  {
   "metadata": {},
   "cell_type": "code",
   "outputs": [],
   "execution_count": null,
   "source": "",
   "id": "1580431a3c0ba4be"
  }
 ],
 "metadata": {
  "kernelspec": {
   "display_name": "Python 3",
   "language": "python",
   "name": "python3"
  },
  "language_info": {
   "codemirror_mode": {
    "name": "ipython",
    "version": 2
   },
   "file_extension": ".py",
   "mimetype": "text/x-python",
   "name": "python",
   "nbconvert_exporter": "python",
   "pygments_lexer": "ipython2",
   "version": "2.7.6"
  }
 },
 "nbformat": 4,
 "nbformat_minor": 5
}
