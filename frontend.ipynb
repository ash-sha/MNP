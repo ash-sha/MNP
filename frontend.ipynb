{
 "cells": [
  {
   "cell_type": "code",
   "id": "initial_id",
   "metadata": {
    "collapsed": true,
    "ExecuteTime": {
     "end_time": "2025-01-22T11:14:01.215390Z",
     "start_time": "2025-01-22T11:14:01.211961Z"
    }
   },
   "source": [
    "import pandas as pd\n",
    "\n",
    "import streamlit as st\n",
    "import pandas as pd\n",
    "import os\n",
    "from pydrive2.auth import GoogleAuth\n",
    "from pydrive2.drive import GoogleDrive"
   ],
   "outputs": [],
   "execution_count": 19
  },
  {
   "metadata": {
    "ExecuteTime": {
     "end_time": "2025-01-22T09:58:39.836737Z",
     "start_time": "2025-01-22T09:58:39.833173Z"
    }
   },
   "cell_type": "code",
   "source": [
    "# Authenticate Google Drive\n",
    "def authenticate_service_account():\n",
    "    gauth = GoogleAuth()\n",
    "    gauth.ServiceAuth()  # Authenticate using the service account credentials\n",
    "    drive = GoogleDrive(gauth)\n",
    "    return drive\n",
    "\n",
    "\n",
    "# Save `saved_data.csv` to Google Drive\n",
    "def save_to_drive(drive, local_file, drive_file_name, folder_id=None):\n",
    "    query = f\"title='{drive_file_name}' and trashed=false\"\n",
    "    if folder_id:\n",
    "        query += f\" and '{folder_id}' in parents\"\n",
    "    file_list = drive.ListFile({'q': query}).GetList()\n",
    "\n",
    "    if file_list:\n",
    "        file = file_list[0]\n",
    "        file.SetContentFile(local_file)\n",
    "        file.Upload()\n",
    "        st.success(f\"File '{drive_file_name}' updated in Google Drive.\")\n",
    "    else:\n",
    "        file_metadata = {'title': drive_file_name}\n",
    "        if folder_id:\n",
    "            file_metadata['parents'] = [{'id': folder_id}]\n",
    "        file = drive.CreateFile(file_metadata)\n",
    "        file.SetContentFile(local_file)\n",
    "        file.Upload()\n",
    "        st.success(f\"File '{drive_file_name}' uploaded to Google Drive.\")\n",
    "\n",
    "\n",
    "drive = authenticate_service_account()\n",
    "\n",
    "\n",
    "save_to_drive(drive, saved_data_file, saved_data_file)\n",
    "st.success(\"Data saved to Google Drive!\")\n",
    "\n"
   ],
   "id": "446c69f7a5f4252d",
   "outputs": [
    {
     "data": {
      "text/plain": [
       "Index(['AADHAR No', 'AADHAR No.1', 'Len', 'NAME', 'BENEFICIARY ITEM', 'YEAR',\n",
       "       'Category', 'Selection Status\\nYes / No'],\n",
       "      dtype='object')"
      ]
     },
     "execution_count": 12,
     "metadata": {},
     "output_type": "execute_result"
    }
   ],
   "execution_count": 12
  },
  {
   "metadata": {
    "ExecuteTime": {
     "end_time": "2025-01-22T11:41:57.722775Z",
     "start_time": "2025-01-22T11:41:54.407033Z"
    }
   },
   "cell_type": "code",
   "source": [
    "from googleapiclient.http import MediaFileUpload\n",
    "from googleapiclient.discovery import build\n",
    "from google.oauth2 import service_account\n",
    "\n",
    "creds = service_account.Credentials.from_service_account_file(\n",
    "    'mnpdatabase-4c0143764944.json',\n",
    "    scopes=['https://www.googleapis.com/auth/drive']\n",
    ")\n",
    "print(creds)\n",
    "drive_service = build('drive', 'v3', credentials=creds)\n",
    "print(drive_service)\n",
    "file_metadata = {\n",
    "    'name': 'articles.csv',\n",
    "    'parents': ['1ritUg2jlAaf2GsiKWndw93_i9Y6yy0ll']  # ID of the folder where you want to upload\n",
    "}\n",
    "\n",
    "print(file_metadata)\n",
    "file_path = 'articles.csv'\n",
    "\n",
    "media = MediaFileUpload(file_path, mimetype='text/csv')\n",
    "\n",
    "file = drive_service.files().create(body=file_metadata, media_body=media, fields='id').execute()\n",
    "file"
   ],
   "id": "1580431a3c0ba4be",
   "outputs": [
    {
     "name": "stdout",
     "output_type": "stream",
     "text": [
      "<google.oauth2.service_account.Credentials object at 0x000002D62B8472F0>\n",
      "<googleapiclient.discovery.Resource object at 0x000002D62B81E710>\n",
      "{'name': 'articles.csv', 'parents': ['1ritUg2jlAaf2GsiKWndw93_i9Y6yy0ll']}\n"
     ]
    },
    {
     "data": {
      "text/plain": [
       "{'id': '1OKNqgWm8OiI8XaPXyMScSx1lhs5W3zth'}"
      ]
     },
     "execution_count": 28,
     "metadata": {},
     "output_type": "execute_result"
    }
   ],
   "execution_count": 28
  },
  {
   "metadata": {},
   "cell_type": "code",
   "outputs": [],
   "execution_count": null,
   "source": [
    "# # downloading\n",
    "# file_id = 'file_id_to_download'\n",
    "# file_path = 'path/to/save/downloaded/file.txt'\n",
    "#\n",
    "# request = drive_service.files().get_media(fileId=file_id)\n",
    "# fh = io.FileIO(file_path, mode='wb')\n",
    "# downloader = MediaIoBaseDownload(fh, request)\n",
    "# done = False\n",
    "#\n",
    "# while not done:\n",
    "#     status, done = downloader.next_chunk()"
   ],
   "id": "d95623f2354cc73"
  }
 ],
 "metadata": {
  "kernelspec": {
   "display_name": "Python 3",
   "language": "python",
   "name": "python3"
  },
  "language_info": {
   "codemirror_mode": {
    "name": "ipython",
    "version": 2
   },
   "file_extension": ".py",
   "mimetype": "text/x-python",
   "name": "python",
   "nbconvert_exporter": "python",
   "pygments_lexer": "ipython2",
   "version": "2.7.6"
  }
 },
 "nbformat": 4,
 "nbformat_minor": 5
}
