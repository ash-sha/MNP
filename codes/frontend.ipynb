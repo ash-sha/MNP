{
 "cells": [
  {
   "metadata": {
    "ExecuteTime": {
     "end_time": "2025-02-07T12:47:50.283057Z",
     "start_time": "2025-02-07T12:47:50.190840Z"
    }
   },
   "cell_type": "code",
   "source": [
    "import io\n",
    "import json\n",
    "import streamlit as st\n",
    "import pandas as pd\n",
    "import os\n",
    "from pydrive2.auth import GoogleAuth\n",
    "from pydrive2.drive import GoogleDrive\n",
    "from googleapiclient.http import MediaFileUpload, MediaIoBaseUpload, MediaIoBaseDownload\n",
    "from googleapiclient.discovery import build\n",
    "from google.oauth2 import service_account\n",
    "import time\n",
    "\n",
    "  # Replace with your file's ID\n",
    "#list of articles\n",
    "article_data_id = \"1b7eyqlN3lTapBRYcO1VrXGsj_gBVSxQLIyLCPu3UcG8\"\n",
    "#list of districts and alloted funds\n",
    "district_data_id = \"1lwJL-_KQaOY3VSd2cOeOdiR5QOn8yvX3zp6xNfQJo9U\"\n",
    "# past public data\n",
    "public_data_id = \"1sO08BfwN1gzNs_N7XDq1RnqMgJDDKMdq_nsaNhmjKhs\"\n",
    "\n",
    "\n",
    "inst_data_id = \"1dOMubywUqJId2gXHwNWp185L3QmadUnwxyFf0DC9M1s\"\n",
    "public_master_id = \"1EdEySmYe6ZJUW16f65_q30nkqfbvDADjcmEkAEJrrL4\"\n",
    "master_data_id = \"1ry614-7R4-s0uQcv0zrNeS4O0KAbhVEC67rl5_VllGI\"\n",
    "\n",
    "## Access API from local json\n",
    "creds = service_account.Credentials.from_service_account_file('/Users/aswathshakthi/PycharmProjects/MNP25/data/mnpdatabase-ca1a93fefdd6.json',\n",
    "        scopes=['https://www.googleapis.com/auth/drive'])\n",
    "\n",
    "## Access via streamlit secrets\n",
    "credentials_dict = json.loads(st.secrets[\"gcp\"][\"credentials\"])\n",
    "# creds = service_account.Credentials.from_service_account_info(credentials_dict, scopes=['https://www.googleapis.com/auth/drive'])\n",
    "drive_service = build('drive', 'v3', credentials=creds)\n"
   ],
   "id": "3555ea0e51f059e0",
   "outputs": [],
   "execution_count": 173
  },
  {
   "metadata": {
    "ExecuteTime": {
     "end_time": "2025-02-07T12:47:50.289767Z",
     "start_time": "2025-02-07T12:47:50.286573Z"
    }
   },
   "cell_type": "code",
   "source": [
    "def read_file(file_id):\n",
    "    try:\n",
    "        # Specify the desired MIME type for export (e.g., text/csv for Sheets)\n",
    "        request = drive_service.files().export_media(\n",
    "            fileId=file_id,\n",
    "            mimeType='text/csv'  # Change this based on the file type\n",
    "        )\n",
    "        file_stream = io.BytesIO()\n",
    "        downloader = MediaIoBaseDownload(file_stream, request)\n",
    "\n",
    "        done = False\n",
    "        while not done:\n",
    "            status, done = downloader.next_chunk()\n",
    "            print(f\"Download progress: {int(status.progress() * 100)}%\")\n",
    "\n",
    "        file_stream.seek(0)  # Reset the stream position\n",
    "        df = pd.read_csv(file_stream)\n",
    "        return df\n",
    "\n",
    "    except Exception as e:\n",
    "        st.error(f\"Failed to read file: {e}\")"
   ],
   "id": "b91383a2f14f9e9c",
   "outputs": [],
   "execution_count": 174
  },
  {
   "metadata": {
    "ExecuteTime": {
     "end_time": "2025-02-07T12:47:50.310474Z",
     "start_time": "2025-02-07T12:47:50.307159Z"
    }
   },
   "cell_type": "code",
   "source": [
    "def update_file(file_id, updated_df):\n",
    "    updated_stream = io.BytesIO()\n",
    "    updated_df.to_csv(updated_stream, index=False)\n",
    "    updated_stream.seek(0)\n",
    "\n",
    "    media = MediaIoBaseUpload(updated_stream, mimetype=\"text/csv\")\n",
    "    updated_file = drive_service.files().update(\n",
    "        fileId=file_id,\n",
    "        media_body=media).execute()\n",
    "\n",
    "    alert1 = st.success(f\"File updated: {updated_file.get('id')}\")\n",
    "    time.sleep(1)\n",
    "    alert1.empty()"
   ],
   "id": "7e0f53c1dfd3e919",
   "outputs": [],
   "execution_count": 175
  },
  {
   "metadata": {
    "ExecuteTime": {
     "end_time": "2025-02-07T12:47:51.606131Z",
     "start_time": "2025-02-07T12:47:50.328340Z"
    }
   },
   "cell_type": "code",
   "source": [
    "articles_df = read_file(article_data_id)\n",
    "# Find invalid article names\n",
    "def valid_articles(one):\n",
    "    invalid_articles = set(one) - set(articles_df[\"Articles\"])\n",
    "\n",
    "    # Output result\n",
    "    if invalid_articles:\n",
    "        print(\"These articles are not in the master list:\")\n",
    "        print(\"\\n\".join(invalid_articles))\n",
    "    else:\n",
    "        print(\"All articles are valid.\")\n"
   ],
   "id": "61d657c8c14a7a5f",
   "outputs": [
    {
     "name": "stdout",
     "output_type": "stream",
     "text": [
      "Download progress: 100%\n"
     ]
    }
   ],
   "execution_count": 176
  },
  {
   "metadata": {},
   "cell_type": "markdown",
   "source": "## District\n",
   "id": "244a14bcdf6ccb1e"
  },
  {
   "metadata": {
    "ExecuteTime": {
     "end_time": "2025-02-07T12:47:52.968898Z",
     "start_time": "2025-02-07T12:47:51.682332Z"
    }
   },
   "cell_type": "code",
   "source": [
    "district_df = read_file(master_data_id)\n",
    "district_df\n"
   ],
   "id": "2e75ae83fbed6c32",
   "outputs": [
    {
     "name": "stdout",
     "output_type": "stream",
     "text": [
      "Download progress: 100%\n"
     ]
    },
    {
     "data": {
      "text/plain": [
       "    NAME OF THE DISTRICT                  REQUESTED ARTICLE ITEM TYPE  \\\n",
       "0               Ariyalur               Agri Battery Sprayer   Article   \n",
       "1               Ariyalur          Canon Printer 6030B (USB)   Article   \n",
       "2               Ariyalur                   Desktop Computer   Article   \n",
       "3               Ariyalur                 Sewing Machine ORD   Article   \n",
       "4           Chengalpattu         Agri Power Sprayer (2 STK)   Article   \n",
       "..                   ...                                ...       ...   \n",
       "366         Virudhunagar             Ex gratia for Deceased       Aid   \n",
       "367         Virudhunagar                        Medical Aid       Aid   \n",
       "368         Virudhunagar  Provision materials to Orphanages   Article   \n",
       "369       Visakapattinam        Bosch Rotary Hammer GBH 220   Article   \n",
       "370       Visakapattinam                 Sewing Machine ORD   Article   \n",
       "\n",
       "     QUANTITY  COST PER UNIT  TOTAL COST  ALLOTTED FUNDS  EXCESS/SHORTAGE  \\\n",
       "0           7         4200.0     29400.0        176000.0              NaN   \n",
       "1           1        13900.0     13900.0             NaN              NaN   \n",
       "2           1        45500.0     45500.0             NaN              NaN   \n",
       "3          15         5200.0     78000.0             NaN           9200.0   \n",
       "4           2        11760.0     23520.0        160000.0              NaN   \n",
       "..        ...            ...         ...             ...              ...   \n",
       "366         1        75000.0     75000.0             NaN              NaN   \n",
       "367         1        50000.0     50000.0             NaN              NaN   \n",
       "368         1       200000.0    200000.0             NaN              0.0   \n",
       "369         1         6372.0      6372.0         15000.0              NaN   \n",
       "370        10         5200.0     52000.0             NaN         -43372.0   \n",
       "\n",
       "                             COMMENTS Beneficiary Type  \n",
       "0                                  No         District  \n",
       "1                                  No         District  \n",
       "2                                  No         District  \n",
       "3                                  No         District  \n",
       "4                                  No         District  \n",
       "..                                ...              ...  \n",
       "366                         Rameswari         District  \n",
       "367                       Karuppasamy         District  \n",
       "368  Adhiparasakthi elderly aged Home         District  \n",
       "369                                No         District  \n",
       "370                                No         District  \n",
       "\n",
       "[371 rows x 10 columns]"
      ],
      "text/html": [
       "<div>\n",
       "<style scoped>\n",
       "    .dataframe tbody tr th:only-of-type {\n",
       "        vertical-align: middle;\n",
       "    }\n",
       "\n",
       "    .dataframe tbody tr th {\n",
       "        vertical-align: top;\n",
       "    }\n",
       "\n",
       "    .dataframe thead th {\n",
       "        text-align: right;\n",
       "    }\n",
       "</style>\n",
       "<table border=\"1\" class=\"dataframe\">\n",
       "  <thead>\n",
       "    <tr style=\"text-align: right;\">\n",
       "      <th></th>\n",
       "      <th>NAME OF THE DISTRICT</th>\n",
       "      <th>REQUESTED ARTICLE</th>\n",
       "      <th>ITEM TYPE</th>\n",
       "      <th>QUANTITY</th>\n",
       "      <th>COST PER UNIT</th>\n",
       "      <th>TOTAL COST</th>\n",
       "      <th>ALLOTTED FUNDS</th>\n",
       "      <th>EXCESS/SHORTAGE</th>\n",
       "      <th>COMMENTS</th>\n",
       "      <th>Beneficiary Type</th>\n",
       "    </tr>\n",
       "  </thead>\n",
       "  <tbody>\n",
       "    <tr>\n",
       "      <th>0</th>\n",
       "      <td>Ariyalur</td>\n",
       "      <td>Agri Battery Sprayer</td>\n",
       "      <td>Article</td>\n",
       "      <td>7</td>\n",
       "      <td>4200.0</td>\n",
       "      <td>29400.0</td>\n",
       "      <td>176000.0</td>\n",
       "      <td>NaN</td>\n",
       "      <td>No</td>\n",
       "      <td>District</td>\n",
       "    </tr>\n",
       "    <tr>\n",
       "      <th>1</th>\n",
       "      <td>Ariyalur</td>\n",
       "      <td>Canon Printer 6030B (USB)</td>\n",
       "      <td>Article</td>\n",
       "      <td>1</td>\n",
       "      <td>13900.0</td>\n",
       "      <td>13900.0</td>\n",
       "      <td>NaN</td>\n",
       "      <td>NaN</td>\n",
       "      <td>No</td>\n",
       "      <td>District</td>\n",
       "    </tr>\n",
       "    <tr>\n",
       "      <th>2</th>\n",
       "      <td>Ariyalur</td>\n",
       "      <td>Desktop Computer</td>\n",
       "      <td>Article</td>\n",
       "      <td>1</td>\n",
       "      <td>45500.0</td>\n",
       "      <td>45500.0</td>\n",
       "      <td>NaN</td>\n",
       "      <td>NaN</td>\n",
       "      <td>No</td>\n",
       "      <td>District</td>\n",
       "    </tr>\n",
       "    <tr>\n",
       "      <th>3</th>\n",
       "      <td>Ariyalur</td>\n",
       "      <td>Sewing Machine ORD</td>\n",
       "      <td>Article</td>\n",
       "      <td>15</td>\n",
       "      <td>5200.0</td>\n",
       "      <td>78000.0</td>\n",
       "      <td>NaN</td>\n",
       "      <td>9200.0</td>\n",
       "      <td>No</td>\n",
       "      <td>District</td>\n",
       "    </tr>\n",
       "    <tr>\n",
       "      <th>4</th>\n",
       "      <td>Chengalpattu</td>\n",
       "      <td>Agri Power Sprayer (2 STK)</td>\n",
       "      <td>Article</td>\n",
       "      <td>2</td>\n",
       "      <td>11760.0</td>\n",
       "      <td>23520.0</td>\n",
       "      <td>160000.0</td>\n",
       "      <td>NaN</td>\n",
       "      <td>No</td>\n",
       "      <td>District</td>\n",
       "    </tr>\n",
       "    <tr>\n",
       "      <th>...</th>\n",
       "      <td>...</td>\n",
       "      <td>...</td>\n",
       "      <td>...</td>\n",
       "      <td>...</td>\n",
       "      <td>...</td>\n",
       "      <td>...</td>\n",
       "      <td>...</td>\n",
       "      <td>...</td>\n",
       "      <td>...</td>\n",
       "      <td>...</td>\n",
       "    </tr>\n",
       "    <tr>\n",
       "      <th>366</th>\n",
       "      <td>Virudhunagar</td>\n",
       "      <td>Ex gratia for Deceased</td>\n",
       "      <td>Aid</td>\n",
       "      <td>1</td>\n",
       "      <td>75000.0</td>\n",
       "      <td>75000.0</td>\n",
       "      <td>NaN</td>\n",
       "      <td>NaN</td>\n",
       "      <td>Rameswari</td>\n",
       "      <td>District</td>\n",
       "    </tr>\n",
       "    <tr>\n",
       "      <th>367</th>\n",
       "      <td>Virudhunagar</td>\n",
       "      <td>Medical Aid</td>\n",
       "      <td>Aid</td>\n",
       "      <td>1</td>\n",
       "      <td>50000.0</td>\n",
       "      <td>50000.0</td>\n",
       "      <td>NaN</td>\n",
       "      <td>NaN</td>\n",
       "      <td>Karuppasamy</td>\n",
       "      <td>District</td>\n",
       "    </tr>\n",
       "    <tr>\n",
       "      <th>368</th>\n",
       "      <td>Virudhunagar</td>\n",
       "      <td>Provision materials to Orphanages</td>\n",
       "      <td>Article</td>\n",
       "      <td>1</td>\n",
       "      <td>200000.0</td>\n",
       "      <td>200000.0</td>\n",
       "      <td>NaN</td>\n",
       "      <td>0.0</td>\n",
       "      <td>Adhiparasakthi elderly aged Home</td>\n",
       "      <td>District</td>\n",
       "    </tr>\n",
       "    <tr>\n",
       "      <th>369</th>\n",
       "      <td>Visakapattinam</td>\n",
       "      <td>Bosch Rotary Hammer GBH 220</td>\n",
       "      <td>Article</td>\n",
       "      <td>1</td>\n",
       "      <td>6372.0</td>\n",
       "      <td>6372.0</td>\n",
       "      <td>15000.0</td>\n",
       "      <td>NaN</td>\n",
       "      <td>No</td>\n",
       "      <td>District</td>\n",
       "    </tr>\n",
       "    <tr>\n",
       "      <th>370</th>\n",
       "      <td>Visakapattinam</td>\n",
       "      <td>Sewing Machine ORD</td>\n",
       "      <td>Article</td>\n",
       "      <td>10</td>\n",
       "      <td>5200.0</td>\n",
       "      <td>52000.0</td>\n",
       "      <td>NaN</td>\n",
       "      <td>-43372.0</td>\n",
       "      <td>No</td>\n",
       "      <td>District</td>\n",
       "    </tr>\n",
       "  </tbody>\n",
       "</table>\n",
       "<p>371 rows × 10 columns</p>\n",
       "</div>"
      ]
     },
     "execution_count": 177,
     "metadata": {},
     "output_type": "execute_result"
    }
   ],
   "execution_count": 177
  },
  {
   "metadata": {
    "ExecuteTime": {
     "end_time": "2025-02-07T12:49:52.034112Z",
     "start_time": "2025-02-07T12:49:52.029957Z"
    }
   },
   "cell_type": "code",
   "source": "district_df.duplicated(subset=[\"NAME OF THE DISTRICT\",\"REQUESTED ARTICLE\",\"QUANTITY\",\"COMMENTS\"]).any()",
   "id": "371ee22eb9d91402",
   "outputs": [
    {
     "data": {
      "text/plain": [
       "np.False_"
      ]
     },
     "execution_count": 183,
     "metadata": {},
     "output_type": "execute_result"
    }
   ],
   "execution_count": 183
  },
  {
   "metadata": {
    "ExecuteTime": {
     "end_time": "2025-02-07T12:32:20.597007Z",
     "start_time": "2025-02-07T12:32:20.594230Z"
    }
   },
   "cell_type": "code",
   "source": "valid_articles(district_df[\"REQUESTED ARTICLE\"])",
   "id": "939ed050f31c2fb6",
   "outputs": [
    {
     "name": "stdout",
     "output_type": "stream",
     "text": [
      "All articles are valid.\n"
     ]
    }
   ],
   "execution_count": 138
  },
  {
   "metadata": {
    "ExecuteTime": {
     "end_time": "2025-02-07T12:32:22.308425Z",
     "start_time": "2025-02-07T12:32:22.304172Z"
    }
   },
   "cell_type": "code",
   "source": "district_df[\"NAME OF THE DISTRICT\"].nunique()",
   "id": "452be1a3d0b64639",
   "outputs": [
    {
     "data": {
      "text/plain": [
       "60"
      ]
     },
     "execution_count": 139,
     "metadata": {},
     "output_type": "execute_result"
    }
   ],
   "execution_count": 139
  },
  {
   "metadata": {
    "ExecuteTime": {
     "end_time": "2025-02-07T12:32:23.173945Z",
     "start_time": "2025-02-07T12:32:23.169870Z"
    }
   },
   "cell_type": "code",
   "source": "district_df[\"REQUESTED ARTICLE\"].nunique()",
   "id": "9b11ceeefd9f1347",
   "outputs": [
    {
     "data": {
      "text/plain": [
       "68"
      ]
     },
     "execution_count": 140,
     "metadata": {},
     "output_type": "execute_result"
    }
   ],
   "execution_count": 140
  },
  {
   "metadata": {
    "ExecuteTime": {
     "end_time": "2025-02-07T12:35:10.495896Z",
     "start_time": "2025-02-07T12:35:10.490469Z"
    }
   },
   "cell_type": "code",
   "source": [
    "district_req = district_df.groupby(\"REQUESTED ARTICLE\",as_index=False)[\"QUANTITY\"].sum()\n",
    "\n",
    "(district_req[district_req[\"REQUESTED ARTICLE\"]==\"AHUJA Radios\"][\"QUANTITY\"].to_list()[0])"
   ],
   "id": "4c3e0fe641f961cf",
   "outputs": [
    {
     "data": {
      "text/plain": [
       "1"
      ]
     },
     "execution_count": 159,
     "metadata": {},
     "output_type": "execute_result"
    }
   ],
   "execution_count": 159
  },
  {
   "metadata": {},
   "cell_type": "markdown",
   "source": "### Public",
   "id": "5b2ed75251243489"
  },
  {
   "metadata": {
    "ExecuteTime": {
     "end_time": "2025-02-07T12:35:12.424341Z",
     "start_time": "2025-02-07T12:35:11.295540Z"
    }
   },
   "cell_type": "code",
   "source": [
    "public_df = read_file(public_master_id).rename(columns={\"Article Name\": \"REQUESTED ARTICLE\",\"Quantity\": \"QUANTITY\"})\n",
    "public_df"
   ],
   "id": "58d3e1adab182ec4",
   "outputs": [
    {
     "name": "stdout",
     "output_type": "stream",
     "text": [
      "Download progress: 100%\n"
     ]
    },
    {
     "data": {
      "text/plain": [
       "    App. No.               Name  Aadhar (Without Space)  \\\n",
       "0      P 001     Rekha Elumalai            629795730911   \n",
       "1      P 002  G.J.Arulmanimaran            379283914465   \n",
       "2      P 003       A.Manikandan            320663697895   \n",
       "3      P 004          V.Jayavel            548331232628   \n",
       "4      P 005           K.Ganesh            765724849130   \n",
       "..       ...                ...                     ...   \n",
       "100    P 101            M.Kumar            612081203379   \n",
       "101    P 102        M.Vinayagam            498101932330   \n",
       "102    P 103         D.Yuvasree            726646590112   \n",
       "103    P 104            T.selvi            411012263584   \n",
       "104    P 105    S.Agasthiarajan            617866352942   \n",
       "\n",
       "    Handicapped (Yes / No)                                 Address  \\\n",
       "0                      Yes            96 Palla St, Thiruvannamalai   \n",
       "1                      Yes  5A, First Cross St,Ambattur, Chennai\\n   \n",
       "2                       No             390, South St, Kallakurichy   \n",
       "3                      Yes             46 Jothi Nagar, Thiruvallur   \n",
       "4                       No        Kesavarayanpettai, Melmaruvathur   \n",
       "..                     ...                                     ...   \n",
       "100                     No                   Ozkalur, Kancheepuram   \n",
       "101                    Yes                     Ozhalur, Chenglepat   \n",
       "102                     No                       Arakonam, Ranipet   \n",
       "103                     No                   Melakalangal, Tenkasi   \n",
       "104                    Yes          Vikramasingapuram, Tirunelveli   \n",
       "\n",
       "         Mobile          REQUESTED ARTICLE  Cost Per Unit  QUANTITY  \\\n",
       "0    9003985442  Handicapped Hand Tricycle           7350         1   \n",
       "1    9444278675              Education Aid          15000         1   \n",
       "2    6382220459              Education Aid          15000         1   \n",
       "3    8668000173               Business Aid          10000         1   \n",
       "4    9655989549                Gents Cycle           5500         1   \n",
       "..          ...                        ...            ...       ...   \n",
       "100  9597058028               Business Aid          10000         1   \n",
       "101  7418225869              Financial Aid              0         1   \n",
       "102  9500061246              Education Aid         100000         1   \n",
       "103  9751217032           Construction Aid          20000         1   \n",
       "104  9942268548           Construction Aid          20000         1   \n",
       "\n",
       "     Total Value                                Comments Beneficiary Type  \n",
       "0           7350                                      No           Public  \n",
       "1          15000                   Rs.15000 for children           Public  \n",
       "2          15000                                Rs.15000           Public  \n",
       "3          10000                                Rs.10000           Public  \n",
       "4           5500                                      No           Public  \n",
       "..           ...                                     ...              ...  \n",
       "100        10000                                      No           Public  \n",
       "101            0  25% of the cost of Handicapped scooter           Public  \n",
       "102       100000                                      No           Public  \n",
       "103        20000                                      No           Public  \n",
       "104        20000                                      No           Public  \n",
       "\n",
       "[105 rows x 12 columns]"
      ],
      "text/html": [
       "<div>\n",
       "<style scoped>\n",
       "    .dataframe tbody tr th:only-of-type {\n",
       "        vertical-align: middle;\n",
       "    }\n",
       "\n",
       "    .dataframe tbody tr th {\n",
       "        vertical-align: top;\n",
       "    }\n",
       "\n",
       "    .dataframe thead th {\n",
       "        text-align: right;\n",
       "    }\n",
       "</style>\n",
       "<table border=\"1\" class=\"dataframe\">\n",
       "  <thead>\n",
       "    <tr style=\"text-align: right;\">\n",
       "      <th></th>\n",
       "      <th>App. No.</th>\n",
       "      <th>Name</th>\n",
       "      <th>Aadhar (Without Space)</th>\n",
       "      <th>Handicapped (Yes / No)</th>\n",
       "      <th>Address</th>\n",
       "      <th>Mobile</th>\n",
       "      <th>REQUESTED ARTICLE</th>\n",
       "      <th>Cost Per Unit</th>\n",
       "      <th>QUANTITY</th>\n",
       "      <th>Total Value</th>\n",
       "      <th>Comments</th>\n",
       "      <th>Beneficiary Type</th>\n",
       "    </tr>\n",
       "  </thead>\n",
       "  <tbody>\n",
       "    <tr>\n",
       "      <th>0</th>\n",
       "      <td>P 001</td>\n",
       "      <td>Rekha Elumalai</td>\n",
       "      <td>629795730911</td>\n",
       "      <td>Yes</td>\n",
       "      <td>96 Palla St, Thiruvannamalai</td>\n",
       "      <td>9003985442</td>\n",
       "      <td>Handicapped Hand Tricycle</td>\n",
       "      <td>7350</td>\n",
       "      <td>1</td>\n",
       "      <td>7350</td>\n",
       "      <td>No</td>\n",
       "      <td>Public</td>\n",
       "    </tr>\n",
       "    <tr>\n",
       "      <th>1</th>\n",
       "      <td>P 002</td>\n",
       "      <td>G.J.Arulmanimaran</td>\n",
       "      <td>379283914465</td>\n",
       "      <td>Yes</td>\n",
       "      <td>5A, First Cross St,Ambattur, Chennai\\n</td>\n",
       "      <td>9444278675</td>\n",
       "      <td>Education Aid</td>\n",
       "      <td>15000</td>\n",
       "      <td>1</td>\n",
       "      <td>15000</td>\n",
       "      <td>Rs.15000 for children</td>\n",
       "      <td>Public</td>\n",
       "    </tr>\n",
       "    <tr>\n",
       "      <th>2</th>\n",
       "      <td>P 003</td>\n",
       "      <td>A.Manikandan</td>\n",
       "      <td>320663697895</td>\n",
       "      <td>No</td>\n",
       "      <td>390, South St, Kallakurichy</td>\n",
       "      <td>6382220459</td>\n",
       "      <td>Education Aid</td>\n",
       "      <td>15000</td>\n",
       "      <td>1</td>\n",
       "      <td>15000</td>\n",
       "      <td>Rs.15000</td>\n",
       "      <td>Public</td>\n",
       "    </tr>\n",
       "    <tr>\n",
       "      <th>3</th>\n",
       "      <td>P 004</td>\n",
       "      <td>V.Jayavel</td>\n",
       "      <td>548331232628</td>\n",
       "      <td>Yes</td>\n",
       "      <td>46 Jothi Nagar, Thiruvallur</td>\n",
       "      <td>8668000173</td>\n",
       "      <td>Business Aid</td>\n",
       "      <td>10000</td>\n",
       "      <td>1</td>\n",
       "      <td>10000</td>\n",
       "      <td>Rs.10000</td>\n",
       "      <td>Public</td>\n",
       "    </tr>\n",
       "    <tr>\n",
       "      <th>4</th>\n",
       "      <td>P 005</td>\n",
       "      <td>K.Ganesh</td>\n",
       "      <td>765724849130</td>\n",
       "      <td>No</td>\n",
       "      <td>Kesavarayanpettai, Melmaruvathur</td>\n",
       "      <td>9655989549</td>\n",
       "      <td>Gents Cycle</td>\n",
       "      <td>5500</td>\n",
       "      <td>1</td>\n",
       "      <td>5500</td>\n",
       "      <td>No</td>\n",
       "      <td>Public</td>\n",
       "    </tr>\n",
       "    <tr>\n",
       "      <th>...</th>\n",
       "      <td>...</td>\n",
       "      <td>...</td>\n",
       "      <td>...</td>\n",
       "      <td>...</td>\n",
       "      <td>...</td>\n",
       "      <td>...</td>\n",
       "      <td>...</td>\n",
       "      <td>...</td>\n",
       "      <td>...</td>\n",
       "      <td>...</td>\n",
       "      <td>...</td>\n",
       "      <td>...</td>\n",
       "    </tr>\n",
       "    <tr>\n",
       "      <th>100</th>\n",
       "      <td>P 101</td>\n",
       "      <td>M.Kumar</td>\n",
       "      <td>612081203379</td>\n",
       "      <td>No</td>\n",
       "      <td>Ozkalur, Kancheepuram</td>\n",
       "      <td>9597058028</td>\n",
       "      <td>Business Aid</td>\n",
       "      <td>10000</td>\n",
       "      <td>1</td>\n",
       "      <td>10000</td>\n",
       "      <td>No</td>\n",
       "      <td>Public</td>\n",
       "    </tr>\n",
       "    <tr>\n",
       "      <th>101</th>\n",
       "      <td>P 102</td>\n",
       "      <td>M.Vinayagam</td>\n",
       "      <td>498101932330</td>\n",
       "      <td>Yes</td>\n",
       "      <td>Ozhalur, Chenglepat</td>\n",
       "      <td>7418225869</td>\n",
       "      <td>Financial Aid</td>\n",
       "      <td>0</td>\n",
       "      <td>1</td>\n",
       "      <td>0</td>\n",
       "      <td>25% of the cost of Handicapped scooter</td>\n",
       "      <td>Public</td>\n",
       "    </tr>\n",
       "    <tr>\n",
       "      <th>102</th>\n",
       "      <td>P 103</td>\n",
       "      <td>D.Yuvasree</td>\n",
       "      <td>726646590112</td>\n",
       "      <td>No</td>\n",
       "      <td>Arakonam, Ranipet</td>\n",
       "      <td>9500061246</td>\n",
       "      <td>Education Aid</td>\n",
       "      <td>100000</td>\n",
       "      <td>1</td>\n",
       "      <td>100000</td>\n",
       "      <td>No</td>\n",
       "      <td>Public</td>\n",
       "    </tr>\n",
       "    <tr>\n",
       "      <th>103</th>\n",
       "      <td>P 104</td>\n",
       "      <td>T.selvi</td>\n",
       "      <td>411012263584</td>\n",
       "      <td>No</td>\n",
       "      <td>Melakalangal, Tenkasi</td>\n",
       "      <td>9751217032</td>\n",
       "      <td>Construction Aid</td>\n",
       "      <td>20000</td>\n",
       "      <td>1</td>\n",
       "      <td>20000</td>\n",
       "      <td>No</td>\n",
       "      <td>Public</td>\n",
       "    </tr>\n",
       "    <tr>\n",
       "      <th>104</th>\n",
       "      <td>P 105</td>\n",
       "      <td>S.Agasthiarajan</td>\n",
       "      <td>617866352942</td>\n",
       "      <td>Yes</td>\n",
       "      <td>Vikramasingapuram, Tirunelveli</td>\n",
       "      <td>9942268548</td>\n",
       "      <td>Construction Aid</td>\n",
       "      <td>20000</td>\n",
       "      <td>1</td>\n",
       "      <td>20000</td>\n",
       "      <td>No</td>\n",
       "      <td>Public</td>\n",
       "    </tr>\n",
       "  </tbody>\n",
       "</table>\n",
       "<p>105 rows × 12 columns</p>\n",
       "</div>"
      ]
     },
     "execution_count": 160,
     "metadata": {},
     "output_type": "execute_result"
    }
   ],
   "execution_count": 160
  },
  {
   "metadata": {
    "ExecuteTime": {
     "end_time": "2025-02-07T12:35:12.523289Z",
     "start_time": "2025-02-07T12:35:12.520209Z"
    }
   },
   "cell_type": "code",
   "source": "public_df[\"REQUESTED ARTICLE\"].nunique()",
   "id": "ea311ecdacaf1c02",
   "outputs": [
    {
     "data": {
      "text/plain": [
       "23"
      ]
     },
     "execution_count": 161,
     "metadata": {},
     "output_type": "execute_result"
    }
   ],
   "execution_count": 161
  },
  {
   "metadata": {
    "ExecuteTime": {
     "end_time": "2025-02-07T12:35:12.596736Z",
     "start_time": "2025-02-07T12:35:12.594451Z"
    }
   },
   "cell_type": "code",
   "source": "valid_articles(public_df[\"REQUESTED ARTICLE\"])",
   "id": "84acc3f97dbb0a3a",
   "outputs": [
    {
     "name": "stdout",
     "output_type": "stream",
     "text": [
      "All articles are valid.\n"
     ]
    }
   ],
   "execution_count": 162
  },
  {
   "metadata": {
    "ExecuteTime": {
     "end_time": "2025-02-07T12:35:12.718056Z",
     "start_time": "2025-02-07T12:35:12.712117Z"
    }
   },
   "cell_type": "code",
   "source": [
    "public_req = public_df.groupby([\"REQUESTED ARTICLE\"],as_index=False)[\"QUANTITY\"].sum()\n",
    "public_req"
   ],
   "id": "24d59508942820ee",
   "outputs": [
    {
     "data": {
      "text/plain": [
       "                        REQUESTED ARTICLE  QUANTITY\n",
       "0             Bosch Electrician Kit 13 Re         1\n",
       "1                            Business Aid        16\n",
       "2                        Construction Aid         6\n",
       "3                           Education Aid         7\n",
       "4               Electronic weighing scale         1\n",
       "5                           Financial Aid         5\n",
       "6                             Gents Cycle         4\n",
       "7                             Girls Cycle         4\n",
       "8                                    Goat         2\n",
       "9          Hand Sewing Machine with Motor         2\n",
       "10              Handicapped Hand Tricycle         2\n",
       "11                    Handicapped Scooter         3\n",
       "12                                 Laptop         8\n",
       "13                             Lenova Tab         1\n",
       "14                         Livelihood Aid         2\n",
       "15                            Medical Aid         2\n",
       "16                           Mini freezer         1\n",
       "17                     Push Cart With Top         1\n",
       "18                         Renovation Aid         5\n",
       "19             Sewing Machine ORD / Motor        28\n",
       "20                             Tiffen Set         3\n",
       "21  Tiffen Set + Idli Box +2 burner stove         1\n",
       "22                     Wet Grinder 3 Ltrs         1"
      ],
      "text/html": [
       "<div>\n",
       "<style scoped>\n",
       "    .dataframe tbody tr th:only-of-type {\n",
       "        vertical-align: middle;\n",
       "    }\n",
       "\n",
       "    .dataframe tbody tr th {\n",
       "        vertical-align: top;\n",
       "    }\n",
       "\n",
       "    .dataframe thead th {\n",
       "        text-align: right;\n",
       "    }\n",
       "</style>\n",
       "<table border=\"1\" class=\"dataframe\">\n",
       "  <thead>\n",
       "    <tr style=\"text-align: right;\">\n",
       "      <th></th>\n",
       "      <th>REQUESTED ARTICLE</th>\n",
       "      <th>QUANTITY</th>\n",
       "    </tr>\n",
       "  </thead>\n",
       "  <tbody>\n",
       "    <tr>\n",
       "      <th>0</th>\n",
       "      <td>Bosch Electrician Kit 13 Re</td>\n",
       "      <td>1</td>\n",
       "    </tr>\n",
       "    <tr>\n",
       "      <th>1</th>\n",
       "      <td>Business Aid</td>\n",
       "      <td>16</td>\n",
       "    </tr>\n",
       "    <tr>\n",
       "      <th>2</th>\n",
       "      <td>Construction Aid</td>\n",
       "      <td>6</td>\n",
       "    </tr>\n",
       "    <tr>\n",
       "      <th>3</th>\n",
       "      <td>Education Aid</td>\n",
       "      <td>7</td>\n",
       "    </tr>\n",
       "    <tr>\n",
       "      <th>4</th>\n",
       "      <td>Electronic weighing scale</td>\n",
       "      <td>1</td>\n",
       "    </tr>\n",
       "    <tr>\n",
       "      <th>5</th>\n",
       "      <td>Financial Aid</td>\n",
       "      <td>5</td>\n",
       "    </tr>\n",
       "    <tr>\n",
       "      <th>6</th>\n",
       "      <td>Gents Cycle</td>\n",
       "      <td>4</td>\n",
       "    </tr>\n",
       "    <tr>\n",
       "      <th>7</th>\n",
       "      <td>Girls Cycle</td>\n",
       "      <td>4</td>\n",
       "    </tr>\n",
       "    <tr>\n",
       "      <th>8</th>\n",
       "      <td>Goat</td>\n",
       "      <td>2</td>\n",
       "    </tr>\n",
       "    <tr>\n",
       "      <th>9</th>\n",
       "      <td>Hand Sewing Machine with Motor</td>\n",
       "      <td>2</td>\n",
       "    </tr>\n",
       "    <tr>\n",
       "      <th>10</th>\n",
       "      <td>Handicapped Hand Tricycle</td>\n",
       "      <td>2</td>\n",
       "    </tr>\n",
       "    <tr>\n",
       "      <th>11</th>\n",
       "      <td>Handicapped Scooter</td>\n",
       "      <td>3</td>\n",
       "    </tr>\n",
       "    <tr>\n",
       "      <th>12</th>\n",
       "      <td>Laptop</td>\n",
       "      <td>8</td>\n",
       "    </tr>\n",
       "    <tr>\n",
       "      <th>13</th>\n",
       "      <td>Lenova Tab</td>\n",
       "      <td>1</td>\n",
       "    </tr>\n",
       "    <tr>\n",
       "      <th>14</th>\n",
       "      <td>Livelihood Aid</td>\n",
       "      <td>2</td>\n",
       "    </tr>\n",
       "    <tr>\n",
       "      <th>15</th>\n",
       "      <td>Medical Aid</td>\n",
       "      <td>2</td>\n",
       "    </tr>\n",
       "    <tr>\n",
       "      <th>16</th>\n",
       "      <td>Mini freezer</td>\n",
       "      <td>1</td>\n",
       "    </tr>\n",
       "    <tr>\n",
       "      <th>17</th>\n",
       "      <td>Push Cart With Top</td>\n",
       "      <td>1</td>\n",
       "    </tr>\n",
       "    <tr>\n",
       "      <th>18</th>\n",
       "      <td>Renovation Aid</td>\n",
       "      <td>5</td>\n",
       "    </tr>\n",
       "    <tr>\n",
       "      <th>19</th>\n",
       "      <td>Sewing Machine ORD / Motor</td>\n",
       "      <td>28</td>\n",
       "    </tr>\n",
       "    <tr>\n",
       "      <th>20</th>\n",
       "      <td>Tiffen Set</td>\n",
       "      <td>3</td>\n",
       "    </tr>\n",
       "    <tr>\n",
       "      <th>21</th>\n",
       "      <td>Tiffen Set + Idli Box +2 burner stove</td>\n",
       "      <td>1</td>\n",
       "    </tr>\n",
       "    <tr>\n",
       "      <th>22</th>\n",
       "      <td>Wet Grinder 3 Ltrs</td>\n",
       "      <td>1</td>\n",
       "    </tr>\n",
       "  </tbody>\n",
       "</table>\n",
       "</div>"
      ]
     },
     "execution_count": 163,
     "metadata": {},
     "output_type": "execute_result"
    }
   ],
   "execution_count": 163
  },
  {
   "metadata": {
    "ExecuteTime": {
     "end_time": "2025-02-07T12:35:13.749943Z",
     "start_time": "2025-02-07T12:35:13.747888Z"
    }
   },
   "cell_type": "code",
   "source": "",
   "id": "323ca481bebb98aa",
   "outputs": [],
   "execution_count": null
  },
  {
   "metadata": {},
   "cell_type": "markdown",
   "source": "### Institution",
   "id": "f235748d8406c5e8"
  },
  {
   "metadata": {
    "ExecuteTime": {
     "end_time": "2025-02-07T12:35:15.809377Z",
     "start_time": "2025-02-07T12:35:14.823360Z"
    }
   },
   "cell_type": "code",
   "source": [
    "inst = read_file(inst_data_id).rename(columns={\"Article Name\":\"REQUESTED ARTICLE\",\"Quantity\": \"QUANTITY\"})\n",
    "inst_df = inst[inst[\"Beneficiary Type\"]==\"Institution\"]\n",
    "inst_df"
   ],
   "id": "2c554aedb34701f9",
   "outputs": [
    {
     "name": "stdout",
     "output_type": "stream",
     "text": [
      "Download progress: 100%\n"
     ]
    },
    {
     "data": {
      "text/plain": [
       "  App. No.          Institution Name REQUESTED ARTICLE  QUANTITY  \\\n",
       "0    I 001  Cheyyur Thasildar Office  Desktop Computer         1   \n",
       "\n",
       "   Cost Per Unit  Total Value                                  Address  \\\n",
       "0          45500        45500  Thasildar Office, Cheyyur, Chengalpattu   \n",
       "\n",
       "   Mobile                               Comments Beneficiary Type  \n",
       "0       0  needs high config PC for e-seva point      Institution  "
      ],
      "text/html": [
       "<div>\n",
       "<style scoped>\n",
       "    .dataframe tbody tr th:only-of-type {\n",
       "        vertical-align: middle;\n",
       "    }\n",
       "\n",
       "    .dataframe tbody tr th {\n",
       "        vertical-align: top;\n",
       "    }\n",
       "\n",
       "    .dataframe thead th {\n",
       "        text-align: right;\n",
       "    }\n",
       "</style>\n",
       "<table border=\"1\" class=\"dataframe\">\n",
       "  <thead>\n",
       "    <tr style=\"text-align: right;\">\n",
       "      <th></th>\n",
       "      <th>App. No.</th>\n",
       "      <th>Institution Name</th>\n",
       "      <th>REQUESTED ARTICLE</th>\n",
       "      <th>QUANTITY</th>\n",
       "      <th>Cost Per Unit</th>\n",
       "      <th>Total Value</th>\n",
       "      <th>Address</th>\n",
       "      <th>Mobile</th>\n",
       "      <th>Comments</th>\n",
       "      <th>Beneficiary Type</th>\n",
       "    </tr>\n",
       "  </thead>\n",
       "  <tbody>\n",
       "    <tr>\n",
       "      <th>0</th>\n",
       "      <td>I 001</td>\n",
       "      <td>Cheyyur Thasildar Office</td>\n",
       "      <td>Desktop Computer</td>\n",
       "      <td>1</td>\n",
       "      <td>45500</td>\n",
       "      <td>45500</td>\n",
       "      <td>Thasildar Office, Cheyyur, Chengalpattu</td>\n",
       "      <td>0</td>\n",
       "      <td>needs high config PC for e-seva point</td>\n",
       "      <td>Institution</td>\n",
       "    </tr>\n",
       "  </tbody>\n",
       "</table>\n",
       "</div>"
      ]
     },
     "execution_count": 164,
     "metadata": {},
     "output_type": "execute_result"
    }
   ],
   "execution_count": 164
  },
  {
   "metadata": {
    "ExecuteTime": {
     "end_time": "2025-02-07T12:35:15.912812Z",
     "start_time": "2025-02-07T12:35:15.910612Z"
    }
   },
   "cell_type": "code",
   "source": "valid_articles(inst_df[\"REQUESTED ARTICLE\"])",
   "id": "36da87d301391ed7",
   "outputs": [
    {
     "name": "stdout",
     "output_type": "stream",
     "text": [
      "All articles are valid.\n"
     ]
    }
   ],
   "execution_count": 165
  },
  {
   "metadata": {
    "ExecuteTime": {
     "end_time": "2025-02-07T12:35:16.001463Z",
     "start_time": "2025-02-07T12:35:15.998458Z"
    }
   },
   "cell_type": "code",
   "source": "inst_df[\"REQUESTED ARTICLE\"].nunique()",
   "id": "9211fb8b3e6e1254",
   "outputs": [
    {
     "data": {
      "text/plain": [
       "1"
      ]
     },
     "execution_count": 166,
     "metadata": {},
     "output_type": "execute_result"
    }
   ],
   "execution_count": 166
  },
  {
   "metadata": {
    "ExecuteTime": {
     "end_time": "2025-02-07T12:35:18.657326Z",
     "start_time": "2025-02-07T12:35:18.651151Z"
    }
   },
   "cell_type": "code",
   "source": [
    "inst_req = inst_df.groupby([\"REQUESTED ARTICLE\"],as_index=False)[\"QUANTITY\"].sum()\n",
    "inst_req"
   ],
   "id": "f189c15f60a02b60",
   "outputs": [
    {
     "data": {
      "text/plain": [
       "  REQUESTED ARTICLE  QUANTITY\n",
       "0  Desktop Computer         1"
      ],
      "text/html": [
       "<div>\n",
       "<style scoped>\n",
       "    .dataframe tbody tr th:only-of-type {\n",
       "        vertical-align: middle;\n",
       "    }\n",
       "\n",
       "    .dataframe tbody tr th {\n",
       "        vertical-align: top;\n",
       "    }\n",
       "\n",
       "    .dataframe thead th {\n",
       "        text-align: right;\n",
       "    }\n",
       "</style>\n",
       "<table border=\"1\" class=\"dataframe\">\n",
       "  <thead>\n",
       "    <tr style=\"text-align: right;\">\n",
       "      <th></th>\n",
       "      <th>REQUESTED ARTICLE</th>\n",
       "      <th>QUANTITY</th>\n",
       "    </tr>\n",
       "  </thead>\n",
       "  <tbody>\n",
       "    <tr>\n",
       "      <th>0</th>\n",
       "      <td>Desktop Computer</td>\n",
       "      <td>1</td>\n",
       "    </tr>\n",
       "  </tbody>\n",
       "</table>\n",
       "</div>"
      ]
     },
     "execution_count": 167,
     "metadata": {},
     "output_type": "execute_result"
    }
   ],
   "execution_count": 167
  },
  {
   "metadata": {},
   "cell_type": "markdown",
   "source": "### Others",
   "id": "e160523f86086fea"
  },
  {
   "metadata": {
    "ExecuteTime": {
     "end_time": "2025-02-07T12:35:20.466993Z",
     "start_time": "2025-02-07T12:35:20.461908Z"
    }
   },
   "cell_type": "code",
   "source": [
    "oth_df = inst[inst[\"Beneficiary Type\"]==\"Others\"]\n",
    "oth_df"
   ],
   "id": "cfd576b4c9d4e794",
   "outputs": [
    {
     "data": {
      "text/plain": [
       "Empty DataFrame\n",
       "Columns: [App. No., Institution Name, REQUESTED ARTICLE, QUANTITY, Cost Per Unit, Total Value, Address, Mobile, Comments, Beneficiary Type]\n",
       "Index: []"
      ],
      "text/html": [
       "<div>\n",
       "<style scoped>\n",
       "    .dataframe tbody tr th:only-of-type {\n",
       "        vertical-align: middle;\n",
       "    }\n",
       "\n",
       "    .dataframe tbody tr th {\n",
       "        vertical-align: top;\n",
       "    }\n",
       "\n",
       "    .dataframe thead th {\n",
       "        text-align: right;\n",
       "    }\n",
       "</style>\n",
       "<table border=\"1\" class=\"dataframe\">\n",
       "  <thead>\n",
       "    <tr style=\"text-align: right;\">\n",
       "      <th></th>\n",
       "      <th>App. No.</th>\n",
       "      <th>Institution Name</th>\n",
       "      <th>REQUESTED ARTICLE</th>\n",
       "      <th>QUANTITY</th>\n",
       "      <th>Cost Per Unit</th>\n",
       "      <th>Total Value</th>\n",
       "      <th>Address</th>\n",
       "      <th>Mobile</th>\n",
       "      <th>Comments</th>\n",
       "      <th>Beneficiary Type</th>\n",
       "    </tr>\n",
       "  </thead>\n",
       "  <tbody>\n",
       "  </tbody>\n",
       "</table>\n",
       "</div>"
      ]
     },
     "execution_count": 168,
     "metadata": {},
     "output_type": "execute_result"
    }
   ],
   "execution_count": 168
  },
  {
   "metadata": {
    "ExecuteTime": {
     "end_time": "2025-02-07T12:35:29.238739Z",
     "start_time": "2025-02-07T12:35:29.235783Z"
    }
   },
   "cell_type": "code",
   "source": "valid_articles(oth_df[\"REQUESTED ARTICLE\"])",
   "id": "3a91d8e22ea45a1a",
   "outputs": [
    {
     "name": "stdout",
     "output_type": "stream",
     "text": [
      "All articles are valid.\n"
     ]
    }
   ],
   "execution_count": 169
  },
  {
   "metadata": {
    "ExecuteTime": {
     "end_time": "2025-02-07T12:35:41.446283Z",
     "start_time": "2025-02-07T12:35:41.442622Z"
    }
   },
   "cell_type": "code",
   "source": "oth_df[\"REQUESTED ARTICLE\"].nunique()",
   "id": "cf67ae0686097023",
   "outputs": [
    {
     "data": {
      "text/plain": [
       "0"
      ]
     },
     "execution_count": 170,
     "metadata": {},
     "output_type": "execute_result"
    }
   ],
   "execution_count": 170
  },
  {
   "metadata": {
    "ExecuteTime": {
     "end_time": "2025-02-07T12:35:42.131597Z",
     "start_time": "2025-02-07T12:35:42.124905Z"
    }
   },
   "cell_type": "code",
   "source": [
    "oth_req = oth_df.groupby([\"REQUESTED ARTICLE\"],as_index=False)[\"QUANTITY\"].sum()\n",
    "oth_req"
   ],
   "id": "9f3022e35bf3e3f6",
   "outputs": [
    {
     "data": {
      "text/plain": [
       "Empty DataFrame\n",
       "Columns: [REQUESTED ARTICLE, QUANTITY]\n",
       "Index: []"
      ],
      "text/html": [
       "<div>\n",
       "<style scoped>\n",
       "    .dataframe tbody tr th:only-of-type {\n",
       "        vertical-align: middle;\n",
       "    }\n",
       "\n",
       "    .dataframe tbody tr th {\n",
       "        vertical-align: top;\n",
       "    }\n",
       "\n",
       "    .dataframe thead th {\n",
       "        text-align: right;\n",
       "    }\n",
       "</style>\n",
       "<table border=\"1\" class=\"dataframe\">\n",
       "  <thead>\n",
       "    <tr style=\"text-align: right;\">\n",
       "      <th></th>\n",
       "      <th>REQUESTED ARTICLE</th>\n",
       "      <th>QUANTITY</th>\n",
       "    </tr>\n",
       "  </thead>\n",
       "  <tbody>\n",
       "  </tbody>\n",
       "</table>\n",
       "</div>"
      ]
     },
     "execution_count": 171,
     "metadata": {},
     "output_type": "execute_result"
    }
   ],
   "execution_count": 171
  },
  {
   "metadata": {
    "ExecuteTime": {
     "end_time": "2025-02-07T12:35:42.876311Z",
     "start_time": "2025-02-07T12:35:42.874343Z"
    }
   },
   "cell_type": "code",
   "source": "",
   "id": "c1359b4ffcc431cb",
   "outputs": [],
   "execution_count": null
  },
  {
   "metadata": {
    "ExecuteTime": {
     "end_time": "2025-02-07T12:35:43.716959Z",
     "start_time": "2025-02-07T12:35:43.708765Z"
    }
   },
   "cell_type": "code",
   "source": [
    "total_qty = pd.concat([district_req, public_req,inst_req,oth_req]).groupby('REQUESTED ARTICLE', as_index=False).sum()\n",
    "total_qty"
   ],
   "id": "9c501fa3bd5c991b",
   "outputs": [
    {
     "data": {
      "text/plain": [
       "                                 REQUESTED ARTICLE  QUANTITY\n",
       "0                                     AHUJA Radios         1\n",
       "1                             Agri Battery Sprayer       109\n",
       "2                              Agri Manual Sprayer        33\n",
       "3                       Agri Power Sprayer (2 STK)        22\n",
       "4                       Agri Power Sprayer (4 STK)         4\n",
       "..                                             ...       ...\n",
       "69  Weighing Scale+ Bicycle+Basket for Fish Vendor         1\n",
       "70                         Wet Grinder 2 Ltr (Hgt)         8\n",
       "71                              Wet Grinder 3 Ltrs         2\n",
       "72                              Wet Grinder 5 Ltrs         4\n",
       "73                   Wet Grinder Floor Model 2 Ltr        26\n",
       "\n",
       "[74 rows x 2 columns]"
      ],
      "text/html": [
       "<div>\n",
       "<style scoped>\n",
       "    .dataframe tbody tr th:only-of-type {\n",
       "        vertical-align: middle;\n",
       "    }\n",
       "\n",
       "    .dataframe tbody tr th {\n",
       "        vertical-align: top;\n",
       "    }\n",
       "\n",
       "    .dataframe thead th {\n",
       "        text-align: right;\n",
       "    }\n",
       "</style>\n",
       "<table border=\"1\" class=\"dataframe\">\n",
       "  <thead>\n",
       "    <tr style=\"text-align: right;\">\n",
       "      <th></th>\n",
       "      <th>REQUESTED ARTICLE</th>\n",
       "      <th>QUANTITY</th>\n",
       "    </tr>\n",
       "  </thead>\n",
       "  <tbody>\n",
       "    <tr>\n",
       "      <th>0</th>\n",
       "      <td>AHUJA Radios</td>\n",
       "      <td>1</td>\n",
       "    </tr>\n",
       "    <tr>\n",
       "      <th>1</th>\n",
       "      <td>Agri Battery Sprayer</td>\n",
       "      <td>109</td>\n",
       "    </tr>\n",
       "    <tr>\n",
       "      <th>2</th>\n",
       "      <td>Agri Manual Sprayer</td>\n",
       "      <td>33</td>\n",
       "    </tr>\n",
       "    <tr>\n",
       "      <th>3</th>\n",
       "      <td>Agri Power Sprayer (2 STK)</td>\n",
       "      <td>22</td>\n",
       "    </tr>\n",
       "    <tr>\n",
       "      <th>4</th>\n",
       "      <td>Agri Power Sprayer (4 STK)</td>\n",
       "      <td>4</td>\n",
       "    </tr>\n",
       "    <tr>\n",
       "      <th>...</th>\n",
       "      <td>...</td>\n",
       "      <td>...</td>\n",
       "    </tr>\n",
       "    <tr>\n",
       "      <th>69</th>\n",
       "      <td>Weighing Scale+ Bicycle+Basket for Fish Vendor</td>\n",
       "      <td>1</td>\n",
       "    </tr>\n",
       "    <tr>\n",
       "      <th>70</th>\n",
       "      <td>Wet Grinder 2 Ltr (Hgt)</td>\n",
       "      <td>8</td>\n",
       "    </tr>\n",
       "    <tr>\n",
       "      <th>71</th>\n",
       "      <td>Wet Grinder 3 Ltrs</td>\n",
       "      <td>2</td>\n",
       "    </tr>\n",
       "    <tr>\n",
       "      <th>72</th>\n",
       "      <td>Wet Grinder 5 Ltrs</td>\n",
       "      <td>4</td>\n",
       "    </tr>\n",
       "    <tr>\n",
       "      <th>73</th>\n",
       "      <td>Wet Grinder Floor Model 2 Ltr</td>\n",
       "      <td>26</td>\n",
       "    </tr>\n",
       "  </tbody>\n",
       "</table>\n",
       "<p>74 rows × 2 columns</p>\n",
       "</div>"
      ]
     },
     "execution_count": 172,
     "metadata": {},
     "output_type": "execute_result"
    }
   ],
   "execution_count": 172
  },
  {
   "metadata": {
    "ExecuteTime": {
     "end_time": "2025-02-07T12:35:44.724654Z",
     "start_time": "2025-02-07T12:35:44.722227Z"
    }
   },
   "cell_type": "code",
   "source": "",
   "id": "b6b3ea3dcbb30a7f",
   "outputs": [],
   "execution_count": null
  },
  {
   "metadata": {
    "ExecuteTime": {
     "end_time": "2025-02-07T11:01:04.255982Z",
     "start_time": "2025-02-07T11:01:00.859078Z"
    }
   },
   "cell_type": "code",
   "source": [
    "district_df = read_file(master_data_id)[[\"REQUESTED ARTICLE\",\"QUANTITY\",\"Beneficiary Type\"]]\n",
    "public_df = read_file(public_master_id).rename(columns={\"Article Name\": \"REQUESTED ARTICLE\",\"Quantity\": \"QUANTITY\"})[[\"REQUESTED ARTICLE\",\"QUANTITY\",\"Beneficiary Type\"]]\n",
    "inst_df = read_file(inst_data_id).rename(columns={\"Article Name\":\"REQUESTED ARTICLE\",\"Quantity\": \"QUANTITY\"})[[\"REQUESTED ARTICLE\",\"QUANTITY\",\"Beneficiary Type\"]]\n",
    "final = pd.concat([district_df,public_df,inst_df]).reset_index(drop=True).groupby([\"REQUESTED ARTICLE\",\"Beneficiary Type\"], as_index=False)[\"QUANTITY\"].sum()\n",
    "final"
   ],
   "id": "646ac94a21abfbe9",
   "outputs": [
    {
     "name": "stdout",
     "output_type": "stream",
     "text": [
      "Download progress: 100%\n",
      "Download progress: 100%\n",
      "Download progress: 100%\n"
     ]
    },
    {
     "data": {
      "text/plain": [
       "                REQUESTED ARTICLE Beneficiary Type  QUANTITY\n",
       "0                    AHUJA Radios         District         1\n",
       "1            Agri Battery Sprayer         District       109\n",
       "2             Agri Manual Sprayer         District        33\n",
       "3      Agri Power Sprayer (2 STK)         District        22\n",
       "4      Agri Power Sprayer (4 STK)         District         4\n",
       "..                            ...              ...       ...\n",
       "87        Wet Grinder 2 Ltr (Hgt)         District         8\n",
       "88             Wet Grinder 3 Ltrs         District         1\n",
       "89             Wet Grinder 3 Ltrs           Public         1\n",
       "90             Wet Grinder 5 Ltrs         District         4\n",
       "91  Wet Grinder Floor Model 2 Ltr         District        26\n",
       "\n",
       "[92 rows x 3 columns]"
      ],
      "text/html": [
       "<div>\n",
       "<style scoped>\n",
       "    .dataframe tbody tr th:only-of-type {\n",
       "        vertical-align: middle;\n",
       "    }\n",
       "\n",
       "    .dataframe tbody tr th {\n",
       "        vertical-align: top;\n",
       "    }\n",
       "\n",
       "    .dataframe thead th {\n",
       "        text-align: right;\n",
       "    }\n",
       "</style>\n",
       "<table border=\"1\" class=\"dataframe\">\n",
       "  <thead>\n",
       "    <tr style=\"text-align: right;\">\n",
       "      <th></th>\n",
       "      <th>REQUESTED ARTICLE</th>\n",
       "      <th>Beneficiary Type</th>\n",
       "      <th>QUANTITY</th>\n",
       "    </tr>\n",
       "  </thead>\n",
       "  <tbody>\n",
       "    <tr>\n",
       "      <th>0</th>\n",
       "      <td>AHUJA Radios</td>\n",
       "      <td>District</td>\n",
       "      <td>1</td>\n",
       "    </tr>\n",
       "    <tr>\n",
       "      <th>1</th>\n",
       "      <td>Agri Battery Sprayer</td>\n",
       "      <td>District</td>\n",
       "      <td>109</td>\n",
       "    </tr>\n",
       "    <tr>\n",
       "      <th>2</th>\n",
       "      <td>Agri Manual Sprayer</td>\n",
       "      <td>District</td>\n",
       "      <td>33</td>\n",
       "    </tr>\n",
       "    <tr>\n",
       "      <th>3</th>\n",
       "      <td>Agri Power Sprayer (2 STK)</td>\n",
       "      <td>District</td>\n",
       "      <td>22</td>\n",
       "    </tr>\n",
       "    <tr>\n",
       "      <th>4</th>\n",
       "      <td>Agri Power Sprayer (4 STK)</td>\n",
       "      <td>District</td>\n",
       "      <td>4</td>\n",
       "    </tr>\n",
       "    <tr>\n",
       "      <th>...</th>\n",
       "      <td>...</td>\n",
       "      <td>...</td>\n",
       "      <td>...</td>\n",
       "    </tr>\n",
       "    <tr>\n",
       "      <th>87</th>\n",
       "      <td>Wet Grinder 2 Ltr (Hgt)</td>\n",
       "      <td>District</td>\n",
       "      <td>8</td>\n",
       "    </tr>\n",
       "    <tr>\n",
       "      <th>88</th>\n",
       "      <td>Wet Grinder 3 Ltrs</td>\n",
       "      <td>District</td>\n",
       "      <td>1</td>\n",
       "    </tr>\n",
       "    <tr>\n",
       "      <th>89</th>\n",
       "      <td>Wet Grinder 3 Ltrs</td>\n",
       "      <td>Public</td>\n",
       "      <td>1</td>\n",
       "    </tr>\n",
       "    <tr>\n",
       "      <th>90</th>\n",
       "      <td>Wet Grinder 5 Ltrs</td>\n",
       "      <td>District</td>\n",
       "      <td>4</td>\n",
       "    </tr>\n",
       "    <tr>\n",
       "      <th>91</th>\n",
       "      <td>Wet Grinder Floor Model 2 Ltr</td>\n",
       "      <td>District</td>\n",
       "      <td>26</td>\n",
       "    </tr>\n",
       "  </tbody>\n",
       "</table>\n",
       "<p>92 rows × 3 columns</p>\n",
       "</div>"
      ]
     },
     "execution_count": 122,
     "metadata": {},
     "output_type": "execute_result"
    }
   ],
   "execution_count": 122
  },
  {
   "metadata": {
    "ExecuteTime": {
     "end_time": "2025-02-07T11:01:10.833363Z",
     "start_time": "2025-02-07T11:01:10.827780Z"
    }
   },
   "cell_type": "code",
   "source": "district_df",
   "id": "c837b53475996773",
   "outputs": [
    {
     "data": {
      "text/plain": [
       "                     REQUESTED ARTICLE  QUANTITY Beneficiary Type\n",
       "0                 Agri Battery Sprayer         7         District\n",
       "1            Canon Printer 6030B (USB)         1         District\n",
       "2                     Desktop Computer         1         District\n",
       "3                   Sewing Machine ORD        15         District\n",
       "4           Agri Power Sprayer (2 STK)         2         District\n",
       "..                                 ...       ...              ...\n",
       "366             Ex gratia for Deceased         1         District\n",
       "367                        Medical Aid         1         District\n",
       "368  Provision materials to Orphanages         1         District\n",
       "369        Bosch Rotary Hammer GBH 220         1         District\n",
       "370                 Sewing Machine ORD        10         District\n",
       "\n",
       "[371 rows x 3 columns]"
      ],
      "text/html": [
       "<div>\n",
       "<style scoped>\n",
       "    .dataframe tbody tr th:only-of-type {\n",
       "        vertical-align: middle;\n",
       "    }\n",
       "\n",
       "    .dataframe tbody tr th {\n",
       "        vertical-align: top;\n",
       "    }\n",
       "\n",
       "    .dataframe thead th {\n",
       "        text-align: right;\n",
       "    }\n",
       "</style>\n",
       "<table border=\"1\" class=\"dataframe\">\n",
       "  <thead>\n",
       "    <tr style=\"text-align: right;\">\n",
       "      <th></th>\n",
       "      <th>REQUESTED ARTICLE</th>\n",
       "      <th>QUANTITY</th>\n",
       "      <th>Beneficiary Type</th>\n",
       "    </tr>\n",
       "  </thead>\n",
       "  <tbody>\n",
       "    <tr>\n",
       "      <th>0</th>\n",
       "      <td>Agri Battery Sprayer</td>\n",
       "      <td>7</td>\n",
       "      <td>District</td>\n",
       "    </tr>\n",
       "    <tr>\n",
       "      <th>1</th>\n",
       "      <td>Canon Printer 6030B (USB)</td>\n",
       "      <td>1</td>\n",
       "      <td>District</td>\n",
       "    </tr>\n",
       "    <tr>\n",
       "      <th>2</th>\n",
       "      <td>Desktop Computer</td>\n",
       "      <td>1</td>\n",
       "      <td>District</td>\n",
       "    </tr>\n",
       "    <tr>\n",
       "      <th>3</th>\n",
       "      <td>Sewing Machine ORD</td>\n",
       "      <td>15</td>\n",
       "      <td>District</td>\n",
       "    </tr>\n",
       "    <tr>\n",
       "      <th>4</th>\n",
       "      <td>Agri Power Sprayer (2 STK)</td>\n",
       "      <td>2</td>\n",
       "      <td>District</td>\n",
       "    </tr>\n",
       "    <tr>\n",
       "      <th>...</th>\n",
       "      <td>...</td>\n",
       "      <td>...</td>\n",
       "      <td>...</td>\n",
       "    </tr>\n",
       "    <tr>\n",
       "      <th>366</th>\n",
       "      <td>Ex gratia for Deceased</td>\n",
       "      <td>1</td>\n",
       "      <td>District</td>\n",
       "    </tr>\n",
       "    <tr>\n",
       "      <th>367</th>\n",
       "      <td>Medical Aid</td>\n",
       "      <td>1</td>\n",
       "      <td>District</td>\n",
       "    </tr>\n",
       "    <tr>\n",
       "      <th>368</th>\n",
       "      <td>Provision materials to Orphanages</td>\n",
       "      <td>1</td>\n",
       "      <td>District</td>\n",
       "    </tr>\n",
       "    <tr>\n",
       "      <th>369</th>\n",
       "      <td>Bosch Rotary Hammer GBH 220</td>\n",
       "      <td>1</td>\n",
       "      <td>District</td>\n",
       "    </tr>\n",
       "    <tr>\n",
       "      <th>370</th>\n",
       "      <td>Sewing Machine ORD</td>\n",
       "      <td>10</td>\n",
       "      <td>District</td>\n",
       "    </tr>\n",
       "  </tbody>\n",
       "</table>\n",
       "<p>371 rows × 3 columns</p>\n",
       "</div>"
      ]
     },
     "execution_count": 124,
     "metadata": {},
     "output_type": "execute_result"
    }
   ],
   "execution_count": 124
  },
  {
   "metadata": {
    "ExecuteTime": {
     "end_time": "2025-02-07T11:02:29.133641Z",
     "start_time": "2025-02-07T11:02:29.129649Z"
    }
   },
   "cell_type": "code",
   "source": [
    "print(\"District QTY\",district_df[\"QUANTITY\"].sum())\n",
    "print(\"Public QTY\",public_df[\"QUANTITY\"].sum())\n",
    "print(\"Inst&Oth QTY\",inst_df[\"QUANTITY\"].sum())\n",
    "print(\"total qty - merge\",final[\"QUANTITY\"].sum())\n",
    "print(\"total qty - added\",district_df[\"QUANTITY\"].sum() + public_df[\"QUANTITY\"].sum()+inst_df[\"QUANTITY\"].sum())"
   ],
   "id": "bc12cfd2f5086f03",
   "outputs": [
    {
     "name": "stdout",
     "output_type": "stream",
     "text": [
      "District QTY 13125\n",
      "Public QTY 106\n",
      "Inst&Oth QTY 1\n",
      "Unique Article 13232\n",
      "total qty - merge 13232\n",
      "total qty - added 13232\n"
     ]
    }
   ],
   "execution_count": 127
  },
  {
   "metadata": {
    "ExecuteTime": {
     "end_time": "2025-02-07T11:03:21.750692Z",
     "start_time": "2025-02-07T11:03:21.739833Z"
    }
   },
   "cell_type": "code",
   "source": [
    "# Pivot the DataFrame to create columns for each Beneficiary Type and total\n",
    "pivot_df = final.pivot_table(index=\"REQUESTED ARTICLE\",columns=\"Beneficiary Type\",values=\"QUANTITY\",aggfunc=\"sum\",fill_value=0).reset_index()\n",
    "\n",
    "# Add missing columns for Beneficiary Types and calculate the Total\n",
    "pivot_df[\"District\"] = pivot_df.get(\"District\", 0)\n",
    "pivot_df[\"Public\"] = pivot_df.get(\"Public\", 0)\n",
    "pivot_df[\"Institution\"] = pivot_df.get(\"Institution\", 0)\n",
    "pivot_df[\"Others\"] = pivot_df.get(\"Others\", 0)\n",
    "\n",
    "pivot_df[\"Total\"] = pivot_df[[\"District\", \"Public\", \"Institution\", \"Others\"]].sum(axis=1)\n",
    "pivot_df\n",
    "ord_req_id = \"1ou21kOkXQpL-hoaJ-11av2m7Kwk5hsif65jVOiFaU2Y\"\n",
    "existing_data = read_file(ord_req_id)\n",
    "\n",
    "# Ensure required columns exist\n",
    "if \"Ordered Quantity\" not in existing_data:\n",
    "    existing_data[\"Ordered Quantity\"] = 0\n",
    "if \"Remaining Quantity\" not in existing_data:\n",
    "    existing_data[\"Remaining Quantity\"] = existing_data[\"Total\"]\n",
    "\n",
    "# Merge existing data with the new ordered quantity\n",
    "updated_df = pivot_df.merge(\n",
    "            existing_data[[\"REQUESTED ARTICLE\", \"Ordered Quantity\", \"Remaining Quantity\"]],\n",
    "            on=\"REQUESTED ARTICLE\",\n",
    "            how=\"left\",\n",
    "            suffixes=(\"\", \"_old\")\n",
    "        ).fillna({\"Ordered Quantity\": 0, \"Remaining Quantity\": lambda x: x[\"Total\"]})\n",
    "\n",
    "updated_df"
   ],
   "id": "17296db8eee77877",
   "outputs": [
    {
     "data": {
      "text/plain": [
       "Beneficiary Type                               REQUESTED ARTICLE  District  \\\n",
       "0                                                   AHUJA Radios         1   \n",
       "1                                           Agri Battery Sprayer       109   \n",
       "2                                            Agri Manual Sprayer        33   \n",
       "3                                     Agri Power Sprayer (2 STK)        22   \n",
       "4                                     Agri Power Sprayer (4 STK)         4   \n",
       "..                                                           ...       ...   \n",
       "69                Weighing Scale+ Bicycle+Basket for Fish Vendor         1   \n",
       "70                                       Wet Grinder 2 Ltr (Hgt)         8   \n",
       "71                                            Wet Grinder 3 Ltrs         1   \n",
       "72                                            Wet Grinder 5 Ltrs         4   \n",
       "73                                 Wet Grinder Floor Model 2 Ltr        26   \n",
       "\n",
       "Beneficiary Type  Institution  Public  Others  Total  \n",
       "0                           0       0       0      1  \n",
       "1                           0       0       0    109  \n",
       "2                           0       0       0     33  \n",
       "3                           0       0       0     22  \n",
       "4                           0       0       0      4  \n",
       "..                        ...     ...     ...    ...  \n",
       "69                          0       0       0      1  \n",
       "70                          0       0       0      8  \n",
       "71                          0       1       0      2  \n",
       "72                          0       0       0      4  \n",
       "73                          0       0       0     26  \n",
       "\n",
       "[74 rows x 6 columns]"
      ],
      "text/html": [
       "<div>\n",
       "<style scoped>\n",
       "    .dataframe tbody tr th:only-of-type {\n",
       "        vertical-align: middle;\n",
       "    }\n",
       "\n",
       "    .dataframe tbody tr th {\n",
       "        vertical-align: top;\n",
       "    }\n",
       "\n",
       "    .dataframe thead th {\n",
       "        text-align: right;\n",
       "    }\n",
       "</style>\n",
       "<table border=\"1\" class=\"dataframe\">\n",
       "  <thead>\n",
       "    <tr style=\"text-align: right;\">\n",
       "      <th>Beneficiary Type</th>\n",
       "      <th>REQUESTED ARTICLE</th>\n",
       "      <th>District</th>\n",
       "      <th>Institution</th>\n",
       "      <th>Public</th>\n",
       "      <th>Others</th>\n",
       "      <th>Total</th>\n",
       "    </tr>\n",
       "  </thead>\n",
       "  <tbody>\n",
       "    <tr>\n",
       "      <th>0</th>\n",
       "      <td>AHUJA Radios</td>\n",
       "      <td>1</td>\n",
       "      <td>0</td>\n",
       "      <td>0</td>\n",
       "      <td>0</td>\n",
       "      <td>1</td>\n",
       "    </tr>\n",
       "    <tr>\n",
       "      <th>1</th>\n",
       "      <td>Agri Battery Sprayer</td>\n",
       "      <td>109</td>\n",
       "      <td>0</td>\n",
       "      <td>0</td>\n",
       "      <td>0</td>\n",
       "      <td>109</td>\n",
       "    </tr>\n",
       "    <tr>\n",
       "      <th>2</th>\n",
       "      <td>Agri Manual Sprayer</td>\n",
       "      <td>33</td>\n",
       "      <td>0</td>\n",
       "      <td>0</td>\n",
       "      <td>0</td>\n",
       "      <td>33</td>\n",
       "    </tr>\n",
       "    <tr>\n",
       "      <th>3</th>\n",
       "      <td>Agri Power Sprayer (2 STK)</td>\n",
       "      <td>22</td>\n",
       "      <td>0</td>\n",
       "      <td>0</td>\n",
       "      <td>0</td>\n",
       "      <td>22</td>\n",
       "    </tr>\n",
       "    <tr>\n",
       "      <th>4</th>\n",
       "      <td>Agri Power Sprayer (4 STK)</td>\n",
       "      <td>4</td>\n",
       "      <td>0</td>\n",
       "      <td>0</td>\n",
       "      <td>0</td>\n",
       "      <td>4</td>\n",
       "    </tr>\n",
       "    <tr>\n",
       "      <th>...</th>\n",
       "      <td>...</td>\n",
       "      <td>...</td>\n",
       "      <td>...</td>\n",
       "      <td>...</td>\n",
       "      <td>...</td>\n",
       "      <td>...</td>\n",
       "    </tr>\n",
       "    <tr>\n",
       "      <th>69</th>\n",
       "      <td>Weighing Scale+ Bicycle+Basket for Fish Vendor</td>\n",
       "      <td>1</td>\n",
       "      <td>0</td>\n",
       "      <td>0</td>\n",
       "      <td>0</td>\n",
       "      <td>1</td>\n",
       "    </tr>\n",
       "    <tr>\n",
       "      <th>70</th>\n",
       "      <td>Wet Grinder 2 Ltr (Hgt)</td>\n",
       "      <td>8</td>\n",
       "      <td>0</td>\n",
       "      <td>0</td>\n",
       "      <td>0</td>\n",
       "      <td>8</td>\n",
       "    </tr>\n",
       "    <tr>\n",
       "      <th>71</th>\n",
       "      <td>Wet Grinder 3 Ltrs</td>\n",
       "      <td>1</td>\n",
       "      <td>0</td>\n",
       "      <td>1</td>\n",
       "      <td>0</td>\n",
       "      <td>2</td>\n",
       "    </tr>\n",
       "    <tr>\n",
       "      <th>72</th>\n",
       "      <td>Wet Grinder 5 Ltrs</td>\n",
       "      <td>4</td>\n",
       "      <td>0</td>\n",
       "      <td>0</td>\n",
       "      <td>0</td>\n",
       "      <td>4</td>\n",
       "    </tr>\n",
       "    <tr>\n",
       "      <th>73</th>\n",
       "      <td>Wet Grinder Floor Model 2 Ltr</td>\n",
       "      <td>26</td>\n",
       "      <td>0</td>\n",
       "      <td>0</td>\n",
       "      <td>0</td>\n",
       "      <td>26</td>\n",
       "    </tr>\n",
       "  </tbody>\n",
       "</table>\n",
       "<p>74 rows × 6 columns</p>\n",
       "</div>"
      ]
     },
     "execution_count": 128,
     "metadata": {},
     "output_type": "execute_result"
    }
   ],
   "execution_count": 128
  },
  {
   "metadata": {
    "ExecuteTime": {
     "end_time": "2025-02-07T11:05:17.989690Z",
     "start_time": "2025-02-07T11:05:17.986714Z"
    }
   },
   "cell_type": "code",
   "source": [
    "print(\"District Total\",updated_df[\"District\"].sum())\n",
    "print(\"Public Total\",updated_df[\"Public\"].sum())\n",
    "print(\"Institution&oth Total\",updated_df[\"Institution\"].sum())\n"
   ],
   "id": "5afe104053dee761",
   "outputs": [
    {
     "name": "stdout",
     "output_type": "stream",
     "text": [
      "District Total 13125\n"
     ]
    }
   ],
   "execution_count": 132
  },
  {
   "metadata": {
    "ExecuteTime": {
     "end_time": "2025-02-07T10:59:24.547035Z",
     "start_time": "2025-02-07T10:59:24.544086Z"
    }
   },
   "cell_type": "code",
   "source": "updated_df[\"Total\"].sum()",
   "id": "fa20c83654395fb8",
   "outputs": [
    {
     "data": {
      "text/plain": [
       "np.int64(13232)"
      ]
     },
     "execution_count": 119,
     "metadata": {},
     "output_type": "execute_result"
    }
   ],
   "execution_count": 119
  },
  {
   "metadata": {},
   "cell_type": "code",
   "outputs": [],
   "execution_count": null,
   "source": "",
   "id": "aec5f544ef93d35e"
  }
 ],
 "metadata": {
  "kernelspec": {
   "display_name": "Python 3",
   "language": "python",
   "name": "python3"
  },
  "language_info": {
   "codemirror_mode": {
    "name": "ipython",
    "version": 2
   },
   "file_extension": ".py",
   "mimetype": "text/x-python",
   "name": "python",
   "nbconvert_exporter": "python",
   "pygments_lexer": "ipython2",
   "version": "2.7.6"
  }
 },
 "nbformat": 4,
 "nbformat_minor": 5
}
