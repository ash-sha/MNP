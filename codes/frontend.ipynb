{
 "cells": [
  {
   "cell_type": "code",
   "id": "initial_id",
   "metadata": {
    "collapsed": true,
    "ExecuteTime": {
     "end_time": "2025-01-27T13:16:54.854335Z",
     "start_time": "2025-01-27T13:16:54.377962Z"
    }
   },
   "source": [
    "import pandas as pd\n",
    "\n",
    "import streamlit as st\n",
    "import pandas as pd\n",
    "import os\n",
    "from pydrive2.auth import GoogleAuth\n",
    "from pydrive2.drive import GoogleDrive\n",
    "\n",
    "from frontend import aadhar\n"
   ],
   "outputs": [],
   "execution_count": 1
  },
  {
   "metadata": {
    "ExecuteTime": {
     "end_time": "2025-01-27T13:16:55.166373Z",
     "start_time": "2025-01-27T13:16:54.988786Z"
    }
   },
   "cell_type": "code",
   "source": [
    "# Load Data\n",
    "article = pd.read_csv(\"/Users/aswathshakthi/PycharmProjects/MNP25/data/articles.csv\")\n",
    "district = pd.read_csv(\"/Users/aswathshakthi/PycharmProjects/MNP25/data/District_beneficiary.csv\")\n",
    "public = pd.read_excel(\"/Users/aswathshakthi/PycharmProjects/MNP25/data/Public_Beneficiary_21_24.xlsx\")\n",
    "\n",
    "\n",
    "\n",
    "article_name = article[\"Articles\"].unique().tolist()\n",
    "\n",
    "if article_name:\n",
    "    for art in article_name:\n",
    "\n",
    "        cpu = article[article[\"Articles\"] == art][\"Cost per unit\"].tolist()[0]\n",
    "        print(cpu)\n"
   ],
   "id": "3be01e5bcb12665c",
   "outputs": [
    {
     "name": "stdout",
     "output_type": "stream",
     "text": [
      "100000.0\n",
      "20500.0\n",
      "20500.0\n",
      "20500.0\n",
      "20500.0\n",
      "20500.0\n",
      "20500.0\n",
      "20500.0\n",
      "20500.0\n",
      "20500.0\n",
      "20500.0\n",
      "20500.0\n",
      "20500.0\n",
      "20500.0\n",
      "20500.0\n",
      "nan\n",
      "nan\n",
      "nan\n",
      "nan\n",
      "nan\n",
      "nan\n",
      "nan\n",
      "nan\n",
      "nan\n",
      "nan\n",
      "nan\n",
      "5000.0\n",
      "20500.0\n",
      "20500.0\n",
      "20500.0\n",
      "20500.0\n",
      "20500.0\n",
      "20500.0\n",
      "20500.0\n",
      "20500.0\n",
      "20500.0\n",
      "20500.0\n",
      "20500.0\n",
      "20500.0\n",
      "20500.0\n",
      "20500.0\n",
      "20500.0\n",
      "20500.0\n",
      "20500.0\n",
      "20500.0\n",
      "20500.0\n",
      "20500.0\n",
      "20500.0\n",
      "20500.0\n",
      "20500.0\n",
      "20500.0\n",
      "20500.0\n",
      "20500.0\n",
      "20500.0\n",
      "20500.0\n",
      "20500.0\n",
      "20500.0\n",
      "20500.0\n",
      "20500.0\n",
      "20500.0\n",
      "20500.0\n",
      "20500.0\n",
      "20500.0\n",
      "20500.0\n",
      "10000.0\n",
      "20500.0\n",
      "20500.0\n",
      "20500.0\n",
      "20500.0\n",
      "5000.0\n"
     ]
    }
   ],
   "execution_count": 2
  },
  {
   "metadata": {
    "ExecuteTime": {
     "end_time": "2025-01-27T13:16:56.490834Z",
     "start_time": "2025-01-27T13:16:56.481654Z"
    }
   },
   "cell_type": "code",
   "source": "article",
   "id": "efaf25cfedbb472",
   "outputs": [
    {
     "data": {
      "text/plain": [
       "                      Articles  Cost per unit Item Type\n",
       "0    Handicapped Hand Tricycle       100000.0   Article\n",
       "1            Fixed Wheel Chair        20500.0   Article\n",
       "2                   Wheelchair        20500.0   Article\n",
       "3          Handicapped Scooter        20500.0   Article\n",
       "4                  Two Wheeler        20500.0   Article\n",
       "..                         ...            ...       ...\n",
       "65        Sewing Machine Heavy        20500.0   Article\n",
       "66  Sewing Machine ORD / Motor        20500.0   Article\n",
       "67          Sewing Machine ORD        20500.0   Article\n",
       "68                 Gents Cycle        20500.0   Article\n",
       "69                 Girls Cycle         5000.0   Article\n",
       "\n",
       "[70 rows x 3 columns]"
      ],
      "text/html": [
       "<div>\n",
       "<style scoped>\n",
       "    .dataframe tbody tr th:only-of-type {\n",
       "        vertical-align: middle;\n",
       "    }\n",
       "\n",
       "    .dataframe tbody tr th {\n",
       "        vertical-align: top;\n",
       "    }\n",
       "\n",
       "    .dataframe thead th {\n",
       "        text-align: right;\n",
       "    }\n",
       "</style>\n",
       "<table border=\"1\" class=\"dataframe\">\n",
       "  <thead>\n",
       "    <tr style=\"text-align: right;\">\n",
       "      <th></th>\n",
       "      <th>Articles</th>\n",
       "      <th>Cost per unit</th>\n",
       "      <th>Item Type</th>\n",
       "    </tr>\n",
       "  </thead>\n",
       "  <tbody>\n",
       "    <tr>\n",
       "      <th>0</th>\n",
       "      <td>Handicapped Hand Tricycle</td>\n",
       "      <td>100000.0</td>\n",
       "      <td>Article</td>\n",
       "    </tr>\n",
       "    <tr>\n",
       "      <th>1</th>\n",
       "      <td>Fixed Wheel Chair</td>\n",
       "      <td>20500.0</td>\n",
       "      <td>Article</td>\n",
       "    </tr>\n",
       "    <tr>\n",
       "      <th>2</th>\n",
       "      <td>Wheelchair</td>\n",
       "      <td>20500.0</td>\n",
       "      <td>Article</td>\n",
       "    </tr>\n",
       "    <tr>\n",
       "      <th>3</th>\n",
       "      <td>Handicapped Scooter</td>\n",
       "      <td>20500.0</td>\n",
       "      <td>Article</td>\n",
       "    </tr>\n",
       "    <tr>\n",
       "      <th>4</th>\n",
       "      <td>Two Wheeler</td>\n",
       "      <td>20500.0</td>\n",
       "      <td>Article</td>\n",
       "    </tr>\n",
       "    <tr>\n",
       "      <th>...</th>\n",
       "      <td>...</td>\n",
       "      <td>...</td>\n",
       "      <td>...</td>\n",
       "    </tr>\n",
       "    <tr>\n",
       "      <th>65</th>\n",
       "      <td>Sewing Machine Heavy</td>\n",
       "      <td>20500.0</td>\n",
       "      <td>Article</td>\n",
       "    </tr>\n",
       "    <tr>\n",
       "      <th>66</th>\n",
       "      <td>Sewing Machine ORD / Motor</td>\n",
       "      <td>20500.0</td>\n",
       "      <td>Article</td>\n",
       "    </tr>\n",
       "    <tr>\n",
       "      <th>67</th>\n",
       "      <td>Sewing Machine ORD</td>\n",
       "      <td>20500.0</td>\n",
       "      <td>Article</td>\n",
       "    </tr>\n",
       "    <tr>\n",
       "      <th>68</th>\n",
       "      <td>Gents Cycle</td>\n",
       "      <td>20500.0</td>\n",
       "      <td>Article</td>\n",
       "    </tr>\n",
       "    <tr>\n",
       "      <th>69</th>\n",
       "      <td>Girls Cycle</td>\n",
       "      <td>5000.0</td>\n",
       "      <td>Article</td>\n",
       "    </tr>\n",
       "  </tbody>\n",
       "</table>\n",
       "<p>70 rows × 3 columns</p>\n",
       "</div>"
      ]
     },
     "execution_count": 3,
     "metadata": {},
     "output_type": "execute_result"
    }
   ],
   "execution_count": 3
  },
  {
   "metadata": {
    "ExecuteTime": {
     "end_time": "2025-01-27T13:16:57.343270Z",
     "start_time": "2025-01-27T13:16:57.336257Z"
    }
   },
   "cell_type": "code",
   "source": "article",
   "id": "5ebebad8ef4f0fb1",
   "outputs": [
    {
     "data": {
      "text/plain": [
       "                      Articles  Cost per unit Item Type\n",
       "0    Handicapped Hand Tricycle       100000.0   Article\n",
       "1            Fixed Wheel Chair        20500.0   Article\n",
       "2                   Wheelchair        20500.0   Article\n",
       "3          Handicapped Scooter        20500.0   Article\n",
       "4                  Two Wheeler        20500.0   Article\n",
       "..                         ...            ...       ...\n",
       "65        Sewing Machine Heavy        20500.0   Article\n",
       "66  Sewing Machine ORD / Motor        20500.0   Article\n",
       "67          Sewing Machine ORD        20500.0   Article\n",
       "68                 Gents Cycle        20500.0   Article\n",
       "69                 Girls Cycle         5000.0   Article\n",
       "\n",
       "[70 rows x 3 columns]"
      ],
      "text/html": [
       "<div>\n",
       "<style scoped>\n",
       "    .dataframe tbody tr th:only-of-type {\n",
       "        vertical-align: middle;\n",
       "    }\n",
       "\n",
       "    .dataframe tbody tr th {\n",
       "        vertical-align: top;\n",
       "    }\n",
       "\n",
       "    .dataframe thead th {\n",
       "        text-align: right;\n",
       "    }\n",
       "</style>\n",
       "<table border=\"1\" class=\"dataframe\">\n",
       "  <thead>\n",
       "    <tr style=\"text-align: right;\">\n",
       "      <th></th>\n",
       "      <th>Articles</th>\n",
       "      <th>Cost per unit</th>\n",
       "      <th>Item Type</th>\n",
       "    </tr>\n",
       "  </thead>\n",
       "  <tbody>\n",
       "    <tr>\n",
       "      <th>0</th>\n",
       "      <td>Handicapped Hand Tricycle</td>\n",
       "      <td>100000.0</td>\n",
       "      <td>Article</td>\n",
       "    </tr>\n",
       "    <tr>\n",
       "      <th>1</th>\n",
       "      <td>Fixed Wheel Chair</td>\n",
       "      <td>20500.0</td>\n",
       "      <td>Article</td>\n",
       "    </tr>\n",
       "    <tr>\n",
       "      <th>2</th>\n",
       "      <td>Wheelchair</td>\n",
       "      <td>20500.0</td>\n",
       "      <td>Article</td>\n",
       "    </tr>\n",
       "    <tr>\n",
       "      <th>3</th>\n",
       "      <td>Handicapped Scooter</td>\n",
       "      <td>20500.0</td>\n",
       "      <td>Article</td>\n",
       "    </tr>\n",
       "    <tr>\n",
       "      <th>4</th>\n",
       "      <td>Two Wheeler</td>\n",
       "      <td>20500.0</td>\n",
       "      <td>Article</td>\n",
       "    </tr>\n",
       "    <tr>\n",
       "      <th>...</th>\n",
       "      <td>...</td>\n",
       "      <td>...</td>\n",
       "      <td>...</td>\n",
       "    </tr>\n",
       "    <tr>\n",
       "      <th>65</th>\n",
       "      <td>Sewing Machine Heavy</td>\n",
       "      <td>20500.0</td>\n",
       "      <td>Article</td>\n",
       "    </tr>\n",
       "    <tr>\n",
       "      <th>66</th>\n",
       "      <td>Sewing Machine ORD / Motor</td>\n",
       "      <td>20500.0</td>\n",
       "      <td>Article</td>\n",
       "    </tr>\n",
       "    <tr>\n",
       "      <th>67</th>\n",
       "      <td>Sewing Machine ORD</td>\n",
       "      <td>20500.0</td>\n",
       "      <td>Article</td>\n",
       "    </tr>\n",
       "    <tr>\n",
       "      <th>68</th>\n",
       "      <td>Gents Cycle</td>\n",
       "      <td>20500.0</td>\n",
       "      <td>Article</td>\n",
       "    </tr>\n",
       "    <tr>\n",
       "      <th>69</th>\n",
       "      <td>Girls Cycle</td>\n",
       "      <td>5000.0</td>\n",
       "      <td>Article</td>\n",
       "    </tr>\n",
       "  </tbody>\n",
       "</table>\n",
       "<p>70 rows × 3 columns</p>\n",
       "</div>"
      ]
     },
     "execution_count": 4,
     "metadata": {},
     "output_type": "execute_result"
    }
   ],
   "execution_count": 4
  },
  {
   "metadata": {
    "ExecuteTime": {
     "end_time": "2025-01-27T13:16:58.554674Z",
     "start_time": "2025-01-27T13:16:58.294109Z"
    }
   },
   "cell_type": "code",
   "source": [
    "import io\n",
    "import json\n",
    "import streamlit as st\n",
    "import pandas as pd\n",
    "import os\n",
    "from pydrive2.auth import GoogleAuth\n",
    "from pydrive2.drive import GoogleDrive\n",
    "from googleapiclient.http import MediaFileUpload, MediaIoBaseUpload, MediaIoBaseDownload\n",
    "from googleapiclient.discovery import build\n",
    "from google.oauth2 import service_account\n",
    "import streamlit_authenticator as stauth\n",
    "import yaml\n",
    "import time\n",
    "from yaml.loader import SafeLoader\n",
    "\n",
    "master_data_id = \"1ry614-7R4-s0uQcv0zrNeS4O0KAbhVEC67rl5_VllGI\"  # Replace with your file's ID\n",
    "article_data_id = \"1b7eyqlN3lTapBRYcO1VrXGsj_gBVSxQLIyLCPu3UcG8\"\n",
    "district_data_id = \"1lwJL-_KQaOY3VSd2cOeOdiR5QOn8yvX3zp6xNfQJo9U\"\n",
    "public_data_id = \"1sO08BfwN1gzNs_N7XDq1RnqMgJDDKMdq_nsaNhmjKhs\"\n",
    "\n",
    "## Access API from local json\n",
    "creds = service_account.Credentials.from_service_account_file('/Users/aswathshakthi/PycharmProjects/MNP25/mnpdatabase-ca1a93fefdd6.json',\n",
    "        scopes=['https://www.googleapis.com/auth/drive'])\n",
    "\n",
    "## Access via streamlit secrets\n",
    "credentials_dict = json.loads(st.secrets[\"gcp\"][\"credentials\"])\n",
    "# creds = service_account.Credentials.from_service_account_info(credentials_dict, scopes=['https://www.googleapis.com/auth/drive'])\n",
    "drive_service = build('drive', 'v3', credentials=creds)\n"
   ],
   "id": "3555ea0e51f059e0",
   "outputs": [
    {
     "name": "stderr",
     "output_type": "stream",
     "text": [
      "2025-01-27 18:46:58.400 WARNING streamlit.runtime.scriptrunner_utils.script_run_context: Thread 'MainThread': missing ScriptRunContext! This warning can be ignored when running in bare mode.\n",
      "2025-01-27 18:46:58.404 WARNING streamlit.runtime.scriptrunner_utils.script_run_context: Thread 'MainThread': missing ScriptRunContext! This warning can be ignored when running in bare mode.\n",
      "2025-01-27 18:46:58.406 WARNING streamlit.runtime.scriptrunner_utils.script_run_context: Thread 'MainThread': missing ScriptRunContext! This warning can be ignored when running in bare mode.\n",
      "2025-01-27 18:46:58.408 WARNING streamlit.runtime.scriptrunner_utils.script_run_context: Thread 'MainThread': missing ScriptRunContext! This warning can be ignored when running in bare mode.\n",
      "/Users/aswathshakthi/PycharmProjects/MNP25/venv/lib/python3.9/site-packages/urllib3/__init__.py:35: NotOpenSSLWarning: urllib3 v2 only supports OpenSSL 1.1.1+, currently the 'ssl' module is compiled with 'LibreSSL 2.8.3'. See: https://github.com/urllib3/urllib3/issues/3020\n",
      "  warnings.warn(\n"
     ]
    }
   ],
   "execution_count": 5
  },
  {
   "metadata": {
    "ExecuteTime": {
     "end_time": "2025-01-27T13:17:02.459718Z",
     "start_time": "2025-01-27T13:17:02.455255Z"
    }
   },
   "cell_type": "code",
   "source": [
    "def read_file(file_id):\n",
    "    try:\n",
    "        # Specify the desired MIME type for export (e.g., text/csv for Sheets)\n",
    "        request = drive_service.files().export_media(\n",
    "            fileId=file_id,\n",
    "            mimeType='text/csv'  # Change this based on the file type\n",
    "        )\n",
    "        file_stream = io.BytesIO()\n",
    "        downloader = MediaIoBaseDownload(file_stream, request)\n",
    "\n",
    "        done = False\n",
    "        while not done:\n",
    "            status, done = downloader.next_chunk()\n",
    "            print(f\"Download progress: {int(status.progress() * 100)}%\")\n",
    "\n",
    "        file_stream.seek(0)  # Reset the stream position\n",
    "        df = pd.read_csv(file_stream)\n",
    "        return df\n",
    "\n",
    "    except Exception as e:\n",
    "        st.error(f\"Failed to read file: {e}\")"
   ],
   "id": "b91383a2f14f9e9c",
   "outputs": [],
   "execution_count": 6
  },
  {
   "metadata": {
    "ExecuteTime": {
     "end_time": "2025-01-27T13:17:03.277144Z",
     "start_time": "2025-01-27T13:17:03.272537Z"
    }
   },
   "cell_type": "code",
   "source": [
    "\n",
    "\n",
    "def update_file(file_id, updated_df):\n",
    "    updated_stream = io.BytesIO()\n",
    "    updated_df.to_csv(updated_stream, index=False)\n",
    "    updated_stream.seek(0)\n",
    "\n",
    "    media = MediaIoBaseUpload(updated_stream, mimetype=\"text/csv\")\n",
    "    updated_file = drive_service.files().update(\n",
    "        fileId=file_id,\n",
    "        media_body=media).execute()\n",
    "\n",
    "    alert1 = st.success(f\"File updated: {updated_file.get('id')}\")\n",
    "    time.sleep(1)\n",
    "    alert1.empty()"
   ],
   "id": "7e0f53c1dfd3e919",
   "outputs": [],
   "execution_count": 7
  },
  {
   "metadata": {
    "ExecuteTime": {
     "end_time": "2025-01-27T13:17:04.151133Z",
     "start_time": "2025-01-27T13:17:04.147443Z"
    }
   },
   "cell_type": "code",
   "source": [
    "a = [\"P 001\", \"P 002\", \"P 003\", \"P 004\", \"P555\", \"P 006\"]\n",
    "ab = int(a[0].split(\" \")[1])\n",
    "f\"P {ab+1:03d}\""
   ],
   "id": "93be78d70f49cdf7",
   "outputs": [
    {
     "data": {
      "text/plain": [
       "'P 002'"
      ]
     },
     "execution_count": 8,
     "metadata": {},
     "output_type": "execute_result"
    }
   ],
   "execution_count": 8
  },
  {
   "metadata": {
    "ExecuteTime": {
     "end_time": "2025-01-27T13:17:07.924018Z",
     "start_time": "2025-01-27T13:17:04.975073Z"
    }
   },
   "cell_type": "code",
   "source": [
    "public_master_id = \"1EdEySmYe6ZJUW16f65_q30nkqfbvDADjcmEkAEJrrL4\"\n",
    "\n",
    "public = read_file(public_data_id)\n",
    "public_master = read_file(public_master_id)\n",
    "public_master"
   ],
   "id": "2e75ae83fbed6c32",
   "outputs": [
    {
     "name": "stdout",
     "output_type": "stream",
     "text": [
      "Download progress: 100%\n",
      "Download progress: 100%\n"
     ]
    },
    {
     "data": {
      "text/plain": [
       "  App. No.      Name  Aadhar (Without Space) Handicapped (Yes / No)  Address  \\\n",
       "0    P 001    Aswath                   11111                     No      NaN   \n",
       "1    P 002   Shakthi                   22222                     No      NaN   \n",
       "2    P 003  John Doe                   33333                     No      NaN   \n",
       "3    P 004     Smith                   44444                     No      NaN   \n",
       "4    P 005    Andrew                    3636                     No      NaN   \n",
       "\n",
       "   Mobile                 Article Name Comments  \n",
       "0     NaN    Handicapped Hand Tricycle      NaN  \n",
       "1     NaN         Weed Cutting Machine      NaN  \n",
       "2     NaN         Weed Cutting Machine      NaN  \n",
       "3     NaN         Weed Cutting Machine      NaN  \n",
       "4     NaN  Education Aid for Adhithyan     help  "
      ],
      "text/html": [
       "<div>\n",
       "<style scoped>\n",
       "    .dataframe tbody tr th:only-of-type {\n",
       "        vertical-align: middle;\n",
       "    }\n",
       "\n",
       "    .dataframe tbody tr th {\n",
       "        vertical-align: top;\n",
       "    }\n",
       "\n",
       "    .dataframe thead th {\n",
       "        text-align: right;\n",
       "    }\n",
       "</style>\n",
       "<table border=\"1\" class=\"dataframe\">\n",
       "  <thead>\n",
       "    <tr style=\"text-align: right;\">\n",
       "      <th></th>\n",
       "      <th>App. No.</th>\n",
       "      <th>Name</th>\n",
       "      <th>Aadhar (Without Space)</th>\n",
       "      <th>Handicapped (Yes / No)</th>\n",
       "      <th>Address</th>\n",
       "      <th>Mobile</th>\n",
       "      <th>Article Name</th>\n",
       "      <th>Comments</th>\n",
       "    </tr>\n",
       "  </thead>\n",
       "  <tbody>\n",
       "    <tr>\n",
       "      <th>0</th>\n",
       "      <td>P 001</td>\n",
       "      <td>Aswath</td>\n",
       "      <td>11111</td>\n",
       "      <td>No</td>\n",
       "      <td>NaN</td>\n",
       "      <td>NaN</td>\n",
       "      <td>Handicapped Hand Tricycle</td>\n",
       "      <td>NaN</td>\n",
       "    </tr>\n",
       "    <tr>\n",
       "      <th>1</th>\n",
       "      <td>P 002</td>\n",
       "      <td>Shakthi</td>\n",
       "      <td>22222</td>\n",
       "      <td>No</td>\n",
       "      <td>NaN</td>\n",
       "      <td>NaN</td>\n",
       "      <td>Weed Cutting Machine</td>\n",
       "      <td>NaN</td>\n",
       "    </tr>\n",
       "    <tr>\n",
       "      <th>2</th>\n",
       "      <td>P 003</td>\n",
       "      <td>John Doe</td>\n",
       "      <td>33333</td>\n",
       "      <td>No</td>\n",
       "      <td>NaN</td>\n",
       "      <td>NaN</td>\n",
       "      <td>Weed Cutting Machine</td>\n",
       "      <td>NaN</td>\n",
       "    </tr>\n",
       "    <tr>\n",
       "      <th>3</th>\n",
       "      <td>P 004</td>\n",
       "      <td>Smith</td>\n",
       "      <td>44444</td>\n",
       "      <td>No</td>\n",
       "      <td>NaN</td>\n",
       "      <td>NaN</td>\n",
       "      <td>Weed Cutting Machine</td>\n",
       "      <td>NaN</td>\n",
       "    </tr>\n",
       "    <tr>\n",
       "      <th>4</th>\n",
       "      <td>P 005</td>\n",
       "      <td>Andrew</td>\n",
       "      <td>3636</td>\n",
       "      <td>No</td>\n",
       "      <td>NaN</td>\n",
       "      <td>NaN</td>\n",
       "      <td>Education Aid for Adhithyan</td>\n",
       "      <td>help</td>\n",
       "    </tr>\n",
       "  </tbody>\n",
       "</table>\n",
       "</div>"
      ]
     },
     "execution_count": 9,
     "metadata": {},
     "output_type": "execute_result"
    }
   ],
   "execution_count": 9
  },
  {
   "metadata": {
    "ExecuteTime": {
     "end_time": "2025-01-27T13:17:11.900189Z",
     "start_time": "2025-01-27T13:17:11.896543Z"
    }
   },
   "cell_type": "code",
   "source": [
    "app_no = \"P 001\"\n",
    "if app_no in public_master[\"App. No.\"].values:\n",
    "    print(\"Application Number already exists in the database.\")"
   ],
   "id": "c44942e80a2c9652",
   "outputs": [
    {
     "name": "stdout",
     "output_type": "stream",
     "text": [
      "Application Number already exists in the database.\n"
     ]
    }
   ],
   "execution_count": 10
  },
  {
   "metadata": {
    "ExecuteTime": {
     "end_time": "2025-01-27T13:17:42.360567Z",
     "start_time": "2025-01-27T13:17:42.358172Z"
    }
   },
   "cell_type": "code",
   "source": [
    "\n",
    "aadhar = \"111\""
   ],
   "id": "2e21ed808f8ffbec",
   "outputs": [],
   "execution_count": 11
  },
  {
   "metadata": {
    "ExecuteTime": {
     "end_time": "2025-01-27T13:17:44.656052Z",
     "start_time": "2025-01-27T13:17:44.652940Z"
    }
   },
   "cell_type": "code",
   "source": [
    "public_master.loc[public_master[\"App. No.\"] == app_no, \"Aadhar (Without Space)\"] = aadhar\n",
    "\n",
    "public_master.loc[public_master[\"App. No.\"] == app_no, \"Aadhar (Without Space)\"] = aadhar"
   ],
   "id": "37e6700d7246be33",
   "outputs": [
    {
     "name": "stderr",
     "output_type": "stream",
     "text": [
      "/var/folders/v_/00jh03xj7ln1tm7xb4vvnwg40000gn/T/ipykernel_2593/650202637.py:1: FutureWarning: Setting an item of incompatible dtype is deprecated and will raise an error in a future version of pandas. Value '111' has dtype incompatible with int64, please explicitly cast to a compatible dtype first.\n",
      "  public_master.loc[public_master[\"App. No.\"] == app_no, \"Aadhar (Without Space)\"] = aadhar\n"
     ]
    }
   ],
   "execution_count": 12
  },
  {
   "metadata": {
    "ExecuteTime": {
     "end_time": "2025-01-27T13:19:41.465602Z",
     "start_time": "2025-01-27T13:19:41.457866Z"
    }
   },
   "cell_type": "code",
   "source": "public_master\n",
   "id": "8d7d83c21af67b7",
   "outputs": [
    {
     "data": {
      "text/plain": [
       "  App. No.      Name Aadhar (Without Space) Handicapped (Yes / No)  Address  \\\n",
       "0    P 001    Aswath                    111                     No      NaN   \n",
       "1    P 002   Shakthi                  22222                     No      NaN   \n",
       "2    P 003  John Doe                  33333                     No      NaN   \n",
       "3    P 004     Smith                  44444                     No      NaN   \n",
       "4    P 005    Andrew                   3636                     No      NaN   \n",
       "\n",
       "   Mobile                 Article Name Comments  \n",
       "0     NaN    Handicapped Hand Tricycle      NaN  \n",
       "1     NaN         Weed Cutting Machine      NaN  \n",
       "2     NaN         Weed Cutting Machine      NaN  \n",
       "3     NaN         Weed Cutting Machine      NaN  \n",
       "4     NaN  Education Aid for Adhithyan     help  "
      ],
      "text/html": [
       "<div>\n",
       "<style scoped>\n",
       "    .dataframe tbody tr th:only-of-type {\n",
       "        vertical-align: middle;\n",
       "    }\n",
       "\n",
       "    .dataframe tbody tr th {\n",
       "        vertical-align: top;\n",
       "    }\n",
       "\n",
       "    .dataframe thead th {\n",
       "        text-align: right;\n",
       "    }\n",
       "</style>\n",
       "<table border=\"1\" class=\"dataframe\">\n",
       "  <thead>\n",
       "    <tr style=\"text-align: right;\">\n",
       "      <th></th>\n",
       "      <th>App. No.</th>\n",
       "      <th>Name</th>\n",
       "      <th>Aadhar (Without Space)</th>\n",
       "      <th>Handicapped (Yes / No)</th>\n",
       "      <th>Address</th>\n",
       "      <th>Mobile</th>\n",
       "      <th>Article Name</th>\n",
       "      <th>Comments</th>\n",
       "    </tr>\n",
       "  </thead>\n",
       "  <tbody>\n",
       "    <tr>\n",
       "      <th>0</th>\n",
       "      <td>P 001</td>\n",
       "      <td>Aswath</td>\n",
       "      <td>111</td>\n",
       "      <td>No</td>\n",
       "      <td>NaN</td>\n",
       "      <td>NaN</td>\n",
       "      <td>Handicapped Hand Tricycle</td>\n",
       "      <td>NaN</td>\n",
       "    </tr>\n",
       "    <tr>\n",
       "      <th>1</th>\n",
       "      <td>P 002</td>\n",
       "      <td>Shakthi</td>\n",
       "      <td>22222</td>\n",
       "      <td>No</td>\n",
       "      <td>NaN</td>\n",
       "      <td>NaN</td>\n",
       "      <td>Weed Cutting Machine</td>\n",
       "      <td>NaN</td>\n",
       "    </tr>\n",
       "    <tr>\n",
       "      <th>2</th>\n",
       "      <td>P 003</td>\n",
       "      <td>John Doe</td>\n",
       "      <td>33333</td>\n",
       "      <td>No</td>\n",
       "      <td>NaN</td>\n",
       "      <td>NaN</td>\n",
       "      <td>Weed Cutting Machine</td>\n",
       "      <td>NaN</td>\n",
       "    </tr>\n",
       "    <tr>\n",
       "      <th>3</th>\n",
       "      <td>P 004</td>\n",
       "      <td>Smith</td>\n",
       "      <td>44444</td>\n",
       "      <td>No</td>\n",
       "      <td>NaN</td>\n",
       "      <td>NaN</td>\n",
       "      <td>Weed Cutting Machine</td>\n",
       "      <td>NaN</td>\n",
       "    </tr>\n",
       "    <tr>\n",
       "      <th>4</th>\n",
       "      <td>P 005</td>\n",
       "      <td>Andrew</td>\n",
       "      <td>3636</td>\n",
       "      <td>No</td>\n",
       "      <td>NaN</td>\n",
       "      <td>NaN</td>\n",
       "      <td>Education Aid for Adhithyan</td>\n",
       "      <td>help</td>\n",
       "    </tr>\n",
       "  </tbody>\n",
       "</table>\n",
       "</div>"
      ]
     },
     "execution_count": 13,
     "metadata": {},
     "output_type": "execute_result"
    }
   ],
   "execution_count": 13
  },
  {
   "metadata": {},
   "cell_type": "code",
   "outputs": [],
   "execution_count": null,
   "source": "",
   "id": "e03fb2ef8ed9ed6a"
  }
 ],
 "metadata": {
  "kernelspec": {
   "display_name": "Python 3",
   "language": "python",
   "name": "python3"
  },
  "language_info": {
   "codemirror_mode": {
    "name": "ipython",
    "version": 2
   },
   "file_extension": ".py",
   "mimetype": "text/x-python",
   "name": "python",
   "nbconvert_exporter": "python",
   "pygments_lexer": "ipython2",
   "version": "2.7.6"
  }
 },
 "nbformat": 4,
 "nbformat_minor": 5
}
